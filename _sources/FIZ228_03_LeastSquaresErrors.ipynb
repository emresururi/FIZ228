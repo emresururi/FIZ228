{
 "cells": [
  {
   "cell_type": "markdown",
   "id": "0e851565",
   "metadata": {},
   "source": [
    "# Least Squares Method & Error Estimations\n",
    "**FIZ228 - Numerical Analysis**  \n",
    "Dr. Emre S. Tasci, Hacettepe University"
   ]
  },
  {
   "cell_type": "markdown",
   "id": "af056bc6",
   "metadata": {},
   "source": [
    "```{note}\n",
    "This lecture is heavily benefited from Steven Chapra's [Applied Numerical Methods with MATLAB: for Engineers & Scientists](https://www.mheducation.com/highered/product/applied-numerical-methods-matlab-engineers-scientists-chapra/M9780073397962.html).\n",
    "```\n",
    "\n",
    "# Data & Import\n",
    "The free-fall data we will be using is taken from: D. Horvat & R. Jecmenica, \"The Free Fall Experiment\" _Resonance_ **21** 259-275 (2016) [\\[https://doi.org/10.1007/s12045-016-0321-9\\]](https://doi.org/10.1007/s12045-016-0321-9).\n",
    "\n",
    "![03_FreeFallData.png](imgs/03_FreeFallData.png)\n",
    "\n",
    "Here's the content of our data file:"
   ]
  },
  {
   "cell_type": "markdown",
   "id": "25357906",
   "metadata": {},
   "source": [
    "```\n",
    "Vert.dist. y/m,0.2,0.7,0.8,1.2,1.3,1.8\n",
    ",t/s,t/s,t/s,t/s,t/s,t/s\n",
    "1,0.20188,0.37775,0.40391,0.49475,0.51501,0.60603\n",
    "2,0.20197,0.37779,0.40397,0.49464,0.51491,0.60610\n",
    "3,0.20193,0.37770,0.40391,0.49480,0.51496,0.60610\n",
    "4,0.20193,0.37779,0.40386,0.49476,0.51495,0.60608\n",
    "5,0.20194,0.37779,0.40381,0.49478,0.51492,0.60605\n",
    "6,0.20181,0.37780,0.40386,0.49469,0.51495,0.60612\n",
    "7,0.20181,0.37773,0.40390,0.49463,0.51507,0.60601\n",
    "8,0.20196,0.37774,0.40391,0.49466,0.51494,0.60606\n",
    "9,0.20195,0.37774,0.40389,0.49462,0.51506,0.60613\n",
    "10,0.20182,0.37776,0.40380,0.49474,0.51506,0.60603\n",
    "<t>/s,0.20190,0.37776,0.40388,0.49471,0.51498,0.60607\n",
    "```\n",
    "\n",
    "{download}`03_FreeFallData.csv<data/03_FreeFallData.csv>`"
   ]
  },
  {
   "cell_type": "code",
   "execution_count": 1,
   "id": "35a17572",
   "metadata": {},
   "outputs": [
    {
     "data": {
      "text/html": [
       "<div>\n",
       "<style scoped>\n",
       "    .dataframe tbody tr th:only-of-type {\n",
       "        vertical-align: middle;\n",
       "    }\n",
       "\n",
       "    .dataframe tbody tr th {\n",
       "        vertical-align: top;\n",
       "    }\n",
       "\n",
       "    .dataframe thead th {\n",
       "        text-align: right;\n",
       "    }\n",
       "</style>\n",
       "<table border=\"1\" class=\"dataframe\">\n",
       "  <thead>\n",
       "    <tr style=\"text-align: right;\">\n",
       "      <th></th>\n",
       "      <th>Vert.dist. y/m</th>\n",
       "      <th>0.2</th>\n",
       "      <th>0.7</th>\n",
       "      <th>0.8</th>\n",
       "      <th>1.2</th>\n",
       "      <th>1.3</th>\n",
       "      <th>1.8</th>\n",
       "    </tr>\n",
       "  </thead>\n",
       "  <tbody>\n",
       "    <tr>\n",
       "      <th>0</th>\n",
       "      <td>NaN</td>\n",
       "      <td>t/s</td>\n",
       "      <td>t/s</td>\n",
       "      <td>t/s</td>\n",
       "      <td>t/s</td>\n",
       "      <td>t/s</td>\n",
       "      <td>t/s</td>\n",
       "    </tr>\n",
       "    <tr>\n",
       "      <th>1</th>\n",
       "      <td>1</td>\n",
       "      <td>0.20188</td>\n",
       "      <td>0.37775</td>\n",
       "      <td>0.40391</td>\n",
       "      <td>0.49475</td>\n",
       "      <td>0.51501</td>\n",
       "      <td>0.60603</td>\n",
       "    </tr>\n",
       "    <tr>\n",
       "      <th>2</th>\n",
       "      <td>2</td>\n",
       "      <td>0.20197</td>\n",
       "      <td>0.37779</td>\n",
       "      <td>0.40397</td>\n",
       "      <td>0.49464</td>\n",
       "      <td>0.51491</td>\n",
       "      <td>0.60610</td>\n",
       "    </tr>\n",
       "    <tr>\n",
       "      <th>3</th>\n",
       "      <td>3</td>\n",
       "      <td>0.20193</td>\n",
       "      <td>0.37770</td>\n",
       "      <td>0.40391</td>\n",
       "      <td>0.49480</td>\n",
       "      <td>0.51496</td>\n",
       "      <td>0.60610</td>\n",
       "    </tr>\n",
       "    <tr>\n",
       "      <th>4</th>\n",
       "      <td>4</td>\n",
       "      <td>0.20193</td>\n",
       "      <td>0.37779</td>\n",
       "      <td>0.40386</td>\n",
       "      <td>0.49476</td>\n",
       "      <td>0.51495</td>\n",
       "      <td>0.60608</td>\n",
       "    </tr>\n",
       "    <tr>\n",
       "      <th>5</th>\n",
       "      <td>5</td>\n",
       "      <td>0.20194</td>\n",
       "      <td>0.37779</td>\n",
       "      <td>0.40381</td>\n",
       "      <td>0.49478</td>\n",
       "      <td>0.51492</td>\n",
       "      <td>0.60605</td>\n",
       "    </tr>\n",
       "    <tr>\n",
       "      <th>6</th>\n",
       "      <td>6</td>\n",
       "      <td>0.20181</td>\n",
       "      <td>0.37780</td>\n",
       "      <td>0.40386</td>\n",
       "      <td>0.49469</td>\n",
       "      <td>0.51495</td>\n",
       "      <td>0.60612</td>\n",
       "    </tr>\n",
       "    <tr>\n",
       "      <th>7</th>\n",
       "      <td>7</td>\n",
       "      <td>0.20181</td>\n",
       "      <td>0.37773</td>\n",
       "      <td>0.40390</td>\n",
       "      <td>0.49463</td>\n",
       "      <td>0.51507</td>\n",
       "      <td>0.60601</td>\n",
       "    </tr>\n",
       "    <tr>\n",
       "      <th>8</th>\n",
       "      <td>8</td>\n",
       "      <td>0.20196</td>\n",
       "      <td>0.37774</td>\n",
       "      <td>0.40391</td>\n",
       "      <td>0.49466</td>\n",
       "      <td>0.51494</td>\n",
       "      <td>0.60606</td>\n",
       "    </tr>\n",
       "    <tr>\n",
       "      <th>9</th>\n",
       "      <td>9</td>\n",
       "      <td>0.20195</td>\n",
       "      <td>0.37774</td>\n",
       "      <td>0.40389</td>\n",
       "      <td>0.49462</td>\n",
       "      <td>0.51506</td>\n",
       "      <td>0.60613</td>\n",
       "    </tr>\n",
       "    <tr>\n",
       "      <th>10</th>\n",
       "      <td>10</td>\n",
       "      <td>0.20182</td>\n",
       "      <td>0.37776</td>\n",
       "      <td>0.40380</td>\n",
       "      <td>0.49474</td>\n",
       "      <td>0.51506</td>\n",
       "      <td>0.60603</td>\n",
       "    </tr>\n",
       "    <tr>\n",
       "      <th>11</th>\n",
       "      <td>&lt;t&gt;/s</td>\n",
       "      <td>0.20190</td>\n",
       "      <td>0.37776</td>\n",
       "      <td>0.40388</td>\n",
       "      <td>0.49471</td>\n",
       "      <td>0.51498</td>\n",
       "      <td>0.60607</td>\n",
       "    </tr>\n",
       "  </tbody>\n",
       "</table>\n",
       "</div>"
      ],
      "text/plain": [
       "   Vert.dist. y/m      0.2      0.7      0.8      1.2      1.3      1.8\n",
       "0             NaN      t/s      t/s      t/s      t/s      t/s      t/s\n",
       "1               1  0.20188  0.37775  0.40391  0.49475  0.51501  0.60603\n",
       "2               2  0.20197  0.37779  0.40397  0.49464  0.51491  0.60610\n",
       "3               3  0.20193  0.37770  0.40391  0.49480  0.51496  0.60610\n",
       "4               4  0.20193  0.37779  0.40386  0.49476  0.51495  0.60608\n",
       "5               5  0.20194  0.37779  0.40381  0.49478  0.51492  0.60605\n",
       "6               6  0.20181  0.37780  0.40386  0.49469  0.51495  0.60612\n",
       "7               7  0.20181  0.37773  0.40390  0.49463  0.51507  0.60601\n",
       "8               8  0.20196  0.37774  0.40391  0.49466  0.51494  0.60606\n",
       "9               9  0.20195  0.37774  0.40389  0.49462  0.51506  0.60613\n",
       "10             10  0.20182  0.37776  0.40380  0.49474  0.51506  0.60603\n",
       "11          <t>/s  0.20190  0.37776  0.40388  0.49471  0.51498  0.60607"
      ]
     },
     "execution_count": 1,
     "metadata": {},
     "output_type": "execute_result"
    }
   ],
   "source": [
    "import pandas as pd\n",
    "data1 = pd.read_csv(\"data/03_FreeFallData.csv\")\n",
    "data1.columns\n",
    "data1"
   ]
  },
  {
   "cell_type": "markdown",
   "id": "1746fddd",
   "metadata": {},
   "source": [
    "We don't need the first row and first column, so let's remove them via [pandas.DataFrame.drop](https://pandas.pydata.org/pandas-docs/stable/reference/api/pandas.DataFrame.drop.html):"
   ]
  },
  {
   "cell_type": "code",
   "execution_count": 2,
   "id": "3ae8fbdc",
   "metadata": {},
   "outputs": [
    {
     "data": {
      "text/html": [
       "<div>\n",
       "<style scoped>\n",
       "    .dataframe tbody tr th:only-of-type {\n",
       "        vertical-align: middle;\n",
       "    }\n",
       "\n",
       "    .dataframe tbody tr th {\n",
       "        vertical-align: top;\n",
       "    }\n",
       "\n",
       "    .dataframe thead th {\n",
       "        text-align: right;\n",
       "    }\n",
       "</style>\n",
       "<table border=\"1\" class=\"dataframe\">\n",
       "  <thead>\n",
       "    <tr style=\"text-align: right;\">\n",
       "      <th></th>\n",
       "      <th>0.2</th>\n",
       "      <th>0.7</th>\n",
       "      <th>0.8</th>\n",
       "      <th>1.2</th>\n",
       "      <th>1.3</th>\n",
       "      <th>1.8</th>\n",
       "    </tr>\n",
       "  </thead>\n",
       "  <tbody>\n",
       "    <tr>\n",
       "      <th>1</th>\n",
       "      <td>0.20188</td>\n",
       "      <td>0.37775</td>\n",
       "      <td>0.40391</td>\n",
       "      <td>0.49475</td>\n",
       "      <td>0.51501</td>\n",
       "      <td>0.60603</td>\n",
       "    </tr>\n",
       "    <tr>\n",
       "      <th>2</th>\n",
       "      <td>0.20197</td>\n",
       "      <td>0.37779</td>\n",
       "      <td>0.40397</td>\n",
       "      <td>0.49464</td>\n",
       "      <td>0.51491</td>\n",
       "      <td>0.60610</td>\n",
       "    </tr>\n",
       "    <tr>\n",
       "      <th>3</th>\n",
       "      <td>0.20193</td>\n",
       "      <td>0.37770</td>\n",
       "      <td>0.40391</td>\n",
       "      <td>0.49480</td>\n",
       "      <td>0.51496</td>\n",
       "      <td>0.60610</td>\n",
       "    </tr>\n",
       "    <tr>\n",
       "      <th>4</th>\n",
       "      <td>0.20193</td>\n",
       "      <td>0.37779</td>\n",
       "      <td>0.40386</td>\n",
       "      <td>0.49476</td>\n",
       "      <td>0.51495</td>\n",
       "      <td>0.60608</td>\n",
       "    </tr>\n",
       "    <tr>\n",
       "      <th>5</th>\n",
       "      <td>0.20194</td>\n",
       "      <td>0.37779</td>\n",
       "      <td>0.40381</td>\n",
       "      <td>0.49478</td>\n",
       "      <td>0.51492</td>\n",
       "      <td>0.60605</td>\n",
       "    </tr>\n",
       "    <tr>\n",
       "      <th>6</th>\n",
       "      <td>0.20181</td>\n",
       "      <td>0.37780</td>\n",
       "      <td>0.40386</td>\n",
       "      <td>0.49469</td>\n",
       "      <td>0.51495</td>\n",
       "      <td>0.60612</td>\n",
       "    </tr>\n",
       "    <tr>\n",
       "      <th>7</th>\n",
       "      <td>0.20181</td>\n",
       "      <td>0.37773</td>\n",
       "      <td>0.40390</td>\n",
       "      <td>0.49463</td>\n",
       "      <td>0.51507</td>\n",
       "      <td>0.60601</td>\n",
       "    </tr>\n",
       "    <tr>\n",
       "      <th>8</th>\n",
       "      <td>0.20196</td>\n",
       "      <td>0.37774</td>\n",
       "      <td>0.40391</td>\n",
       "      <td>0.49466</td>\n",
       "      <td>0.51494</td>\n",
       "      <td>0.60606</td>\n",
       "    </tr>\n",
       "    <tr>\n",
       "      <th>9</th>\n",
       "      <td>0.20195</td>\n",
       "      <td>0.37774</td>\n",
       "      <td>0.40389</td>\n",
       "      <td>0.49462</td>\n",
       "      <td>0.51506</td>\n",
       "      <td>0.60613</td>\n",
       "    </tr>\n",
       "    <tr>\n",
       "      <th>10</th>\n",
       "      <td>0.20182</td>\n",
       "      <td>0.37776</td>\n",
       "      <td>0.40380</td>\n",
       "      <td>0.49474</td>\n",
       "      <td>0.51506</td>\n",
       "      <td>0.60603</td>\n",
       "    </tr>\n",
       "  </tbody>\n",
       "</table>\n",
       "</div>"
      ],
      "text/plain": [
       "        0.2      0.7      0.8      1.2      1.3      1.8\n",
       "1   0.20188  0.37775  0.40391  0.49475  0.51501  0.60603\n",
       "2   0.20197  0.37779  0.40397  0.49464  0.51491  0.60610\n",
       "3   0.20193  0.37770  0.40391  0.49480  0.51496  0.60610\n",
       "4   0.20193  0.37779  0.40386  0.49476  0.51495  0.60608\n",
       "5   0.20194  0.37779  0.40381  0.49478  0.51492  0.60605\n",
       "6   0.20181  0.37780  0.40386  0.49469  0.51495  0.60612\n",
       "7   0.20181  0.37773  0.40390  0.49463  0.51507  0.60601\n",
       "8   0.20196  0.37774  0.40391  0.49466  0.51494  0.60606\n",
       "9   0.20195  0.37774  0.40389  0.49462  0.51506  0.60613\n",
       "10  0.20182  0.37776  0.40380  0.49474  0.51506  0.60603"
      ]
     },
     "execution_count": 2,
     "metadata": {},
     "output_type": "execute_result"
    }
   ],
   "source": [
    "data1.drop(0, inplace=True)\n",
    "data1.drop(11, inplace=True)\n",
    "data1.drop(['Vert.dist. y/m'],axis=1, inplace=True)\n",
    "data1"
   ]
  },
  {
   "cell_type": "markdown",
   "id": "78f48c08",
   "metadata": {},
   "source": [
    "Be careful that the data have been imported as string (due to the first row initially being formed of strings 8P ):"
   ]
  },
  {
   "cell_type": "code",
   "execution_count": 3,
   "id": "e79b7643",
   "metadata": {},
   "outputs": [
    {
     "data": {
      "text/plain": [
       "'0.37779'"
      ]
     },
     "execution_count": 3,
     "metadata": {},
     "output_type": "execute_result"
    }
   ],
   "source": [
    "data1.loc[2,\"0.7\"]"
   ]
  },
  {
   "cell_type": "code",
   "execution_count": 4,
   "id": "fee3b071",
   "metadata": {},
   "outputs": [
    {
     "data": {
      "text/plain": [
       "str"
      ]
     },
     "execution_count": 4,
     "metadata": {},
     "output_type": "execute_result"
    }
   ],
   "source": [
    "type(data1.loc[2,\"0.7\"])"
   ]
  },
  {
   "cell_type": "code",
   "execution_count": 5,
   "id": "79607b83",
   "metadata": {},
   "outputs": [
    {
     "data": {
      "text/plain": [
       "0.2    object\n",
       "0.7    object\n",
       "0.8    object\n",
       "1.2    object\n",
       "1.3    object\n",
       "1.8    object\n",
       "dtype: object"
      ]
     },
     "execution_count": 5,
     "metadata": {},
     "output_type": "execute_result"
    }
   ],
   "source": [
    "data1.dtypes"
   ]
  },
  {
   "cell_type": "markdown",
   "id": "269906db",
   "metadata": {},
   "source": [
    "So, let's set them all to float:"
   ]
  },
  {
   "cell_type": "code",
   "execution_count": 6,
   "id": "d1d72136",
   "metadata": {},
   "outputs": [
    {
     "data": {
      "text/plain": [
       "0.2    float64\n",
       "0.7    float64\n",
       "0.8    float64\n",
       "1.2    float64\n",
       "1.3    float64\n",
       "1.8    float64\n",
       "dtype: object"
      ]
     },
     "execution_count": 6,
     "metadata": {},
     "output_type": "execute_result"
    }
   ],
   "source": [
    "data1 = data1.astype('float')\n",
    "data1.dtypes"
   ]
  },
  {
   "cell_type": "code",
   "execution_count": 7,
   "id": "abfa6195",
   "metadata": {},
   "outputs": [
    {
     "data": {
      "text/html": [
       "<div>\n",
       "<style scoped>\n",
       "    .dataframe tbody tr th:only-of-type {\n",
       "        vertical-align: middle;\n",
       "    }\n",
       "\n",
       "    .dataframe tbody tr th {\n",
       "        vertical-align: top;\n",
       "    }\n",
       "\n",
       "    .dataframe thead th {\n",
       "        text-align: right;\n",
       "    }\n",
       "</style>\n",
       "<table border=\"1\" class=\"dataframe\">\n",
       "  <thead>\n",
       "    <tr style=\"text-align: right;\">\n",
       "      <th></th>\n",
       "      <th>0.2</th>\n",
       "      <th>0.7</th>\n",
       "      <th>0.8</th>\n",
       "      <th>1.2</th>\n",
       "      <th>1.3</th>\n",
       "      <th>1.8</th>\n",
       "    </tr>\n",
       "  </thead>\n",
       "  <tbody>\n",
       "    <tr>\n",
       "      <th>1</th>\n",
       "      <td>0.20188</td>\n",
       "      <td>0.37775</td>\n",
       "      <td>0.40391</td>\n",
       "      <td>0.49475</td>\n",
       "      <td>0.51501</td>\n",
       "      <td>0.60603</td>\n",
       "    </tr>\n",
       "    <tr>\n",
       "      <th>2</th>\n",
       "      <td>0.20197</td>\n",
       "      <td>0.37779</td>\n",
       "      <td>0.40397</td>\n",
       "      <td>0.49464</td>\n",
       "      <td>0.51491</td>\n",
       "      <td>0.60610</td>\n",
       "    </tr>\n",
       "    <tr>\n",
       "      <th>3</th>\n",
       "      <td>0.20193</td>\n",
       "      <td>0.37770</td>\n",
       "      <td>0.40391</td>\n",
       "      <td>0.49480</td>\n",
       "      <td>0.51496</td>\n",
       "      <td>0.60610</td>\n",
       "    </tr>\n",
       "    <tr>\n",
       "      <th>4</th>\n",
       "      <td>0.20193</td>\n",
       "      <td>0.37779</td>\n",
       "      <td>0.40386</td>\n",
       "      <td>0.49476</td>\n",
       "      <td>0.51495</td>\n",
       "      <td>0.60608</td>\n",
       "    </tr>\n",
       "    <tr>\n",
       "      <th>5</th>\n",
       "      <td>0.20194</td>\n",
       "      <td>0.37779</td>\n",
       "      <td>0.40381</td>\n",
       "      <td>0.49478</td>\n",
       "      <td>0.51492</td>\n",
       "      <td>0.60605</td>\n",
       "    </tr>\n",
       "    <tr>\n",
       "      <th>6</th>\n",
       "      <td>0.20181</td>\n",
       "      <td>0.37780</td>\n",
       "      <td>0.40386</td>\n",
       "      <td>0.49469</td>\n",
       "      <td>0.51495</td>\n",
       "      <td>0.60612</td>\n",
       "    </tr>\n",
       "    <tr>\n",
       "      <th>7</th>\n",
       "      <td>0.20181</td>\n",
       "      <td>0.37773</td>\n",
       "      <td>0.40390</td>\n",
       "      <td>0.49463</td>\n",
       "      <td>0.51507</td>\n",
       "      <td>0.60601</td>\n",
       "    </tr>\n",
       "    <tr>\n",
       "      <th>8</th>\n",
       "      <td>0.20196</td>\n",
       "      <td>0.37774</td>\n",
       "      <td>0.40391</td>\n",
       "      <td>0.49466</td>\n",
       "      <td>0.51494</td>\n",
       "      <td>0.60606</td>\n",
       "    </tr>\n",
       "    <tr>\n",
       "      <th>9</th>\n",
       "      <td>0.20195</td>\n",
       "      <td>0.37774</td>\n",
       "      <td>0.40389</td>\n",
       "      <td>0.49462</td>\n",
       "      <td>0.51506</td>\n",
       "      <td>0.60613</td>\n",
       "    </tr>\n",
       "    <tr>\n",
       "      <th>10</th>\n",
       "      <td>0.20182</td>\n",
       "      <td>0.37776</td>\n",
       "      <td>0.40380</td>\n",
       "      <td>0.49474</td>\n",
       "      <td>0.51506</td>\n",
       "      <td>0.60603</td>\n",
       "    </tr>\n",
       "  </tbody>\n",
       "</table>\n",
       "</div>"
      ],
      "text/plain": [
       "        0.2      0.7      0.8      1.2      1.3      1.8\n",
       "1   0.20188  0.37775  0.40391  0.49475  0.51501  0.60603\n",
       "2   0.20197  0.37779  0.40397  0.49464  0.51491  0.60610\n",
       "3   0.20193  0.37770  0.40391  0.49480  0.51496  0.60610\n",
       "4   0.20193  0.37779  0.40386  0.49476  0.51495  0.60608\n",
       "5   0.20194  0.37779  0.40381  0.49478  0.51492  0.60605\n",
       "6   0.20181  0.37780  0.40386  0.49469  0.51495  0.60612\n",
       "7   0.20181  0.37773  0.40390  0.49463  0.51507  0.60601\n",
       "8   0.20196  0.37774  0.40391  0.49466  0.51494  0.60606\n",
       "9   0.20195  0.37774  0.40389  0.49462  0.51506  0.60613\n",
       "10  0.20182  0.37776  0.40380  0.49474  0.51506  0.60603"
      ]
     },
     "execution_count": 7,
     "metadata": {},
     "output_type": "execute_result"
    }
   ],
   "source": [
    "data1"
   ]
  },
  {
   "cell_type": "markdown",
   "id": "c748ca1f",
   "metadata": {},
   "source": [
    "While we're at it, let's do a couple of make-overs:"
   ]
  },
  {
   "cell_type": "code",
   "execution_count": 8,
   "id": "85bc8615",
   "metadata": {},
   "outputs": [
    {
     "data": {
      "text/html": [
       "<div>\n",
       "<style scoped>\n",
       "    .dataframe tbody tr th:only-of-type {\n",
       "        vertical-align: middle;\n",
       "    }\n",
       "\n",
       "    .dataframe tbody tr th {\n",
       "        vertical-align: top;\n",
       "    }\n",
       "\n",
       "    .dataframe thead th {\n",
       "        text-align: right;\n",
       "    }\n",
       "</style>\n",
       "<table border=\"1\" class=\"dataframe\">\n",
       "  <thead>\n",
       "    <tr style=\"text-align: right;\">\n",
       "      <th></th>\n",
       "      <th>0.2</th>\n",
       "      <th>0.7</th>\n",
       "      <th>0.8</th>\n",
       "      <th>1.2</th>\n",
       "      <th>1.3</th>\n",
       "      <th>1.8</th>\n",
       "    </tr>\n",
       "  </thead>\n",
       "  <tbody>\n",
       "    <tr>\n",
       "      <th>0</th>\n",
       "      <td>0.20188</td>\n",
       "      <td>0.37775</td>\n",
       "      <td>0.40391</td>\n",
       "      <td>0.49475</td>\n",
       "      <td>0.51501</td>\n",
       "      <td>0.60603</td>\n",
       "    </tr>\n",
       "    <tr>\n",
       "      <th>1</th>\n",
       "      <td>0.20197</td>\n",
       "      <td>0.37779</td>\n",
       "      <td>0.40397</td>\n",
       "      <td>0.49464</td>\n",
       "      <td>0.51491</td>\n",
       "      <td>0.60610</td>\n",
       "    </tr>\n",
       "    <tr>\n",
       "      <th>2</th>\n",
       "      <td>0.20193</td>\n",
       "      <td>0.37770</td>\n",
       "      <td>0.40391</td>\n",
       "      <td>0.49480</td>\n",
       "      <td>0.51496</td>\n",
       "      <td>0.60610</td>\n",
       "    </tr>\n",
       "    <tr>\n",
       "      <th>3</th>\n",
       "      <td>0.20193</td>\n",
       "      <td>0.37779</td>\n",
       "      <td>0.40386</td>\n",
       "      <td>0.49476</td>\n",
       "      <td>0.51495</td>\n",
       "      <td>0.60608</td>\n",
       "    </tr>\n",
       "    <tr>\n",
       "      <th>4</th>\n",
       "      <td>0.20194</td>\n",
       "      <td>0.37779</td>\n",
       "      <td>0.40381</td>\n",
       "      <td>0.49478</td>\n",
       "      <td>0.51492</td>\n",
       "      <td>0.60605</td>\n",
       "    </tr>\n",
       "    <tr>\n",
       "      <th>5</th>\n",
       "      <td>0.20181</td>\n",
       "      <td>0.37780</td>\n",
       "      <td>0.40386</td>\n",
       "      <td>0.49469</td>\n",
       "      <td>0.51495</td>\n",
       "      <td>0.60612</td>\n",
       "    </tr>\n",
       "    <tr>\n",
       "      <th>6</th>\n",
       "      <td>0.20181</td>\n",
       "      <td>0.37773</td>\n",
       "      <td>0.40390</td>\n",
       "      <td>0.49463</td>\n",
       "      <td>0.51507</td>\n",
       "      <td>0.60601</td>\n",
       "    </tr>\n",
       "    <tr>\n",
       "      <th>7</th>\n",
       "      <td>0.20196</td>\n",
       "      <td>0.37774</td>\n",
       "      <td>0.40391</td>\n",
       "      <td>0.49466</td>\n",
       "      <td>0.51494</td>\n",
       "      <td>0.60606</td>\n",
       "    </tr>\n",
       "    <tr>\n",
       "      <th>8</th>\n",
       "      <td>0.20195</td>\n",
       "      <td>0.37774</td>\n",
       "      <td>0.40389</td>\n",
       "      <td>0.49462</td>\n",
       "      <td>0.51506</td>\n",
       "      <td>0.60613</td>\n",
       "    </tr>\n",
       "    <tr>\n",
       "      <th>9</th>\n",
       "      <td>0.20182</td>\n",
       "      <td>0.37776</td>\n",
       "      <td>0.40380</td>\n",
       "      <td>0.49474</td>\n",
       "      <td>0.51506</td>\n",
       "      <td>0.60603</td>\n",
       "    </tr>\n",
       "  </tbody>\n",
       "</table>\n",
       "</div>"
      ],
      "text/plain": [
       "       0.2      0.7      0.8      1.2      1.3      1.8\n",
       "0  0.20188  0.37775  0.40391  0.49475  0.51501  0.60603\n",
       "1  0.20197  0.37779  0.40397  0.49464  0.51491  0.60610\n",
       "2  0.20193  0.37770  0.40391  0.49480  0.51496  0.60610\n",
       "3  0.20193  0.37779  0.40386  0.49476  0.51495  0.60608\n",
       "4  0.20194  0.37779  0.40381  0.49478  0.51492  0.60605\n",
       "5  0.20181  0.37780  0.40386  0.49469  0.51495  0.60612\n",
       "6  0.20181  0.37773  0.40390  0.49463  0.51507  0.60601\n",
       "7  0.20196  0.37774  0.40391  0.49466  0.51494  0.60606\n",
       "8  0.20195  0.37774  0.40389  0.49462  0.51506  0.60613\n",
       "9  0.20182  0.37776  0.40380  0.49474  0.51506  0.60603"
      ]
     },
     "execution_count": 8,
     "metadata": {},
     "output_type": "execute_result"
    }
   ],
   "source": [
    "data1.reset_index(inplace=True,drop=True)\n",
    "data1"
   ]
  },
  {
   "cell_type": "markdown",
   "id": "2dd003ea",
   "metadata": {},
   "source": [
    "## Plotting"
   ]
  },
  {
   "cell_type": "code",
   "execution_count": 9,
   "id": "b9e46852",
   "metadata": {},
   "outputs": [],
   "source": [
    "import seaborn as sns\n",
    "sns.set_theme() # To make things appear \"more beautiful\" 8)"
   ]
  },
  {
   "cell_type": "code",
   "execution_count": 10,
   "id": "256a42c0",
   "metadata": {},
   "outputs": [
    {
     "data": {
      "text/html": [
       "<div>\n",
       "<style scoped>\n",
       "    .dataframe tbody tr th:only-of-type {\n",
       "        vertical-align: middle;\n",
       "    }\n",
       "\n",
       "    .dataframe tbody tr th {\n",
       "        vertical-align: top;\n",
       "    }\n",
       "\n",
       "    .dataframe thead th {\n",
       "        text-align: right;\n",
       "    }\n",
       "</style>\n",
       "<table border=\"1\" class=\"dataframe\">\n",
       "  <thead>\n",
       "    <tr style=\"text-align: right;\">\n",
       "      <th></th>\n",
       "      <th>0.2</th>\n",
       "      <th>0.7</th>\n",
       "      <th>0.8</th>\n",
       "      <th>1.2</th>\n",
       "      <th>1.3</th>\n",
       "      <th>1.8</th>\n",
       "    </tr>\n",
       "  </thead>\n",
       "  <tbody>\n",
       "    <tr>\n",
       "      <th>0</th>\n",
       "      <td>0.20188</td>\n",
       "      <td>0.37775</td>\n",
       "      <td>0.40391</td>\n",
       "      <td>0.49475</td>\n",
       "      <td>0.51501</td>\n",
       "      <td>0.60603</td>\n",
       "    </tr>\n",
       "    <tr>\n",
       "      <th>1</th>\n",
       "      <td>0.20197</td>\n",
       "      <td>0.37779</td>\n",
       "      <td>0.40397</td>\n",
       "      <td>0.49464</td>\n",
       "      <td>0.51491</td>\n",
       "      <td>0.60610</td>\n",
       "    </tr>\n",
       "    <tr>\n",
       "      <th>2</th>\n",
       "      <td>0.20193</td>\n",
       "      <td>0.37770</td>\n",
       "      <td>0.40391</td>\n",
       "      <td>0.49480</td>\n",
       "      <td>0.51496</td>\n",
       "      <td>0.60610</td>\n",
       "    </tr>\n",
       "    <tr>\n",
       "      <th>3</th>\n",
       "      <td>0.20193</td>\n",
       "      <td>0.37779</td>\n",
       "      <td>0.40386</td>\n",
       "      <td>0.49476</td>\n",
       "      <td>0.51495</td>\n",
       "      <td>0.60608</td>\n",
       "    </tr>\n",
       "    <tr>\n",
       "      <th>4</th>\n",
       "      <td>0.20194</td>\n",
       "      <td>0.37779</td>\n",
       "      <td>0.40381</td>\n",
       "      <td>0.49478</td>\n",
       "      <td>0.51492</td>\n",
       "      <td>0.60605</td>\n",
       "    </tr>\n",
       "    <tr>\n",
       "      <th>5</th>\n",
       "      <td>0.20181</td>\n",
       "      <td>0.37780</td>\n",
       "      <td>0.40386</td>\n",
       "      <td>0.49469</td>\n",
       "      <td>0.51495</td>\n",
       "      <td>0.60612</td>\n",
       "    </tr>\n",
       "    <tr>\n",
       "      <th>6</th>\n",
       "      <td>0.20181</td>\n",
       "      <td>0.37773</td>\n",
       "      <td>0.40390</td>\n",
       "      <td>0.49463</td>\n",
       "      <td>0.51507</td>\n",
       "      <td>0.60601</td>\n",
       "    </tr>\n",
       "    <tr>\n",
       "      <th>7</th>\n",
       "      <td>0.20196</td>\n",
       "      <td>0.37774</td>\n",
       "      <td>0.40391</td>\n",
       "      <td>0.49466</td>\n",
       "      <td>0.51494</td>\n",
       "      <td>0.60606</td>\n",
       "    </tr>\n",
       "    <tr>\n",
       "      <th>8</th>\n",
       "      <td>0.20195</td>\n",
       "      <td>0.37774</td>\n",
       "      <td>0.40389</td>\n",
       "      <td>0.49462</td>\n",
       "      <td>0.51506</td>\n",
       "      <td>0.60613</td>\n",
       "    </tr>\n",
       "    <tr>\n",
       "      <th>9</th>\n",
       "      <td>0.20182</td>\n",
       "      <td>0.37776</td>\n",
       "      <td>0.40380</td>\n",
       "      <td>0.49474</td>\n",
       "      <td>0.51506</td>\n",
       "      <td>0.60603</td>\n",
       "    </tr>\n",
       "  </tbody>\n",
       "</table>\n",
       "</div>"
      ],
      "text/plain": [
       "       0.2      0.7      0.8      1.2      1.3      1.8\n",
       "0  0.20188  0.37775  0.40391  0.49475  0.51501  0.60603\n",
       "1  0.20197  0.37779  0.40397  0.49464  0.51491  0.60610\n",
       "2  0.20193  0.37770  0.40391  0.49480  0.51496  0.60610\n",
       "3  0.20193  0.37779  0.40386  0.49476  0.51495  0.60608\n",
       "4  0.20194  0.37779  0.40381  0.49478  0.51492  0.60605\n",
       "5  0.20181  0.37780  0.40386  0.49469  0.51495  0.60612\n",
       "6  0.20181  0.37773  0.40390  0.49463  0.51507  0.60601\n",
       "7  0.20196  0.37774  0.40391  0.49466  0.51494  0.60606\n",
       "8  0.20195  0.37774  0.40389  0.49462  0.51506  0.60613\n",
       "9  0.20182  0.37776  0.40380  0.49474  0.51506  0.60603"
      ]
     },
     "execution_count": 10,
     "metadata": {},
     "output_type": "execute_result"
    }
   ],
   "source": [
    "data2 = data1.copy()\n",
    "data2"
   ]
  },
  {
   "cell_type": "code",
   "execution_count": 11,
   "id": "8e18933d",
   "metadata": {},
   "outputs": [
    {
     "data": {
      "image/png": "[encoded data removed]",
      "text/plain": [
       "<Figure size 414.975x360 with 1 Axes>"
      ]
     },
     "metadata": {
      "filenames": {
       "image/png": "/stmp/code/books/FIZ228/_build/jupyter_execute/FIZ228_03_LeastSquaresErrors_18_0.png"
      }
     },
     "output_type": "display_data"
    }
   ],
   "source": [
    "plt1 = sns.relplot(data=data2,kind=\"line\",marker=\"o\")\n",
    "k =plt1.set(xticks=data2.index)"
   ]
  },
  {
   "cell_type": "code",
   "execution_count": 12,
   "id": "5ddd2ff1",
   "metadata": {},
   "outputs": [
    {
     "data": {
      "text/plain": [
       "0.2    0.201900\n",
       "0.7    0.377759\n",
       "0.8    0.403882\n",
       "1.2    0.494707\n",
       "1.3    0.514983\n",
       "1.8    0.606071\n",
       "dtype: float64"
      ]
     },
     "execution_count": 12,
     "metadata": {},
     "output_type": "execute_result"
    }
   ],
   "source": [
    "data2.mean()"
   ]
  },
  {
   "cell_type": "code",
   "execution_count": 13,
   "id": "6c1aac3f",
   "metadata": {},
   "outputs": [
    {
     "data": {
      "text/html": [
       "<div>\n",
       "<style scoped>\n",
       "    .dataframe tbody tr th:only-of-type {\n",
       "        vertical-align: middle;\n",
       "    }\n",
       "\n",
       "    .dataframe tbody tr th {\n",
       "        vertical-align: top;\n",
       "    }\n",
       "\n",
       "    .dataframe thead th {\n",
       "        text-align: right;\n",
       "    }\n",
       "</style>\n",
       "<table border=\"1\" class=\"dataframe\">\n",
       "  <thead>\n",
       "    <tr style=\"text-align: right;\">\n",
       "      <th></th>\n",
       "      <th>dmean</th>\n",
       "      <th>dvar</th>\n",
       "      <th>dstd</th>\n",
       "    </tr>\n",
       "  </thead>\n",
       "  <tbody>\n",
       "    <tr>\n",
       "      <th>0.2</th>\n",
       "      <td>0.201900</td>\n",
       "      <td>4.155556e-09</td>\n",
       "      <td>0.000064</td>\n",
       "    </tr>\n",
       "    <tr>\n",
       "      <th>0.7</th>\n",
       "      <td>0.377759</td>\n",
       "      <td>1.076667e-09</td>\n",
       "      <td>0.000033</td>\n",
       "    </tr>\n",
       "    <tr>\n",
       "      <th>0.8</th>\n",
       "      <td>0.403882</td>\n",
       "      <td>2.595556e-09</td>\n",
       "      <td>0.000051</td>\n",
       "    </tr>\n",
       "    <tr>\n",
       "      <th>1.2</th>\n",
       "      <td>0.494707</td>\n",
       "      <td>4.467778e-09</td>\n",
       "      <td>0.000067</td>\n",
       "    </tr>\n",
       "    <tr>\n",
       "      <th>1.3</th>\n",
       "      <td>0.514983</td>\n",
       "      <td>3.778889e-09</td>\n",
       "      <td>0.000061</td>\n",
       "    </tr>\n",
       "    <tr>\n",
       "      <th>1.8</th>\n",
       "      <td>0.606071</td>\n",
       "      <td>1.698889e-09</td>\n",
       "      <td>0.000041</td>\n",
       "    </tr>\n",
       "  </tbody>\n",
       "</table>\n",
       "</div>"
      ],
      "text/plain": [
       "        dmean          dvar      dstd\n",
       "0.2  0.201900  4.155556e-09  0.000064\n",
       "0.7  0.377759  1.076667e-09  0.000033\n",
       "0.8  0.403882  2.595556e-09  0.000051\n",
       "1.2  0.494707  4.467778e-09  0.000067\n",
       "1.3  0.514983  3.778889e-09  0.000061\n",
       "1.8  0.606071  1.698889e-09  0.000041"
      ]
     },
     "execution_count": 13,
     "metadata": {},
     "output_type": "execute_result"
    }
   ],
   "source": [
    "data_stats = pd.DataFrame(data2.mean())\n",
    "data_stats.rename(columns={0:'dmean'}, inplace=True )\n",
    "data_stats['dvar'] = data2.var()\n",
    "data_stats['dstd'] = data2.std()\n",
    "data_stats"
   ]
  },
  {
   "cell_type": "code",
   "execution_count": 14,
   "id": "fe443b4a",
   "metadata": {},
   "outputs": [
    {
     "data": {
      "text/plain": [
       "0.2    0.000064\n",
       "0.7    0.000033\n",
       "0.8    0.000051\n",
       "1.2    0.000067\n",
       "1.3    0.000061\n",
       "1.8    0.000041\n",
       "Name: dstd, dtype: float64"
      ]
     },
     "execution_count": 14,
     "metadata": {},
     "output_type": "execute_result"
    }
   ],
   "source": [
    "data_stats.dstd # Unbiased"
   ]
  },
  {
   "cell_type": "markdown",
   "id": "d21e6f8b",
   "metadata": {},
   "source": [
    "$$\\sigma = \\sqrt{\\frac{\\sum_{i}{\\left(x_i - \\bar{x}\\right)^2}}{N}}\\;\\text{(Population)}$$ \n",
    "\n",
    "or \n",
    "\n",
    "$$\\sigma = \\sqrt{\\frac{\\sum_{i}{\\left(x_i - \\bar{x}\\right)^2}}{N-1}}\\;\\text{(Sample)}$$"
   ]
  },
  {
   "cell_type": "code",
   "execution_count": 15,
   "id": "fe5f064c",
   "metadata": {},
   "outputs": [
    {
     "name": "stdout",
     "output_type": "stream",
     "text": [
      "0.2: 0.000061\n",
      "0.7: 0.000031\n",
      "0.8: 0.000048\n",
      "1.2: 0.000063\n",
      "1.3: 0.000058\n",
      "1.8: 0.000039\n"
     ]
    }
   ],
   "source": [
    "import numpy as np\n",
    "N = data2.shape[0]\n",
    "for coll in list(data2.columns):\n",
    "    s_dev = 0\n",
    "    s_mean = data2.loc[:,coll].mean()\n",
    "    #print(s_mean)\n",
    "    for x_i in data2.loc[:,coll]:\n",
    "        # print (x_i)\n",
    "        s_dev += (x_i - s_mean)**2\n",
    "    s_dev = np.sqrt(s_dev/(N))\n",
    "    print(\"{:s}: {:.6f}\".format(coll,s_dev))"
   ]
  },
  {
   "cell_type": "code",
   "execution_count": 16,
   "id": "242b4849",
   "metadata": {},
   "outputs": [
    {
     "data": {
      "text/plain": [
       "0.2    0.000061\n",
       "0.7    0.000031\n",
       "0.8    0.000048\n",
       "1.2    0.000063\n",
       "1.3    0.000058\n",
       "1.8    0.000039\n",
       "dtype: float64"
      ]
     },
     "execution_count": 16,
     "metadata": {},
     "output_type": "execute_result"
    }
   ],
   "source": [
    "data2.std(ddof=0) # Biased"
   ]
  },
  {
   "cell_type": "markdown",
   "id": "a7d42914",
   "metadata": {},
   "source": [
    "Average over all the sample deviations should be equal to the deviation of the population!\n",
    "\n",
    "For more information on this _Bessel's Correction_, check: http://mathcenter.oxford.emory.edu/site/math117/besselCorrection/"
   ]
  },
  {
   "cell_type": "markdown",
   "id": "96a4fb09",
   "metadata": {},
   "source": [
    "# Types of Errors\n",
    "## True error ($E_t$)\n",
    "$$E_t = \\text{true value} - \\text{approximation}$$\n",
    "## Absolute error ($\\left|E_t\\right|$)\n",
    "$$\\left|E_t\\right| = \\left|\\text{true value} - \\text{approximation}\\right|$$\n",
    "## True fractional relative error\n",
    "$$\\frac{\\text{true value} - \\text{approximation}}{\\text{true value}}$$\n",
    "## True percent relative error ($\\varepsilon_t$)\n",
    "$$\\varepsilon_t = \\frac{\\text{true value} - \\text{approximation}}{\\text{true value}}\\,100\\%$$\n",
    "\n",
    "But what if we don't know the true value?..\n",
    "\n",
    "## Approximate percent relative error ($\\varepsilon_a$)\n",
    "$$\\varepsilon_a = \\frac{\\text{present approximation} - \\text{previous approximation}}{\\text{present approximation}}\\,100\\%$$\n",
    "\n",
    "Computations are repeated until $\\left|\\varepsilon_a\\right| < \\left|\\varepsilon_s\\right|$ ($\\varepsilon_s$ is the satisfactory precision criterion).\n",
    "\n",
    "The result is correct to at least $n$ significant figures given that:\n",
    "\n",
    "$$\\varepsilon_s=\\left(0.5\\times10^{2-n}\\right)\\,\\%$$"
   ]
  },
  {
   "cell_type": "markdown",
   "id": "e184d0f4",
   "metadata": {},
   "source": [
    "### Example:\n",
    "$$e^x = 1+x+\\frac{x^2}{2}+\\frac{x^3}{3!}+\\dots+\\frac{x^n}{n!}+\\dots$$\n",
    "\n",
    "To estimate $e^{0.5}$ so that the absolute value of the approximate error estimate falls below an error criterion conforming to 3 significant figures, how many terms do you need to include?"
   ]
  },
  {
   "cell_type": "markdown",
   "id": "3a9b2d01",
   "metadata": {},
   "source": [
    "**Solution:**\n",
    "\n",
    "$\\varepsilon_s=(0.5\\times 10^{2-3})\\,\\%$"
   ]
  },
  {
   "cell_type": "code",
   "execution_count": 17,
   "id": "aa020ec0",
   "metadata": {},
   "outputs": [
    {
     "name": "stdout",
     "output_type": "stream",
     "text": [
      "0.05%\n"
     ]
    }
   ],
   "source": [
    "eps_s = 0.5*10**(2-3)\n",
    "print(\"{:.2f}%\".format(eps_s))"
   ]
  },
  {
   "cell_type": "code",
   "execution_count": 18,
   "id": "67f3af8d",
   "metadata": {},
   "outputs": [
    {
     "name": "stdout",
     "output_type": "stream",
     "text": [
      "  #       e      \t   E_a    \n",
      "  1:  1.000000\t       100.00000\n",
      "  2:  1.500000\t        33.33333\n",
      "  3:  1.625000\t         7.69231\n",
      "  4:  1.645833\t         1.26582\n",
      "  5:  1.648438\t         0.15798\n",
      "  6:  1.648698\t         0.01580\n"
     ]
    }
   ],
   "source": [
    "eps_s = 0.5*10**(2-3)\n",
    "\n",
    "x = 0.5\n",
    "eps_a = 1000\n",
    "e_prev = 0\n",
    "no_of_terms = 0\n",
    "print(\"{:>3} {:^13}\\t{:^10}\".format(\"#\",\"e\",\"E_a\"))\n",
    "while(eps_a > eps_s):\n",
    "    e_calculated = e_prev + x**no_of_terms/np.math.factorial(no_of_terms)\n",
    "    eps_a = np.abs(((e_calculated - e_prev)/e_calculated))*100\n",
    "    print(\"{:3d}:{:10.6f}\\t{:16.5f}\".format(no_of_terms+1,e_calculated,eps_a))\n",
    "    e_prev = e_calculated\n",
    "    no_of_terms += 1"
   ]
  },
  {
   "cell_type": "code",
   "execution_count": 19,
   "id": "bb58db0c",
   "metadata": {},
   "outputs": [
    {
     "name": "stdout",
     "output_type": "stream",
     "text": [
      "  #    e_calc            E_a             E_t     \n",
      "  1:  1.000000       100.00000        39.34693\n",
      "  2:  1.500000        33.33333         9.02040\n",
      "  3:  1.625000         7.69231         1.43877\n",
      "  4:  1.645833         1.26582         0.17516\n",
      "  5:  1.648438         0.15798         0.01721\n",
      "  6:  1.648698         0.01580         0.00142\n"
     ]
    }
   ],
   "source": [
    "eps_s = 0.5*10**(2-3)\n",
    "e_sqrt_real = np.sqrt(np.e)\n",
    "\n",
    "x = 0.5\n",
    "eps_a = 1000\n",
    "e_sqrt_prev = 0\n",
    "no_of_terms = 0\n",
    "print(\"{:>3} {:^13}{:^20}{:^12}\".format(\"#\",\"e_calc\",\"E_a\",\"E_t\"))\n",
    "while(eps_a > eps_s):\n",
    "    e_sqrt_calculated = e_sqrt_prev + x**no_of_terms/np.math.factorial(no_of_terms)\n",
    "    eps_a = np.abs(((e_sqrt_calculated - e_sqrt_prev)/e_sqrt_calculated))*100\n",
    "    eps_t = np.abs((e_sqrt_real - e_sqrt_calculated)/e_sqrt_real)*100\n",
    "    print(\"{:3d}:{:10.6f}{:16.5f}{:16.5f}\".format(no_of_terms+1,e_sqrt_calculated,eps_a,eps_t))\n",
    "    e_sqrt_prev = e_sqrt_calculated\n",
    "    no_of_terms += 1"
   ]
  },
  {
   "cell_type": "markdown",
   "id": "4cde64d1",
   "metadata": {},
   "source": [
    "# How good is a mean?\n",
    "Once again, consider our free fall data:"
   ]
  },
  {
   "cell_type": "code",
   "execution_count": 20,
   "id": "3c52eabc",
   "metadata": {},
   "outputs": [
    {
     "data": {
      "text/html": [
       "<div>\n",
       "<style scoped>\n",
       "    .dataframe tbody tr th:only-of-type {\n",
       "        vertical-align: middle;\n",
       "    }\n",
       "\n",
       "    .dataframe tbody tr th {\n",
       "        vertical-align: top;\n",
       "    }\n",
       "\n",
       "    .dataframe thead th {\n",
       "        text-align: right;\n",
       "    }\n",
       "</style>\n",
       "<table border=\"1\" class=\"dataframe\">\n",
       "  <thead>\n",
       "    <tr style=\"text-align: right;\">\n",
       "      <th></th>\n",
       "      <th>0.2</th>\n",
       "      <th>0.7</th>\n",
       "      <th>0.8</th>\n",
       "      <th>1.2</th>\n",
       "      <th>1.3</th>\n",
       "      <th>1.8</th>\n",
       "    </tr>\n",
       "  </thead>\n",
       "  <tbody>\n",
       "    <tr>\n",
       "      <th>0</th>\n",
       "      <td>0.20188</td>\n",
       "      <td>0.37775</td>\n",
       "      <td>0.40391</td>\n",
       "      <td>0.49475</td>\n",
       "      <td>0.51501</td>\n",
       "      <td>0.60603</td>\n",
       "    </tr>\n",
       "    <tr>\n",
       "      <th>1</th>\n",
       "      <td>0.20197</td>\n",
       "      <td>0.37779</td>\n",
       "      <td>0.40397</td>\n",
       "      <td>0.49464</td>\n",
       "      <td>0.51491</td>\n",
       "      <td>0.60610</td>\n",
       "    </tr>\n",
       "    <tr>\n",
       "      <th>2</th>\n",
       "      <td>0.20193</td>\n",
       "      <td>0.37770</td>\n",
       "      <td>0.40391</td>\n",
       "      <td>0.49480</td>\n",
       "      <td>0.51496</td>\n",
       "      <td>0.60610</td>\n",
       "    </tr>\n",
       "    <tr>\n",
       "      <th>3</th>\n",
       "      <td>0.20193</td>\n",
       "      <td>0.37779</td>\n",
       "      <td>0.40386</td>\n",
       "      <td>0.49476</td>\n",
       "      <td>0.51495</td>\n",
       "      <td>0.60608</td>\n",
       "    </tr>\n",
       "    <tr>\n",
       "      <th>4</th>\n",
       "      <td>0.20194</td>\n",
       "      <td>0.37779</td>\n",
       "      <td>0.40381</td>\n",
       "      <td>0.49478</td>\n",
       "      <td>0.51492</td>\n",
       "      <td>0.60605</td>\n",
       "    </tr>\n",
       "    <tr>\n",
       "      <th>5</th>\n",
       "      <td>0.20181</td>\n",
       "      <td>0.37780</td>\n",
       "      <td>0.40386</td>\n",
       "      <td>0.49469</td>\n",
       "      <td>0.51495</td>\n",
       "      <td>0.60612</td>\n",
       "    </tr>\n",
       "    <tr>\n",
       "      <th>6</th>\n",
       "      <td>0.20181</td>\n",
       "      <td>0.37773</td>\n",
       "      <td>0.40390</td>\n",
       "      <td>0.49463</td>\n",
       "      <td>0.51507</td>\n",
       "      <td>0.60601</td>\n",
       "    </tr>\n",
       "    <tr>\n",
       "      <th>7</th>\n",
       "      <td>0.20196</td>\n",
       "      <td>0.37774</td>\n",
       "      <td>0.40391</td>\n",
       "      <td>0.49466</td>\n",
       "      <td>0.51494</td>\n",
       "      <td>0.60606</td>\n",
       "    </tr>\n",
       "    <tr>\n",
       "      <th>8</th>\n",
       "      <td>0.20195</td>\n",
       "      <td>0.37774</td>\n",
       "      <td>0.40389</td>\n",
       "      <td>0.49462</td>\n",
       "      <td>0.51506</td>\n",
       "      <td>0.60613</td>\n",
       "    </tr>\n",
       "    <tr>\n",
       "      <th>9</th>\n",
       "      <td>0.20182</td>\n",
       "      <td>0.37776</td>\n",
       "      <td>0.40380</td>\n",
       "      <td>0.49474</td>\n",
       "      <td>0.51506</td>\n",
       "      <td>0.60603</td>\n",
       "    </tr>\n",
       "  </tbody>\n",
       "</table>\n",
       "</div>"
      ],
      "text/plain": [
       "       0.2      0.7      0.8      1.2      1.3      1.8\n",
       "0  0.20188  0.37775  0.40391  0.49475  0.51501  0.60603\n",
       "1  0.20197  0.37779  0.40397  0.49464  0.51491  0.60610\n",
       "2  0.20193  0.37770  0.40391  0.49480  0.51496  0.60610\n",
       "3  0.20193  0.37779  0.40386  0.49476  0.51495  0.60608\n",
       "4  0.20194  0.37779  0.40381  0.49478  0.51492  0.60605\n",
       "5  0.20181  0.37780  0.40386  0.49469  0.51495  0.60612\n",
       "6  0.20181  0.37773  0.40390  0.49463  0.51507  0.60601\n",
       "7  0.20196  0.37774  0.40391  0.49466  0.51494  0.60606\n",
       "8  0.20195  0.37774  0.40389  0.49462  0.51506  0.60613\n",
       "9  0.20182  0.37776  0.40380  0.49474  0.51506  0.60603"
      ]
     },
     "execution_count": 20,
     "metadata": {},
     "output_type": "execute_result"
    }
   ],
   "source": [
    "data2"
   ]
  },
  {
   "cell_type": "code",
   "execution_count": 21,
   "id": "e9bb6653",
   "metadata": {},
   "outputs": [
    {
     "data": {
      "text/html": [
       "<div>\n",
       "<style scoped>\n",
       "    .dataframe tbody tr th:only-of-type {\n",
       "        vertical-align: middle;\n",
       "    }\n",
       "\n",
       "    .dataframe tbody tr th {\n",
       "        vertical-align: top;\n",
       "    }\n",
       "\n",
       "    .dataframe thead th {\n",
       "        text-align: right;\n",
       "    }\n",
       "</style>\n",
       "<table border=\"1\" class=\"dataframe\">\n",
       "  <thead>\n",
       "    <tr style=\"text-align: right;\">\n",
       "      <th></th>\n",
       "      <th>dmean</th>\n",
       "      <th>dvar</th>\n",
       "      <th>dstd</th>\n",
       "    </tr>\n",
       "  </thead>\n",
       "  <tbody>\n",
       "    <tr>\n",
       "      <th>0.2</th>\n",
       "      <td>0.201900</td>\n",
       "      <td>4.155556e-09</td>\n",
       "      <td>0.000064</td>\n",
       "    </tr>\n",
       "    <tr>\n",
       "      <th>0.7</th>\n",
       "      <td>0.377759</td>\n",
       "      <td>1.076667e-09</td>\n",
       "      <td>0.000033</td>\n",
       "    </tr>\n",
       "    <tr>\n",
       "      <th>0.8</th>\n",
       "      <td>0.403882</td>\n",
       "      <td>2.595556e-09</td>\n",
       "      <td>0.000051</td>\n",
       "    </tr>\n",
       "    <tr>\n",
       "      <th>1.2</th>\n",
       "      <td>0.494707</td>\n",
       "      <td>4.467778e-09</td>\n",
       "      <td>0.000067</td>\n",
       "    </tr>\n",
       "    <tr>\n",
       "      <th>1.3</th>\n",
       "      <td>0.514983</td>\n",
       "      <td>3.778889e-09</td>\n",
       "      <td>0.000061</td>\n",
       "    </tr>\n",
       "    <tr>\n",
       "      <th>1.8</th>\n",
       "      <td>0.606071</td>\n",
       "      <td>1.698889e-09</td>\n",
       "      <td>0.000041</td>\n",
       "    </tr>\n",
       "  </tbody>\n",
       "</table>\n",
       "</div>"
      ],
      "text/plain": [
       "        dmean          dvar      dstd\n",
       "0.2  0.201900  4.155556e-09  0.000064\n",
       "0.7  0.377759  1.076667e-09  0.000033\n",
       "0.8  0.403882  2.595556e-09  0.000051\n",
       "1.2  0.494707  4.467778e-09  0.000067\n",
       "1.3  0.514983  3.778889e-09  0.000061\n",
       "1.8  0.606071  1.698889e-09  0.000041"
      ]
     },
     "execution_count": 21,
     "metadata": {},
     "output_type": "execute_result"
    }
   ],
   "source": [
    "data_stats"
   ]
  },
  {
   "cell_type": "markdown",
   "id": "4936d9de",
   "metadata": {},
   "source": [
    "# [scipy.optimize.minimize](https://docs.scipy.org/doc/scipy/reference/generated/scipy.optimize.minimize.html#scipy.optimize.minimize) to the rescue!"
   ]
  },
  {
   "cell_type": "code",
   "execution_count": 22,
   "id": "16cb0419",
   "metadata": {},
   "outputs": [
    {
     "data": {
      "text/plain": [
       "(10,)"
      ]
     },
     "execution_count": 22,
     "metadata": {},
     "output_type": "execute_result"
    }
   ],
   "source": [
    "data2['0.2'].shape"
   ]
  },
  {
   "cell_type": "code",
   "execution_count": 23,
   "id": "b7150038",
   "metadata": {},
   "outputs": [],
   "source": [
    "from scipy.optimize import minimize\n",
    "\n",
    "def fun_err(m,x):\n",
    "    err = 0\n",
    "    for x_i in x:\n",
    "        err += (x_i - m)**2\n",
    "    err = np.sqrt(err/x.shape[0])\n",
    "    return err"
   ]
  },
  {
   "cell_type": "code",
   "execution_count": 24,
   "id": "f81a3ccd",
   "metadata": {},
   "outputs": [
    {
     "data": {
      "text/plain": [
       "6.11555394056866e-05"
      ]
     },
     "execution_count": 24,
     "metadata": {},
     "output_type": "execute_result"
    }
   ],
   "source": [
    "fun_err(data2['0.2'].mean(),data2['0.2'])"
   ]
  },
  {
   "cell_type": "code",
   "execution_count": 25,
   "id": "0ca8ad8e",
   "metadata": {},
   "outputs": [
    {
     "data": {
      "text/plain": [
       "1.00000000187"
      ]
     },
     "execution_count": 25,
     "metadata": {},
     "output_type": "execute_result"
    }
   ],
   "source": [
    "fun_err(data2['0.2'].mean()+1,data2['0.2'])"
   ]
  },
  {
   "cell_type": "code",
   "execution_count": 26,
   "id": "08aae0a4",
   "metadata": {},
   "outputs": [
    {
     "data": {
      "text/plain": [
       "      fun: 6.11555394056866e-05\n",
       " hess_inv: array([[1]])\n",
       "      jac: array([0.00012183])\n",
       "  message: 'Optimization terminated successfully.'\n",
       "     nfev: 2\n",
       "      nit: 0\n",
       "     njev: 1\n",
       "   status: 0\n",
       "  success: True\n",
       "        x: array([0.2019])"
      ]
     },
     "execution_count": 26,
     "metadata": {},
     "output_type": "execute_result"
    }
   ],
   "source": [
    "minimize(fun_err,data2['0.2'].mean(),args=(data2['0.2']),tol=1E-3)"
   ]
  },
  {
   "cell_type": "code",
   "execution_count": 27,
   "id": "fa83f66d",
   "metadata": {},
   "outputs": [
    {
     "data": {
      "text/plain": [
       "0.20190000000000002"
      ]
     },
     "execution_count": 27,
     "metadata": {},
     "output_type": "execute_result"
    }
   ],
   "source": [
    "data2['0.2'].mean()"
   ]
  },
  {
   "cell_type": "code",
   "execution_count": 28,
   "id": "a57c690e",
   "metadata": {},
   "outputs": [
    {
     "data": {
      "text/plain": [
       "['0.2', '0.7', '0.8', '1.2', '1.3', '1.8']"
      ]
     },
     "execution_count": 28,
     "metadata": {},
     "output_type": "execute_result"
    }
   ],
   "source": [
    "list(data2.columns)"
   ]
  },
  {
   "cell_type": "code",
   "execution_count": 29,
   "id": "1ccd55fb",
   "metadata": {},
   "outputs": [
    {
     "data": {
      "text/plain": [
       "0.20190000000000002"
      ]
     },
     "execution_count": 29,
     "metadata": {},
     "output_type": "execute_result"
    }
   ],
   "source": [
    "data_stats.loc['0.2','dmean']"
   ]
  },
  {
   "cell_type": "code",
   "execution_count": 30,
   "id": "03ee09f3",
   "metadata": {},
   "outputs": [
    {
     "name": "stdout",
     "output_type": "stream",
     "text": [
      " col :   min    (  mean  )\n",
      " 0.2 : 0.201900 (0.201900)\n",
      " 0.7 : 0.377759 (0.377759)\n",
      " 0.8 : 0.403882 (0.403882)\n",
      " 1.2 : 0.494707 (0.494707)\n",
      " 1.3 : 0.514983 (0.514983)\n",
      " 1.8 : 0.606071 (0.606071)\n"
     ]
    }
   ],
   "source": [
    "print(\"{:^5}: {:^8} ({:^8})\".format(\"col\",\"min\",\"mean\"))\n",
    "for col in list(data2.columns):\n",
    "    res_min = minimize(fun_err,1,args=(data2[col]))\n",
    "    print(\"{:^5}: {:8.6f} ({:8.6f})\".format(col,float(res_min.x),data_stats.loc[col,'dmean']))"
   ]
  },
  {
   "cell_type": "markdown",
   "id": "3cd92337",
   "metadata": {},
   "source": [
    "## Couldn't the cost function be better?"
   ]
  },
  {
   "cell_type": "code",
   "execution_count": 31,
   "id": "0daaad5d",
   "metadata": {},
   "outputs": [],
   "source": [
    "def fun_err2(m,x):\n",
    "    err = 0\n",
    "    for x_i in x:\n",
    "        err += (x_i - m)**2\n",
    "    #err = np.sqrt(err/x.shape[0])\n",
    "    return err"
   ]
  },
  {
   "cell_type": "code",
   "execution_count": 32,
   "id": "51e2c924",
   "metadata": {},
   "outputs": [
    {
     "data": {
      "text/plain": [
       "3.740000000000487e-08"
      ]
     },
     "execution_count": 32,
     "metadata": {},
     "output_type": "execute_result"
    }
   ],
   "source": [
    "fun_err2(data2['0.2'].mean(),data2['0.2'])"
   ]
  },
  {
   "cell_type": "code",
   "execution_count": 33,
   "id": "597c2f0e",
   "metadata": {},
   "outputs": [
    {
     "data": {
      "text/plain": [
       "      fun: 3.740000000000487e-08\n",
       " hess_inv: array([[1]])\n",
       "      jac: array([1.49011612e-07])\n",
       "  message: 'Optimization terminated successfully.'\n",
       "     nfev: 2\n",
       "      nit: 0\n",
       "     njev: 1\n",
       "   status: 0\n",
       "  success: True\n",
       "        x: array([0.2019])"
      ]
     },
     "execution_count": 33,
     "metadata": {},
     "output_type": "execute_result"
    }
   ],
   "source": [
    "minimize(fun_err2,data2['0.2'].mean(),args=(data2['0.2']))"
   ]
  },
  {
   "cell_type": "code",
   "execution_count": 34,
   "id": "336a0bce",
   "metadata": {},
   "outputs": [
    {
     "name": "stdout",
     "output_type": "stream",
     "text": [
      " col :   min    (  mean  )\n",
      " 0.2 : 0.201900 (0.201900)\n",
      " 0.7 : 0.377759 (0.377759)\n",
      " 0.8 : 0.403882 (0.403882)\n",
      " 1.2 : 0.494707 (0.494707)\n",
      " 1.3 : 0.514983 (0.514983)\n",
      " 1.8 : 0.606071 (0.606071)\n"
     ]
    }
   ],
   "source": [
    "print(\"{:^5}: {:^8} ({:^8})\".format(\"col\",\"min\",\"mean\"))\n",
    "for col in list(data2.columns):\n",
    "    res_min = minimize(fun_err2,1,args=(data2[col]))\n",
    "    print(\"{:^5}: {:8.6f} ({:8.6f})\".format(col,float(res_min.x),data_stats.loc[col,'dmean']))"
   ]
  },
  {
   "cell_type": "code",
   "execution_count": 35,
   "id": "c3fb5b03",
   "metadata": {},
   "outputs": [],
   "source": [
    "def fun_err3(m,x):\n",
    "    err = 0\n",
    "    for x_i in x:\n",
    "        err += np.abs(x_i - m)\n",
    "    #err = np.sqrt(err/x.shape[0])\n",
    "    return err"
   ]
  },
  {
   "cell_type": "code",
   "execution_count": 36,
   "id": "3413331b",
   "metadata": {},
   "outputs": [
    {
     "data": {
      "text/plain": [
       "0.0005599999999999772"
      ]
     },
     "execution_count": 36,
     "metadata": {},
     "output_type": "execute_result"
    }
   ],
   "source": [
    "fun_err3(data2['0.2'].mean(),data2['0.2'])"
   ]
  },
  {
   "cell_type": "code",
   "execution_count": 37,
   "id": "350d7ba6",
   "metadata": {},
   "outputs": [
    {
     "data": {
      "text/plain": [
       "      fun: 0.0005000017699288428\n",
       " hess_inv: array([[7.97330502e-06]])\n",
       "      jac: array([1.76244418])\n",
       "  message: 'Desired error not necessarily achieved due to precision loss.'\n",
       "     nfev: 120\n",
       "      nit: 1\n",
       "     njev: 54\n",
       "   status: 2\n",
       "  success: False\n",
       "        x: array([0.20193])"
      ]
     },
     "execution_count": 37,
     "metadata": {},
     "output_type": "execute_result"
    }
   ],
   "source": [
    "minimize(fun_err3,data2['0.2'].mean(),args=(data2['0.2']))"
   ]
  },
  {
   "cell_type": "code",
   "execution_count": 38,
   "id": "02fbef16",
   "metadata": {},
   "outputs": [],
   "source": [
    "data_exp = pd.DataFrame(data_stats.dmean)"
   ]
  },
  {
   "cell_type": "code",
   "execution_count": 39,
   "id": "820434b5",
   "metadata": {},
   "outputs": [
    {
     "data": {
      "text/html": [
       "<div>\n",
       "<style scoped>\n",
       "    .dataframe tbody tr th:only-of-type {\n",
       "        vertical-align: middle;\n",
       "    }\n",
       "\n",
       "    .dataframe tbody tr th {\n",
       "        vertical-align: top;\n",
       "    }\n",
       "\n",
       "    .dataframe thead th {\n",
       "        text-align: right;\n",
       "    }\n",
       "</style>\n",
       "<table border=\"1\" class=\"dataframe\">\n",
       "  <thead>\n",
       "    <tr style=\"text-align: right;\">\n",
       "      <th></th>\n",
       "      <th>dmean</th>\n",
       "    </tr>\n",
       "  </thead>\n",
       "  <tbody>\n",
       "    <tr>\n",
       "      <th>0.2</th>\n",
       "      <td>0.201900</td>\n",
       "    </tr>\n",
       "    <tr>\n",
       "      <th>0.7</th>\n",
       "      <td>0.377759</td>\n",
       "    </tr>\n",
       "    <tr>\n",
       "      <th>0.8</th>\n",
       "      <td>0.403882</td>\n",
       "    </tr>\n",
       "    <tr>\n",
       "      <th>1.2</th>\n",
       "      <td>0.494707</td>\n",
       "    </tr>\n",
       "    <tr>\n",
       "      <th>1.3</th>\n",
       "      <td>0.514983</td>\n",
       "    </tr>\n",
       "    <tr>\n",
       "      <th>1.8</th>\n",
       "      <td>0.606071</td>\n",
       "    </tr>\n",
       "  </tbody>\n",
       "</table>\n",
       "</div>"
      ],
      "text/plain": [
       "        dmean\n",
       "0.2  0.201900\n",
       "0.7  0.377759\n",
       "0.8  0.403882\n",
       "1.2  0.494707\n",
       "1.3  0.514983\n",
       "1.8  0.606071"
      ]
     },
     "execution_count": 39,
     "metadata": {},
     "output_type": "execute_result"
    }
   ],
   "source": [
    "data_exp"
   ]
  },
  {
   "cell_type": "code",
   "execution_count": 40,
   "id": "80921c24",
   "metadata": {},
   "outputs": [],
   "source": [
    "def freefall_err(g,y_exp,t):\n",
    "    err = 0\n",
    "    y_theo = 0.5*g*t**2\n",
    "    err = (y_theo - y_exp)**2\n",
    "    return np.sum(err)"
   ]
  },
  {
   "cell_type": "code",
   "execution_count": 41,
   "id": "c34568f9",
   "metadata": {},
   "outputs": [
    {
     "name": "stdout",
     "output_type": "stream",
     "text": [
      "['0.2' '0.7' '0.8' '1.2' '1.3' '1.8']\n"
     ]
    }
   ],
   "source": [
    "y_exp = np.array(list(data_exp.index))\n",
    "print(y_exp)"
   ]
  },
  {
   "cell_type": "code",
   "execution_count": 42,
   "id": "b6733fc2",
   "metadata": {},
   "outputs": [
    {
     "data": {
      "text/plain": [
       "dtype('<U3')"
      ]
     },
     "execution_count": 42,
     "metadata": {},
     "output_type": "execute_result"
    }
   ],
   "source": [
    "y_exp.dtype"
   ]
  },
  {
   "cell_type": "code",
   "execution_count": 43,
   "id": "bed8dbb5",
   "metadata": {},
   "outputs": [
    {
     "data": {
      "text/plain": [
       "dtype('float64')"
      ]
     },
     "execution_count": 43,
     "metadata": {},
     "output_type": "execute_result"
    }
   ],
   "source": [
    "y_exp = np.array(list(data_exp.index),dtype=float)\n",
    "y_exp.dtype"
   ]
  },
  {
   "cell_type": "code",
   "execution_count": 44,
   "id": "7ce5cf3b",
   "metadata": {},
   "outputs": [
    {
     "name": "stdout",
     "output_type": "stream",
     "text": [
      "[0.2 0.7 0.8 1.2 1.3 1.8]\n"
     ]
    }
   ],
   "source": [
    "print(y_exp)"
   ]
  },
  {
   "cell_type": "code",
   "execution_count": 45,
   "id": "cf99eb95",
   "metadata": {},
   "outputs": [
    {
     "name": "stdout",
     "output_type": "stream",
     "text": [
      "[0.2019   0.377759 0.403882 0.494707 0.514983 0.606071]\n"
     ]
    }
   ],
   "source": [
    "t = np.array(list(data_exp.dmean[:]))\n",
    "print(t)"
   ]
  },
  {
   "cell_type": "markdown",
   "id": "dbe90be2",
   "metadata": {},
   "source": [
    "## We can do that manually!... (???)"
   ]
  },
  {
   "cell_type": "code",
   "execution_count": 46,
   "id": "a2119ae9",
   "metadata": {},
   "outputs": [
    {
     "data": {
      "text/plain": [
       "0.05069082651399326"
      ]
     },
     "execution_count": 46,
     "metadata": {},
     "output_type": "execute_result"
    }
   ],
   "source": [
    "freefall_err(9,y_exp,t)"
   ]
  },
  {
   "cell_type": "code",
   "execution_count": 47,
   "id": "53857427",
   "metadata": {},
   "outputs": [
    {
     "data": {
      "text/plain": [
       "0.0388634097682171"
      ]
     },
     "execution_count": 47,
     "metadata": {},
     "output_type": "execute_result"
    }
   ],
   "source": [
    "freefall_err(9.1,y_exp,t)"
   ]
  },
  {
   "cell_type": "code",
   "execution_count": 48,
   "id": "70c28a20",
   "metadata": {},
   "outputs": [
    {
     "name": "stdout",
     "output_type": "stream",
     "text": [
      "9.000:  0.050691\n",
      "9.100:  0.038863\n",
      "9.200:  0.028605\n",
      "9.300:  0.019915\n",
      "9.400:  0.012795\n",
      "9.500:  0.007243\n",
      "9.600:  0.003261\n",
      "9.700:  0.000847\n",
      "9.800:  0.000002\n",
      "9.900:  0.000726\n"
     ]
    }
   ],
   "source": [
    "for g in np.arange(9,10,0.1):\n",
    "    print(\"{:5.3f}:{:10.6f}\".format(g,freefall_err(g,y_exp,t)))"
   ]
  },
  {
   "cell_type": "code",
   "execution_count": 49,
   "id": "9455f41e",
   "metadata": {},
   "outputs": [
    {
     "name": "stdout",
     "output_type": "stream",
     "text": [
      "9.700:  0.000847\n",
      "9.710:  0.000692\n",
      "9.720:  0.000552\n",
      "9.730:  0.000429\n",
      "9.740:  0.000321\n",
      "9.750:  0.000228\n",
      "9.760:  0.000152\n",
      "9.770:  0.000091\n",
      "9.780:  0.000045\n",
      "9.790:  0.000016\n",
      "9.800:  0.000002\n",
      "9.810:  0.000004\n",
      "9.820:  0.000021\n",
      "9.830:  0.000055\n",
      "9.840:  0.000103\n",
      "9.850:  0.000168\n",
      "9.860:  0.000248\n",
      "9.870:  0.000344\n",
      "9.880:  0.000456\n",
      "9.890:  0.000583\n",
      "9.900:  0.000726\n"
     ]
    }
   ],
   "source": [
    "for g in np.arange(9.7,9.9,0.01):\n",
    "    print(\"{:5.3f}:{:10.6f}\".format(g,freefall_err(g,y_exp,t)))"
   ]
  },
  {
   "cell_type": "code",
   "execution_count": 50,
   "id": "7b2dfc40",
   "metadata": {},
   "outputs": [
    {
     "name": "stdout",
     "output_type": "stream",
     "text": [
      "9.790:0.00001591\n",
      "9.791:0.00001382\n",
      "9.792:0.00001188\n",
      "9.793:0.00001010\n",
      "9.794:0.00000848\n",
      "9.795:0.00000701\n",
      "9.796:0.00000570\n",
      "9.797:0.00000455\n",
      "9.798:0.00000355\n",
      "9.799:0.00000272\n",
      "9.800:0.00000203\n",
      "9.801:0.00000151\n",
      "9.802:0.00000114\n",
      "9.803:0.00000093\n",
      "9.804:0.00000088\n",
      "9.805:0.00000098\n",
      "9.806:0.00000124\n",
      "9.807:0.00000166\n",
      "9.808:0.00000223\n",
      "9.809:0.00000296\n",
      "9.810:0.00000385\n"
     ]
    }
   ],
   "source": [
    "for g in np.arange(9.79,9.81,0.001):\n",
    "    print(\"{:5.3f}:{:10.8f}\".format(g,freefall_err(g,y_exp,t)))"
   ]
  },
  {
   "cell_type": "code",
   "execution_count": 51,
   "id": "d37be9d8",
   "metadata": {},
   "outputs": [
    {
     "name": "stdout",
     "output_type": "stream",
     "text": [
      "      fun: 8.748023164225757e-07\n",
      " hess_inv: array([[6.3736979]])\n",
      "      jac: array([-2.0061961e-09])\n",
      "  message: 'Optimization terminated successfully.'\n",
      "     nfev: 10\n",
      "      nit: 4\n",
      "     njev: 5\n",
      "   status: 0\n",
      "  success: True\n",
      "        x: array([9.8038438])\n"
     ]
    }
   ],
   "source": [
    "res_min = minimize(freefall_err,x0=1,args=(y_exp,t))\n",
    "print(res_min)"
   ]
  },
  {
   "cell_type": "code",
   "execution_count": 52,
   "id": "0f5327c2",
   "metadata": {},
   "outputs": [
    {
     "data": {
      "image/png": "[encoded data removed]",
      "text/plain": [
       "<Figure size 432x288 with 1 Axes>"
      ]
     },
     "metadata": {
      "filenames": {
       "image/png": "/stmp/code/books/FIZ228/_build/jupyter_execute/FIZ228_03_LeastSquaresErrors_68_0.png"
      }
     },
     "output_type": "display_data"
    }
   ],
   "source": [
    "import matplotlib.pyplot as plt\n",
    "plt.plot(t,y_exp,\"or\")\n",
    "tt = np.linspace(0,0.7,100)\n",
    "plt.plot(tt,0.5*res_min.x*tt**2,\"-b\")\n",
    "plt.show()"
   ]
  },
  {
   "cell_type": "markdown",
   "id": "feac04f2",
   "metadata": {},
   "source": [
    "## Least Squares ([numpy.linalg.lstsq](https://numpy.org/doc/stable/reference/generated/numpy.linalg.lstsq.html) & [scipy.linalg.lstsq](https://docs.scipy.org/doc/scipy/reference/generated/scipy.linalg.lstsq.html#scipy.linalg.lstsq) & [scipy.optimize.least_squares](https://docs.scipy.org/doc/scipy/reference/generated/scipy.optimize.least_squares.html)) but not least! 8)"
   ]
  },
  {
   "cell_type": "markdown",
   "id": "71d7c420",
   "metadata": {},
   "source": [
    "NumPy and SciPy's `linalg.lstsq` functions works similar to each other, solving the matrix equation $Ax=b$ but as the _coefficients matrix_ $A$ must be defined as a <u>matrix</u>, we add a \"zeros\" column next to $\\tfrac{1}{2}t^2$ values, to indicate that our equation is of the form:\n",
    "\n",
    "$$\\left(\\frac{1}{2}t^2\\right)g^1 + (0)g^0 = y_{exp}$$"
   ]
  },
  {
   "cell_type": "code",
   "execution_count": 53,
   "id": "d562bcb4",
   "metadata": {},
   "outputs": [
    {
     "data": {
      "text/plain": [
       "array([[0.02038181, 0.        ],\n",
       "       [0.07135093, 0.        ],\n",
       "       [0.08156033, 0.        ],\n",
       "       [0.12236751, 0.        ],\n",
       "       [0.13260375, 0.        ],\n",
       "       [0.18366103, 0.        ]])"
      ]
     },
     "execution_count": 53,
     "metadata": {},
     "output_type": "execute_result"
    }
   ],
   "source": [
    "A = np.vstack([(0.5*t**2),np.zeros(len(t))]).T\n",
    "A"
   ]
  },
  {
   "cell_type": "markdown",
   "id": "5ed89d4a",
   "metadata": {},
   "source": [
    "### [numpy.linalg.lstsq](https://numpy.org/doc/stable/reference/generated/numpy.linalg.lstsq.html)"
   ]
  },
  {
   "cell_type": "code",
   "execution_count": 54,
   "id": "9db0228a",
   "metadata": {},
   "outputs": [
    {
     "data": {
      "text/plain": [
       "9.803843815755029"
      ]
     },
     "execution_count": 54,
     "metadata": {},
     "output_type": "execute_result"
    }
   ],
   "source": [
    "g_ls_np, _ = np.linalg.lstsq(A,y_exp,rcond=None)[0]\n",
    "g_ls_np"
   ]
  },
  {
   "cell_type": "markdown",
   "id": "fd16a419",
   "metadata": {},
   "source": [
    "### [scipy.linalg.lstsq](https://docs.scipy.org/doc/scipy/reference/generated/scipy.linalg.lstsq.html#scipy.linalg.lstsq)"
   ]
  },
  {
   "cell_type": "code",
   "execution_count": 55,
   "id": "349f5610",
   "metadata": {},
   "outputs": [
    {
     "data": {
      "text/plain": [
       "9.803843815755029"
      ]
     },
     "execution_count": 55,
     "metadata": {},
     "output_type": "execute_result"
    }
   ],
   "source": [
    "import scipy as sp\n",
    "g_ls_sp, _ = sp.linalg.lstsq(A,y_exp)[0]\n",
    "g_ls_np"
   ]
  },
  {
   "cell_type": "markdown",
   "id": "3159e3c7",
   "metadata": {},
   "source": [
    "### [scipy.optimize.least_squares](https://docs.scipy.org/doc/scipy/reference/generated/scipy.optimize.least_squares.html)\n",
    "\n",
    "SciPy's `optimize.least_squares` is a totally different beast, though. It tries to minimize the cost function (e.g., errors). Its main difference from the above two is that it supports nonlinear least-squares problems and also accepts boundaries on the variables. It is included here only to give you an idea (as it is more or less the same with the `optimize.minimize` ;)"
   ]
  },
  {
   "cell_type": "code",
   "execution_count": 56,
   "id": "b7d705bf",
   "metadata": {},
   "outputs": [],
   "source": [
    "def fun_err_g(g):\n",
    "    return (0.5*g*t**2 - y_exp)**2"
   ]
  },
  {
   "cell_type": "code",
   "execution_count": 57,
   "id": "5d27a44e",
   "metadata": {},
   "outputs": [
    {
     "data": {
      "text/plain": [
       "9.81433312096714"
      ]
     },
     "execution_count": 57,
     "metadata": {},
     "output_type": "execute_result"
    }
   ],
   "source": [
    "g_ls_sp_opt = sp.optimize.least_squares(fun_err_g,10).x[0]\n",
    "g_ls_sp_opt"
   ]
  },
  {
   "cell_type": "markdown",
   "id": "ff997b29",
   "metadata": {},
   "source": [
    "# Various Definitions\n",
    "## Sum of the squares of the data residuals ($S_t$)\n",
    "$$S_t = \\sum_{i}{\\left(y_i - \\bar{y}\\right)^2}$$\n",
    "($\\leftrightarrow$ Standard deviation $\\sigma=\\sqrt{\\frac{S_t}{n-1}}$, variance $\\sigma^2=\\frac{\\sum_{i}{\\left(y_i-\\bar{y}\\right)^2}}{n-1}=\\frac{\\sum_{i}{y_i^2}-\\left(\\sum_{i}{y_i}\\right)^2/n}{n-1}$)\n",
    "## Coefficient of variation\n",
    "$$\\text{c.v.} = \\frac{s_y}{\\bar{y}}\\times\\,100\\%$$\n",
    "## Sum of the squares of the estimate residuals ($S_r$)\n",
    "$$S_r = \\sum_{i}{e_i^2}=\\sum_{i}\\left(y_i-a_0-a_1 x_i\\right)^2$$\n",
    "## Standard error of the estimate: ($s_{y/x}$)\n",
    "$$s_{y/x}= \\sqrt{\\frac{S_r}{n-2}}$$\n",
    "\n",
    "![standard_errors.png](imgs/03_standard_errors_Chapra.png)\n",
    "(a) $S_t$, (b) $S_r$\n",
    "\n",
    "(Source: [S.C. Chapra, Applied Numerical Methods with MATLAB](https://www.mheducation.com/highered/product/applied-numerical-methods-matlab-engineers-scientists-chapra/M9780073397962.html))\n",
    "\n",
    "## Coefficient of Determination ($r^2$)\n",
    "$$r^2 = \\frac{S_t-S_r}{S_t}$$"
   ]
  },
  {
   "cell_type": "markdown",
   "id": "6c055538",
   "metadata": {},
   "source": [
    "# References\n",
    "* D. Horvat & R. Jecmenica, \"The Free Fall Experiment\" Resonance 21 259-275 (2016) [https://doi.org/10.1007/s12045-016-0321-9]\n",
    "* This lecture is heavily benefited from Steven Chapra's [Applied Numerical Methods with MATLAB: for Engineers & Scientists](https://www.mheducation.com/highered/product/applied-numerical-methods-matlab-engineers-scientists-chapra/M9780073397962.html)."
   ]
  }
 ],
 "metadata": {
  "jupytext": {
   "formats": "ipynb,md:myst",
   "text_representation": {
    "extension": ".md",
    "format_name": "myst",
    "format_version": 0.13,
    "jupytext_version": "1.11.5"
   }
  },
  "kernelspec": {
   "display_name": "Python 3 (ipykernel)",
   "language": "python",
   "name": "python3"
  },
  "language_info": {
   "codemirror_mode": {
    "name": "ipython",
    "version": 3
   },
   "file_extension": ".py",
   "mimetype": "text/x-python",
   "name": "python",
   "nbconvert_exporter": "python",
   "pygments_lexer": "ipython3",
   "version": "3.8.5"
  },
  "source_map": [
   13,
   19,
   32,
   52,
   57,
   61,
   66,
   70,
   74,
   78,
   80,
   84,
   89,
   91,
   95,
   98,
   102,
   107,
   112,
   117,
   121,
   129,
   131,
   139,
   153,
   155,
   161,
   184,
   191,
   197,
   202,
   218,
   234,
   239,
   243,
   245,
   249,
   253,
   264,
   268,
   272,
   276,
   280,
   284,
   288,
   293,
   297,
   306,
   310,
   314,
   321,
   330,
   334,
   338,
   342,
   346,
   354,
   359,
   363,
   368,
   372,
   375,
   379,
   383,
   387,
   392,
   397,
   402,
   407,
   413,
   417,
   423,
   426,
   430,
   433,
   437,
   441,
   447,
   452,
   455,
   476
  ]
 },
 "nbformat": 4,
 "nbformat_minor": 5
}