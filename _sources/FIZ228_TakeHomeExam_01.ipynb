{
 "cells": [
  {
   "cell_type": "markdown",
   "id": "8e67df22",
   "metadata": {},
   "source": [
    "# Take-Home Exam #1\n",
    "**FIZ228 - Numerical Analysis**  \n",
    "Dr. Emre S. Tasci, Hacettepe University\n",
    "\n",
    "_It is strictly forbidden to contact anybody outside your group or seeking the direct answer on the internet. Every member of the group is responsible for every one of the questions._"
   ]
  },
  {
   "cell_type": "code",
   "execution_count": 1,
   "id": "0a3b577e",
   "metadata": {},
   "outputs": [],
   "source": [
    "import numpy as np\n",
    "import pandas as pd"
   ]
  },
  {
   "cell_type": "code",
   "execution_count": 2,
   "id": "e82da7a9",
   "metadata": {},
   "outputs": [],
   "source": [
    "import seaborn as sns\n",
    "sns.set_theme()"
   ]
  },
  {
   "cell_type": "markdown",
   "id": "dd650f2e",
   "metadata": {},
   "source": [
    "Monoclinic structures' space groups are designated in the range of $[3,15]$. \n",
    "\n",
    "a) From the random structures database (file: `01_RandomStructureDB.csv`), filter the monoclinic structures and copy them to a new `strdb_monoclinic` dataframe, resetting the index (as there are 88 such entries, the index will run from 0 to 87).\n",
    "\n",
    "b) Calculate their unit cell volumes:  \n",
    "   lattice parameters are stored in the `a,b,c,alpha,beta,gamma` columns:  \n",
    "   * $\\alpha$ is the angle between b & c,\n",
    "   * $\\beta$ is the angle between a & c,\n",
    "   * $\\gamma$ is the angle between a & b  \n",
    "   \n",
    "   add a `Volume` column that stores their corresponding volumes. \n",
    "   \n",
    "   A generic volume formula for all kinds of structures is defined as:\n",
    "   \n",
    "   $$V = a b c \\sqrt{1+2\\cos(\\alpha)\\cos(\\beta)\\cos(\\gamma)-\\cos^2(\\alpha)-\\cos^2(\\beta)-\\cos^2(\\gamma)}$$\n",
    "   \n",
    "   (Keep in mind that the angles are given in degrees, not radians!)\n",
    "   \n",
    "   <b>Hint:</b> You can directly evaluate operations with columns, for example: `strdb_monoclinic['a']*strdb_monoclinic['b']` will return you a Pandas object (Series) that holds the summations of the corresponding a and b values! ;)\n",
    "\n",
    "c) Drop the structures that have volumes greater than $1000\\, \\unicode[serif]{xC5}^3$ from `strdb_monoclinic` and re-reset the index (you should have 55 entries remaining)\n",
    "\n",
    "d) Plot the histogram of the volumes (using 10 bins). \n",
    "\n",
    "It should like this:\n",
    "\n",
    "![HW1_d_histogram.png](imgs/HW1_d_histogram.png)\n",
    "\n",
    "**Bonus:** [\"Pearson symbol\"](https://en.wikipedia.org/wiki/Pearson_symbol) contains the lattice type, centering and the number of atoms in the unit cell. For example, the Pearson symbol \"mP64\" indicates that the lattice is **m**onoclinic, **P**rimitive and contains 64 atoms in the unit cell. We are going to parse the number of atoms information from the Pearson cell (by discarding all the characters that are not numeric -- this is easily done using [regular expressions](https://en.wikipedia.org/wiki/Regular_expression): they look cryptic but can be used to describe any pattern if used correctly). To do this operation, we will employ Pandas' `replace()` method:\n",
    "\n",
    "```python\n",
    "strdb_monoclinic.loc[:,['PearsonSymb']].replace(r\"[^0-9]\",\"\",regex=True)\n",
    "```\n",
    "\n",
    "**Explanation:**\n",
    "1. `strdb_monoclinic.loc[:,['PearsonSymb']]` :retrieve the PearsonSymb column\n",
    "2. `.replace(r\"[^0-9]\",\"\",regex=True)`: for each value, find all the characters that are not numeric (i.e., not a digit from 0 to 9 -- '^' indicates negation), replace it with nothing (i.e., \"\") and interpret our query as a regex operation (i.e., `regex=True`)\n",
    "\n",
    "Here is a sample:\n",
    "\n",
    "(As in this tutorial we are constructing our dataframe from a string, not a file, we make it appear as a file via the `StringIO` command)"
   ]
  },
  {
   "cell_type": "code",
   "execution_count": 3,
   "id": "d3a7af35",
   "metadata": {},
   "outputs": [
    {
     "data": {
      "text/html": [
       "<div>\n",
       "<style scoped>\n",
       "    .dataframe tbody tr th:only-of-type {\n",
       "        vertical-align: middle;\n",
       "    }\n",
       "\n",
       "    .dataframe tbody tr th {\n",
       "        vertical-align: top;\n",
       "    }\n",
       "\n",
       "    .dataframe thead th {\n",
       "        text-align: right;\n",
       "    }\n",
       "</style>\n",
       "<table border=\"1\" class=\"dataframe\">\n",
       "  <thead>\n",
       "    <tr style=\"text-align: right;\">\n",
       "      <th></th>\n",
       "      <th>StructuralForm</th>\n",
       "      <th>PearsonSymb</th>\n",
       "    </tr>\n",
       "  </thead>\n",
       "  <tbody>\n",
       "    <tr>\n",
       "      <th>0</th>\n",
       "      <td>Ce Ru2 Ge2</td>\n",
       "      <td>tI10</td>\n",
       "    </tr>\n",
       "    <tr>\n",
       "      <th>1</th>\n",
       "      <td>La1.85 Si4 Y3.15</td>\n",
       "      <td>tP36</td>\n",
       "    </tr>\n",
       "    <tr>\n",
       "      <th>2</th>\n",
       "      <td>Gd Mn2</td>\n",
       "      <td>cF24</td>\n",
       "    </tr>\n",
       "    <tr>\n",
       "      <th>3</th>\n",
       "      <td>Ce5 Ni1.85 Si3</td>\n",
       "      <td>hP39</td>\n",
       "    </tr>\n",
       "    <tr>\n",
       "      <th>4</th>\n",
       "      <td>Li3 Mg2 (Nb O6)</td>\n",
       "      <td>oF96</td>\n",
       "    </tr>\n",
       "  </tbody>\n",
       "</table>\n",
       "</div>"
      ],
      "text/plain": [
       "     StructuralForm PearsonSymb\n",
       "0        Ce Ru2 Ge2        tI10\n",
       "1  La1.85 Si4 Y3.15        tP36\n",
       "2            Gd Mn2        cF24\n",
       "3    Ce5 Ni1.85 Si3        hP39\n",
       "4   Li3 Mg2 (Nb O6)        oF96"
      ]
     },
     "execution_count": 3,
     "metadata": {},
     "output_type": "execute_result"
    }
   ],
   "source": [
    "from io import StringIO\n",
    "sample_data = StringIO('StructuralForm,PearsonSymb\\nCe Ru2 Ge2,tI10\\nLa1.85 Si4 Y3.15,tP36\\nGd Mn2,cF24\\nCe5 Ni1.85 Si3,hP39\\nLi3 Mg2 (Nb O6),oF96\\n')\n",
    "sample_df = pd.read_csv(sample_data)\n",
    "sample_df"
   ]
  },
  {
   "cell_type": "code",
   "execution_count": 4,
   "id": "25eb1b49",
   "metadata": {},
   "outputs": [
    {
     "data": {
      "text/html": [
       "<div>\n",
       "<style scoped>\n",
       "    .dataframe tbody tr th:only-of-type {\n",
       "        vertical-align: middle;\n",
       "    }\n",
       "\n",
       "    .dataframe tbody tr th {\n",
       "        vertical-align: top;\n",
       "    }\n",
       "\n",
       "    .dataframe thead th {\n",
       "        text-align: right;\n",
       "    }\n",
       "</style>\n",
       "<table border=\"1\" class=\"dataframe\">\n",
       "  <thead>\n",
       "    <tr style=\"text-align: right;\">\n",
       "      <th></th>\n",
       "      <th>PearsonSymb</th>\n",
       "    </tr>\n",
       "  </thead>\n",
       "  <tbody>\n",
       "    <tr>\n",
       "      <th>0</th>\n",
       "      <td>10</td>\n",
       "    </tr>\n",
       "    <tr>\n",
       "      <th>1</th>\n",
       "      <td>36</td>\n",
       "    </tr>\n",
       "    <tr>\n",
       "      <th>2</th>\n",
       "      <td>24</td>\n",
       "    </tr>\n",
       "    <tr>\n",
       "      <th>3</th>\n",
       "      <td>39</td>\n",
       "    </tr>\n",
       "    <tr>\n",
       "      <th>4</th>\n",
       "      <td>96</td>\n",
       "    </tr>\n",
       "  </tbody>\n",
       "</table>\n",
       "</div>"
      ],
      "text/plain": [
       "  PearsonSymb\n",
       "0          10\n",
       "1          36\n",
       "2          24\n",
       "3          39\n",
       "4          96"
      ]
     },
     "execution_count": 4,
     "metadata": {},
     "output_type": "execute_result"
    }
   ],
   "source": [
    "# find and replace the non-numeric characters in 'PearsonSymb'\n",
    "sample_df.loc[:,['PearsonSymb']].replace(r\"[^0-9]\",\"\",regex=True)"
   ]
  },
  {
   "cell_type": "code",
   "execution_count": 5,
   "id": "763e4144",
   "metadata": {},
   "outputs": [
    {
     "data": {
      "text/html": [
       "<div>\n",
       "<style scoped>\n",
       "    .dataframe tbody tr th:only-of-type {\n",
       "        vertical-align: middle;\n",
       "    }\n",
       "\n",
       "    .dataframe tbody tr th {\n",
       "        vertical-align: top;\n",
       "    }\n",
       "\n",
       "    .dataframe thead th {\n",
       "        text-align: right;\n",
       "    }\n",
       "</style>\n",
       "<table border=\"1\" class=\"dataframe\">\n",
       "  <thead>\n",
       "    <tr style=\"text-align: right;\">\n",
       "      <th></th>\n",
       "      <th>StructuralForm</th>\n",
       "      <th>PearsonSymb</th>\n",
       "      <th>numatoms</th>\n",
       "    </tr>\n",
       "  </thead>\n",
       "  <tbody>\n",
       "    <tr>\n",
       "      <th>0</th>\n",
       "      <td>Ce Ru2 Ge2</td>\n",
       "      <td>tI10</td>\n",
       "      <td>10</td>\n",
       "    </tr>\n",
       "    <tr>\n",
       "      <th>1</th>\n",
       "      <td>La1.85 Si4 Y3.15</td>\n",
       "      <td>tP36</td>\n",
       "      <td>36</td>\n",
       "    </tr>\n",
       "    <tr>\n",
       "      <th>2</th>\n",
       "      <td>Gd Mn2</td>\n",
       "      <td>cF24</td>\n",
       "      <td>24</td>\n",
       "    </tr>\n",
       "    <tr>\n",
       "      <th>3</th>\n",
       "      <td>Ce5 Ni1.85 Si3</td>\n",
       "      <td>hP39</td>\n",
       "      <td>39</td>\n",
       "    </tr>\n",
       "    <tr>\n",
       "      <th>4</th>\n",
       "      <td>Li3 Mg2 (Nb O6)</td>\n",
       "      <td>oF96</td>\n",
       "      <td>96</td>\n",
       "    </tr>\n",
       "  </tbody>\n",
       "</table>\n",
       "</div>"
      ],
      "text/plain": [
       "     StructuralForm PearsonSymb  numatoms\n",
       "0        Ce Ru2 Ge2        tI10        10\n",
       "1  La1.85 Si4 Y3.15        tP36        36\n",
       "2            Gd Mn2        cF24        24\n",
       "3    Ce5 Ni1.85 Si3        hP39        39\n",
       "4   Li3 Mg2 (Nb O6)        oF96        96"
      ]
     },
     "execution_count": 5,
     "metadata": {},
     "output_type": "execute_result"
    }
   ],
   "source": [
    "# while we are at it, we can define a new column\n",
    "# using these processed values as well! 8)\n",
    "\n",
    "# Pay special attention that we need to convert the replace results\n",
    "# to integers (using 'astype(int)')\n",
    "sample_df['numatoms'] = sample_df.loc[:,['PearsonSymb']]\\\n",
    "        .replace(r\"[^0-9]\",\"\",regex=True).astype(int)\n",
    "sample_df"
   ]
  },
  {
   "cell_type": "markdown",
   "id": "55a5560f",
   "metadata": {},
   "source": [
    "Now that we have learned how to parse the number of atoms in the unit cell, use this to plot volume with respect to the number of atoms, and while doing that, use the publication date as hue and the beta angle(*) as size via Seaborn.\n",
    "\n",
    "_**(\\*) Challenge:** In standard settings, for monoclinic structures, beta angle is defined as the non-perpendicular angle. However, as you can observe, sometimes the data is entered in non-standard settings and alpha or gamma can be defined as the non-perpendicular angle as well. To remedy this issue, instead of using beta angle, use the maximum angle among the (alpha,beta,gamma) for your size criteria, if you can! ;)_\n",
    "\n",
    "It should look like this:\n",
    "\n",
    "![HW1_xbonus_volVSnumatoms.png](imgs/HW1_xbonus_volVSnumatoms.png)"
   ]
  },
  {
   "cell_type": "code",
   "execution_count": null,
   "id": "bf6480e2",
   "metadata": {},
   "outputs": [],
   "source": []
  }
 ],
 "metadata": {
  "jupytext": {
   "formats": "ipynb,md:myst",
   "text_representation": {
    "extension": ".md",
    "format_name": "myst",
    "format_version": 0.13,
    "jupytext_version": "1.11.5"
   }
  },
  "kernelspec": {
   "display_name": "Python 3 (ipykernel)",
   "language": "python",
   "name": "python3"
  },
  "language_info": {
   "codemirror_mode": {
    "name": "ipython",
    "version": 3
   },
   "file_extension": ".py",
   "mimetype": "text/x-python",
   "name": "python",
   "nbconvert_exporter": "python",
   "pygments_lexer": "ipython3",
   "version": "3.8.5"
  },
  "source_map": [
   13,
   21,
   26,
   29,
   73,
   80,
   85,
   94,
   104
  ]
 },
 "nbformat": 4,
 "nbformat_minor": 5
}