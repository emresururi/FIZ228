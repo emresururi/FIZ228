{
 "cells": [
  {
   "cell_type": "markdown",
   "id": "8abf9091",
   "metadata": {},
   "source": [
    "# Take-Home Exam #3\n",
    "**FIZ228 - Numerical Analysis**  \n",
    "Dr. Emre S. Tasci, Hacettepe University\n",
    "\n",
    "_It is strictly forbidden to contact anybody outside your group or seeking the direct answer on the internet. Every member of the group is responsible for every one of the questions._"
   ]
  },
  {
   "cell_type": "markdown",
   "id": "15446c79",
   "metadata": {},
   "source": [
    "Fit the {download}`Silica FTIR data<data/05_Silica_FTIR.csv>` [Silica FTIR data] for the wavenumber range [900,1500] cm<sup>-1</sup>:\n",
    "\n",
    "1. Using 3 Gaussians\n",
    "2. Using 4 Gaussians\n",
    "3. Using 5 Gaussians\n",
    "4. Using 3 Lorentzians\n",
    "5. Using 2 Gaussians & 2 Lorentzians\n",
    "\n",
    "Calculate the coefficient of determination ($r^2$) for each fit."
   ]
  },
  {
   "cell_type": "markdown",
   "id": "b3165c8d",
   "metadata": {},
   "source": [
    "<hr>\n",
    "\n",
    "**Information:**\n",
    "\n",
    "A Gaussian characterized by ($A,\\mu,\\sigma$) is formulized as:\n",
    "\n",
    "$$G(x;A,\\mu,\\sigma) = A\\exp{\\left[-\\frac{(x-\\mu)^2}{2\\sigma^2}\\right]}$$\n",
    "\n",
    "whereas, a Lorentzian characterized by ($A,x_0,\\gamma$) is formulized as:\n",
    "\n",
    "$$ L(x;A,x_0,\\gamma)=A\\left[ { \\gamma \\over (x - x_0)^2 + \\gamma^2  } \\right]$$"
   ]
  },
  {
   "cell_type": "markdown",
   "id": "d1b08e12",
   "metadata": {},
   "source": [
    "**Hints:**\n",
    "\n",
    "* Once you solve one of the items, it will be pretty straightforward to apply the same routing to the rest.\n",
    "* If at first you don't get any result or error from the `curve_fit()` or any other fit function you are using, it is most likely due to a bad starting point. Trial & error is a good approach but taking a hint from [Cappeletti et al.'s graph](https://hadi.hacettepe.edu.tr/course/view.php?id=150905#section-7) is the best one! ;)\n",
    "* It's always a good idea to separately plot all the components to see if the components make sense (e.g., absorbance can never take negative values!)"
   ]
  },
  {
   "cell_type": "markdown",
   "id": "31251e20",
   "metadata": {},
   "source": [
    "As an example for the last one, check the following fit of 5 Gaussians, with _r<sup>2</sup>_ = 0.998:\n",
    "\n",
    "![HW3_bad5G_sum.png](imgs/HW3_bad5G_sum.png)\n",
    "\n",
    "Even though it seems very good, here are its components, separately drawn:\n",
    "\n",
    "![HW3_bad5G.png](imgs/HW3_bad5G.png)\n",
    "\n",
    "which doesn't make any sense as G3 & G5 Gaussians indicate a negative absorption!"
   ]
  },
  {
   "cell_type": "code",
   "execution_count": null,
   "id": "75444761",
   "metadata": {},
   "outputs": [],
   "source": []
  }
 ],
 "metadata": {
  "jupytext": {
   "formats": "ipynb,md:myst",
   "text_representation": {
    "extension": ".md",
    "format_name": "myst",
    "format_version": 0.13,
    "jupytext_version": "1.11.5"
   }
  },
  "kernelspec": {
   "display_name": "Python 3 (ipykernel)",
   "language": "python",
   "name": "python3"
  },
  "language_info": {
   "codemirror_mode": {
    "name": "ipython",
    "version": 3
   },
   "file_extension": ".py",
   "mimetype": "text/x-python",
   "name": "python",
   "nbconvert_exporter": "python",
   "pygments_lexer": "ipython3",
   "version": "3.8.5"
  },
  "source_map": [
   13,
   21,
   33,
   47,
   55,
   67
  ]
 },
 "nbformat": 4,
 "nbformat_minor": 5
}