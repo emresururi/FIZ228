{
 "cells": [
  {
   "cell_type": "markdown",
   "id": "c8ad6cda",
   "metadata": {},
   "source": [
    "# Lecture Notes"
   ]
  },
  {
   "cell_type": "markdown",
   "id": "fd4b2b53",
   "metadata": {},
   "source": [
    "1. [Importing, parsing, processing and exporting datasets](FIZ228_01_DataProcesses)\n",
    "    * Usage of the Pandas library to import data from CSV files\n",
    "    * Working with Pandas dataframe\n",
    "    * **Case Study:** Processing a Meteorological Dataset\n",
    "2. [Visualization of datasets](FIZ228_02_DataVisualization)\n",
    "    * Showcase of the Seaborn plotting library\n",
    "3. [Least Squares Method & Error Estimations](FIZ228_03_LeastSquaresErrors)\n",
    "    * **Case Study:** Free Fall\n",
    "    * Types of Error Estimations\n",
    "    * Fitting through minimization of least squares error\n",
    "    * Coefficient of Determination ($r^2$)\n",
    "    * scipy.optimize.minimize, numpy.linalg.lstsq, scipy.linalg.lstsq, scipy.optimize.least_squares, \n",
    "4. [Regression](FIZ228_04_Regression)\n",
    "    * **Case Study:** Drag Force\n",
    "    * Least-squares Method\n",
    "    * Adaptation of the Least-squares to non-linear models\n",
    "    * **Case Study:** FTIR data of Silica\n",
    "    * np.polyfit, scipy.optimize.curve_fit\n",
    "5. [Interpolation](FIZ228_05_Interpolation)\n",
    "    * Polynomial Interpolation\n",
    "    * Newton Interpolating Polynomials\n",
    "    * Lagrange Interpolating Polynomials\n",
    "    * Inverse Interpolation\n",
    "    * _Bonus: Finite Difference Method_\n",
    "    * **Example:** Heat distribution of a rod with boundary conditions\n",
    "    * Polyfit, poly1d, polyval and poly + roots\n",
    "6. [Minimization & Optimization](FIZ228_06_MinimizeOptimize)\n",
    "    * Single variable function\n",
    "    * Multi-variate function\n",
    "    * Minimization with constraints\n",
    "    * **Example:** Heron's Formula for Triangle's Area\n",
    "    * Gradient Descent Algorithm\n",
    "    * **Case Study:** 2 Springs, 1 Mass, 1 Side\n",
    "7. [Clustering and Classification](FIZ228_07_ClusteringAndClassification)\n",
    "    * Advantages of Clustering\n",
    "    * k-means Clustering\n",
    "8. [Ordinary Differential Equations](FIZ228_08_OrdinaryDifferentialEquations)\n",
    "    * Finite Difference Method\n",
    "    * Euler's Method\n",
    "    * Runge-Kutta Method (4th order: RK4)\n",
    "    * ODEs with initial conditions\n",
    "    * ODEs with boundary conditions"
   ]
  }
 ],
 "metadata": {
  "jupytext": {
   "formats": "ipynb,md:myst",
   "text_representation": {
    "extension": ".md",
    "format_name": "myst",
    "format_version": 0.13,
    "jupytext_version": "1.11.5"
   }
  },
  "kernelspec": {
   "display_name": "Python 3 (ipykernel)",
   "language": "python",
   "name": "python3"
  },
  "language_info": {
   "codemirror_mode": {
    "name": "ipython",
    "version": 3
   },
   "file_extension": ".py",
   "mimetype": "text/x-python",
   "name": "python",
   "nbconvert_exporter": "python",
   "pygments_lexer": "ipython3",
   "version": "3.8.5"
  },
  "source_map": [
   13,
   17
  ]
 },
 "nbformat": 4,
 "nbformat_minor": 5
}