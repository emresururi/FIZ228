{
 "cells": [
  {
   "cell_type": "markdown",
   "id": "fe357281",
   "metadata": {},
   "source": [
    "# Introduction\n",
    "\n",
    "## FIZ228 - Numerical Analysis  \n",
    "**Dr. Emre S. Tasci** <emre.tasci@hacettepe.edu.tr>  \n",
    "Department of Engineering Physics  \n",
    "Hacettepe University  \n",
    "Ankara / Turkey"
   ]
  },
  {
   "cell_type": "markdown",
   "id": "c926a6fa",
   "metadata": {},
   "source": [
    "This jupyter book is prepared to be used as a companion to the \"FIZ228 - Numerical Analysis\" course, prepared during its first run in the Spring term of 2022-2023. Wishing you all the best! 8)"
   ]
  },
  {
   "cell_type": "markdown",
   "id": "ae6f409d",
   "metadata": {},
   "source": [
    "February 2023,  \n",
    "Dr. Emre S. Tasci\n",
    "\n",
    "The most recent version of the [source files](https://github.com/emresururi/FIZ228) and [this jupyter book](https://emresururi.github.io/FIZ228/) can be obtained via the [FIZ228 GitHub repository](https://github.com/emresururi/FIZ228).\n",
    "\n",
    "```{tableofcontents}\n",
    "```"
   ]
  }
 ],
 "metadata": {
  "jupytext": {
   "formats": "ipynb,md:myst",
   "text_representation": {
    "extension": ".md",
    "format_name": "myst",
    "format_version": 0.13,
    "jupytext_version": "1.11.5"
   }
  },
  "kernelspec": {
   "display_name": "Python 3 (ipykernel)",
   "language": "python",
   "name": "python3"
  },
  "language_info": {
   "codemirror_mode": {
    "name": "ipython",
    "version": 3
   },
   "file_extension": ".py",
   "mimetype": "text/x-python",
   "name": "python",
   "nbconvert_exporter": "python",
   "pygments_lexer": "ipython3",
   "version": "3.8.5"
  },
  "source_map": [
   13,
   23,
   27
  ]
 },
 "nbformat": 4,
 "nbformat_minor": 5
}