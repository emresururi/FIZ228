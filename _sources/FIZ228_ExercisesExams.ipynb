{
 "cells": [
  {
   "cell_type": "markdown",
   "id": "3c280ed3",
   "metadata": {},
   "source": [
    "# Exercises & Exams"
   ]
  },
  {
   "cell_type": "markdown",
   "id": "6629dcd9",
   "metadata": {},
   "source": [
    "* Exercises\n",
    "    * [Exercise Set #1 (18/03/2024)](Exams_HWs/FIZ228_Exercises_01)\n",
    "        1. Meteorological Data\n",
    "        2. Gaussian Distribution\n",
    "    * [Exercise Set #2 (22/03/2024)](Exams_HWs/FIZ228_Exercises_02)\n",
    "        * Anscombe's Quartet\n",
    "    * [Exercise Set #3 (12/04/2024)](Exams_HWs/FIZ228_Exercises_03)\n",
    "        * Fitting Silica Data with Gaussians & Lorentzians\n",
    "* Exams\n",
    "    * [Take Home Exam #1 (26/3/2023)](Exams_HWs/FIZ228_TakeHomeExam_01)\n",
    "        * Structure Database\n",
    "    * [Take Home Exam #2 (02/04/2023)](Exams_HWs/FIZ228_TakeHomeExam_02)\n",
    "        0. Better than Average\n",
    "        1. Six Hump Camel Function\n",
    "        2. Least Square Fitting (Linear / Non-Linear) \n",
    "    * [Midterm Exam #1 (19/02/2024)](Exams_HWs/FIZ228_20232_MT1)  \n",
    "        * Fitting to Sinusoidal function(s)"
   ]
  },
  {
   "cell_type": "code",
   "execution_count": null,
   "id": "186486de",
   "metadata": {},
   "outputs": [],
   "source": []
  }
 ],
 "metadata": {
  "jupytext": {
   "formats": "ipynb,md:myst",
   "text_representation": {
    "extension": ".md",
    "format_name": "myst",
    "format_version": 0.13,
    "jupytext_version": "1.11.5"
   }
  },
  "kernelspec": {
   "display_name": "Python 3 (ipykernel)",
   "language": "python",
   "name": "python3"
  },
  "language_info": {
   "codemirror_mode": {
    "name": "ipython",
    "version": 3
   },
   "file_extension": ".py",
   "mimetype": "text/x-python",
   "name": "python",
   "nbconvert_exporter": "python",
   "pygments_lexer": "ipython3",
   "version": "3.8.5"
  },
  "source_map": [
   13,
   17,
   37
  ]
 },
 "nbformat": 4,
 "nbformat_minor": 5
}