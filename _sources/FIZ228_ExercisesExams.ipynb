{
 "cells": [
  {
   "cell_type": "markdown",
   "id": "6dedffad",
   "metadata": {},
   "source": [
    "# Exercises & Exams"
   ]
  },
  {
   "cell_type": "markdown",
   "id": "9684e12c",
   "metadata": {},
   "source": [
    "* Exercises\n",
    "    * Lom 1\n",
    "    * Lom 2\n",
    "* Exams\n",
    "    * Ex1\n",
    "    * Ex2\n",
    "    * Ex3"
   ]
  },
  {
   "cell_type": "code",
   "execution_count": null,
   "id": "e85070b6",
   "metadata": {},
   "outputs": [],
   "source": []
  }
 ],
 "metadata": {
  "jupytext": {
   "formats": "ipynb,md:myst",
   "text_representation": {
    "extension": ".md",
    "format_name": "myst",
    "format_version": 0.13,
    "jupytext_version": "1.11.5"
   }
  },
  "kernelspec": {
   "display_name": "Python 3 (ipykernel)",
   "language": "python",
   "name": "python3"
  },
  "language_info": {
   "codemirror_mode": {
    "name": "ipython",
    "version": 3
   },
   "file_extension": ".py",
   "mimetype": "text/x-python",
   "name": "python",
   "nbconvert_exporter": "python",
   "pygments_lexer": "ipython3",
   "version": "3.8.5"
  },
  "source_map": [
   13,
   17,
   27
  ]
 },
 "nbformat": 4,
 "nbformat_minor": 5
}