{
 "cells": [
  {
   "cell_type": "markdown",
   "id": "34c35f08",
   "metadata": {},
   "source": [
    "# Exercises & Exams"
   ]
  },
  {
   "cell_type": "markdown",
   "id": "4e6a20f3",
   "metadata": {},
   "source": [
    "* Exercises\n",
    "    * [Exercise Set #1 (18/03/2024)](Exams_HWs/FIZ228_Exercises_01)\n",
    "        1. Meteorological Data\n",
    "        2. Gaussian Distribution\n",
    "    * [Exercise Set #2 (22/03/2024)](Exams_HWs/FIZ228_Exercises_02)\n",
    "        * Anscombe's Quartet\n",
    "    * [Exercise Set #3 (12/04/2024)](Exams_HWs/FIZ228_Exercises_03)\n",
    "        * Fitting Silica Data with Gaussians & Lorentzians\n",
    "* Exams\n",
    "    * [Take Home Exam #1 (26/3/2023)](Exams_HWs/FIZ228_TakeHomeExam_01)\n",
    "        * Structure Database\n",
    "    * [Take Home Exam #2 (02/04/2023)](Exams_HWs/FIZ228_TakeHomeExam_02)\n",
    "        \n",
    "        0\\. Better than Average  \n",
    "        1\\. Six Hump Camel Function  \n",
    "        2\\. Least Square Fitting (Linear / Non-Linear)  \n",
    "    * [Midterm Exam #1 Written Session (19/04/2024)](Exams_HWs/FIZ228_20232_MT1_WrittenExam)  \n",
    "        * Deciding on the optimal function & fitting\n",
    "    * [Midterm Exam #1 Hands On Session (19/04/2024)](Exams_HWs/FIZ228_20232_MT1_HandsOnExam)  \n",
    "        * Fitting to sinusoidal function(s)\n",
    "    * [Midterm Exam #2 Written Session (17/05/2024)](Exams_HWs/FIZ228_20232_MT2_WrittenExam)  \n",
    "        * k-means clustering by hand\n",
    "    * [Midterm Exam #2 Hands On Session (17/05/2024)](Exams_HWs/FIZ228_20232_MT2_HandsOnExam)  \n",
    "        * 4-dimensional k-means clustering\n",
    "    * [Midterm Exam #1 Make Up (24/05/2024)](Exams_HWs/FIZ228_20232_MT1_MakeUpExam)  \n",
    "        * Fitting data to two good candidate models\n",
    "    * [Midterm Exam #2 Make Up (24/05/2024)](Exams_HWs/FIZ228_20232_MT2_MakeUpExam)  \n",
    "        * Deciding on the best k-means over a number of runs"
   ]
  },
  {
   "cell_type": "code",
   "execution_count": null,
   "id": "a4b88e08",
   "metadata": {},
   "outputs": [],
   "source": []
  }
 ],
 "metadata": {
  "jupytext": {
   "formats": "ipynb,md:myst",
   "text_representation": {
    "extension": ".md",
    "format_name": "myst",
    "format_version": 0.13,
    "jupytext_version": "1.11.5"
   }
  },
  "kernelspec": {
   "display_name": "Python 3 (ipykernel)",
   "language": "python",
   "name": "python3"
  },
  "language_info": {
   "codemirror_mode": {
    "name": "ipython",
    "version": 3
   },
   "file_extension": ".py",
   "mimetype": "text/x-python",
   "name": "python",
   "nbconvert_exporter": "python",
   "pygments_lexer": "ipython3",
   "version": "3.8.5"
  },
  "source_map": [
   13,
   17,
   48
  ]
 },
 "nbformat": 4,
 "nbformat_minor": 5
}