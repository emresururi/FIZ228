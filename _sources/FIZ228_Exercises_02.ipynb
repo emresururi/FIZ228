{
 "cells": [
  {
   "cell_type": "markdown",
   "id": "29c0e914",
   "metadata": {},
   "source": [
    "# Exercise Set #2\n",
    "**FIZ228 - Numerical Analysis**  \n",
    "Dr. Emre S. Tasci, Hacettepe University"
   ]
  },
  {
   "cell_type": "markdown",
   "id": "6bfba189",
   "metadata": {},
   "source": [
    "# Anscombe's Quartet\n",
    "\n",
    ">Anscombe's quartet comprises four data sets that have nearly identical simple descriptive statistics, yet have very different distributions and appear very different when graphed. Each dataset consists of eleven (x, y) points. They were constructed in 1973 by the statistician Francis Anscombe to demonstrate both the importance of graphing data when analyzing it, and the effect of outliers and other influential observations on statistical properties. He described the article as being intended to counter the impression among statisticians that \"numerical calculations are exact, but graphs are rough\".[1]\n",
    "\n",
    "[1] Anscombe, F. J. (1973). \"Graphs in Statistical Analysis\". American Statistician. 27 (1): 17–21.  \n",
    "  [doi:10.1080/00031305.1973.10478966](https://dx.doi.org/10.1080/00031305.1973.10478966)   \n",
    "  [JSTOR 2682899](https://www.jstor.org/stable/2682899).\n",
    "\n",
    "(From [Wikipedia entry](https://en.wikipedia.org/wiki/Anscombe%27s_quartet))"
   ]
  },
  {
   "cell_type": "markdown",
   "id": "c70fd9fd",
   "metadata": {},
   "source": [
    "|Ax|Ay|Bx|By|Cx|Cy|Dx|Dy|\n",
    "|----|----|----|----|----|----|----|----|\n",
    "| 10.0 |  8.04 | 10.0 |  9.14 | 10.0 |  7.46 |  8.0 |  6.58\n",
    "|  8.0 |  6.95 |  8.0 |  8.14 |  8.0 |  6.77 |  8.0 |  5.76\n",
    "| 13.0 |  7.58 | 13.0 |  8.74 | 13.0 | 12.74 |  8.0 |  7.71\n",
    "|  9.0 |  8.81 |  9.0 |  8.77 |  9.0 |  7.11 |  8.0 |  8.84\n",
    "| 11.0 |  8.33 | 11.0 |  9.26 | 11.0 |  7.81 |  8.0 |  8.47\n",
    "| 14.0 |  9.96 | 14.0 |  8.10 | 14.0 |  8.84 |  8.0 |  7.04\n",
    "|  6.0 |  7.24 |  6.0 |  6.13 |  6.0 |  6.08 |  8.0 |  5.25\n",
    "|  4.0 |  4.26 |  4.0 |  3.10 |  4.0 |  5.39 | 19.0 | 12.50\n",
    "| 12.0 | 10.84 | 12.0 |  9.13 | 12.0 |  8.15 |  8.0 |  5.56\n",
    "|  7.0 |  4.82 |  7.0 |  7.26 |  7.0 |  6.42 |  8.0 |  7.91\n",
    "|  5.0 |  5.68 |  5.0 |  4.74 |  5.0 |  5.73 |  8.0 |  6.89\n",
    "\n",
    "_(You can download the data as CSV from the course page: Exercise_02_AnscombeQuartet.csv)_"
   ]
  },
  {
   "cell_type": "markdown",
   "id": "23ded1d1",
   "metadata": {},
   "source": [
    "1. Import the data set as a pandas dataframe.\n",
    "2. Plot each in separate graps.\n",
    "3. Calculate the mean of each group's x and y values.\n",
    "4. Calculate the variance of each group's x and y values.\n",
    "5. Find the equation for the best fitting line for each group\n",
    "6. Calculate the following quantities for each fit:\n",
    "     * Sum of the squares of the data residuals ($S_t$)\n",
    "     * Coefficient of variation (think about what $s_y$ in the formula represents ;)\n",
    "     * Sum of the squares of the estimate residuals ($S_r$)\n",
    "     * Standard error of the estimate ($s_{y/x}$)\n",
    "     * Coefficient of determination ($r^2$)"
   ]
  },
  {
   "cell_type": "markdown",
   "id": "68f12c6e",
   "metadata": {},
   "source": [
    "Interpret your findings. \n",
    "\n",
    "_For a more modern and interesting similar case, check [the Datasaurus Dozen](https://blog.revolutionanalytics.com/2017/05/the-datasaurus-dozen.html)! 8)_"
   ]
  }
 ],
 "metadata": {
  "jupytext": {
   "formats": "ipynb,md:myst",
   "text_representation": {
    "extension": ".md",
    "format_name": "myst",
    "format_version": 0.13,
    "jupytext_version": "1.11.5"
   }
  },
  "kernelspec": {
   "display_name": "Python 3 (ipykernel)",
   "language": "python",
   "name": "python3"
  },
  "language_info": {
   "codemirror_mode": {
    "name": "ipython",
    "version": 3
   },
   "file_extension": ".py",
   "mimetype": "text/x-python",
   "name": "python",
   "nbconvert_exporter": "python",
   "pygments_lexer": "ipython3",
   "version": "3.8.5"
  },
  "source_map": [
   13,
   19,
   31,
   49,
   63
  ]
 },
 "nbformat": 4,
 "nbformat_minor": 5
}