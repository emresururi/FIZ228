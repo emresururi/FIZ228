{
 "cells": [
  {
   "cell_type": "markdown",
   "id": "6d8385c9",
   "metadata": {},
   "source": [
    "# Interpolation\n",
    "**FIZ228 - Numerical Analysis**  \n",
    "Dr. Emre S. Tasci, Hacettepe University"
   ]
  },
  {
   "cell_type": "markdown",
   "id": "69c577ac",
   "metadata": {},
   "source": [
    "```{note}\n",
    "This lecture is heavily benefited from Steven Chapra's [Applied Numerical Methods with MATLAB: for Engineers & Scientists](https://www.mheducation.com/highered/product/applied-numerical-methods-matlab-engineers-scientists-chapra/M9780073397962.html).\n",
    "```"
   ]
  },
  {
   "cell_type": "markdown",
   "id": "d6a88a9e",
   "metadata": {},
   "source": [
    "In our \"[Regression](FIZ228_04_Regression)\" lecture, we talked about fitting a function/model/curve that passes _as close as possible_ to a given set of data points. But sometimes we find ourselves in a case where we have clearly defined points and would like to know about the behaviour between these points. This method of estimating the intermediate values while retaining the known values is known as _interpolation_.\n",
    "\n",
    "The given data points act as the _boundary conditions_, usually fixed and thus very suitable for interpolation applcations. We are given a partial look on the system which corresponds to the _initial conditions_.\n",
    "\n",
    "As was the case in regression, there is always a risk of _overfitting_ alas in the interpolation, we **must** hit all the given data (within an error tolerance that is related to the measurements."
   ]
  },
  {
   "cell_type": "code",
   "execution_count": 1,
   "id": "bf088e62",
   "metadata": {},
   "outputs": [],
   "source": [
    "import numpy as np\n",
    "import matplotlib.pyplot as plt"
   ]
  },
  {
   "cell_type": "markdown",
   "id": "30db4d42",
   "metadata": {},
   "source": [
    "## Polynomial Interpolation\n",
    "Revisiting our discussion in regression, we can _always_ fit a set of $n$ data points using a polynomial of $(n-1)$th order:\n",
    "\n",
    "|$i$|$x_i$|$y_i$|\n",
    "|---|---|---|\n",
    "|1|10|25|\n",
    "|2|20|70|\n",
    "|3|30|380|\n",
    "|4|40|550|\n",
    "|5|50|610|\n",
    "|6|60|1220|\n",
    "|7|70|830|\n",
    "|8|80|1450|"
   ]
  },
  {
   "cell_type": "markdown",
   "id": "717ecff7",
   "metadata": {},
   "source": [
    "## Polyfit, poly1d, polyval and poly + roots\n",
    "We can use numpy's built in polynomial functions to fit (`polyfit`), evaluate (`poly1d` & `polyval`) and even construct polynomials from roots (`poly`) or _vice versa_ (`roots`)."
   ]
  },
  {
   "cell_type": "code",
   "execution_count": 2,
   "id": "d8896de6",
   "metadata": {},
   "outputs": [
    {
     "name": "stdout",
     "output_type": "stream",
     "text": [
      "[ 2.31051587e-07 -6.89097222e-05  8.34131944e-03 -5.27253472e-01\n",
      "  1.86274861e+01 -3.63810556e+02  3.60735714e+03 -1.37900000e+04]\n",
      "----------------------------------------------------------------------\n",
      "           7             6            5          4         3         2\n",
      "2.311e-07 x - 6.891e-05 x + 0.008341 x - 0.5273 x + 18.63 x - 363.8 x + 3607 x - 1.379e+04\n",
      "[  25.           70.          380.          550.          610.\n",
      " 1220.          830.         1449.99999999]\n",
      "[  25.           70.          380.          550.          610.\n",
      " 1220.          830.         1449.99999999]\n"
     ]
    },
    {
     "data": {
      "image/png": "[encoded data removed]",
      "text/plain": [
       "<Figure size 432x288 with 1 Axes>"
      ]
     },
     "metadata": {
      "filenames": {
       "image/png": "/stmp/code/books/FIZ228/_build/jupyter_execute/FIZ228_05_Interpolation_6_1.png"
      },
      "needs_background": "light"
     },
     "output_type": "display_data"
    }
   ],
   "source": [
    "data = np.array([range(10,90,10),[25,70,380,550,610,1220,830,1450]]).T\n",
    "x = data[:,0]\n",
    "y = data[:,1]\n",
    "\n",
    "p = np.polyfit(x,y,len(x)-1)\n",
    "print(p)\n",
    "\n",
    "xx = np.linspace(10,80,100)\n",
    "yy = np.zeros(len(xx))\n",
    "n = len(x)\n",
    "for k in range(n):\n",
    "    yy += p[k]*xx**(n-k-1)\n",
    "print(\"-\"*70)\n",
    "# we could as well had used poly1d function\n",
    "# to functionalize the polynomial 8)\n",
    "f = np.poly1d(p)\n",
    "print(f)\n",
    "print(f(x))\n",
    "\n",
    "# another alternative is to use polyval:\n",
    "g = np.polyval(p,x)\n",
    "print(g)\n",
    "\n",
    "plt.plot(xx,yy,\"-b\",x,y,\"ok\",xx,f(xx),\"-r\")\n",
    "plt.show()"
   ]
  },
  {
   "cell_type": "markdown",
   "id": "effb40c6",
   "metadata": {},
   "source": [
    "A 7th degree polynomial might be too much for our taste! 8) So let's begin with something simpler. For example, what would be the polynomial whose roots are -1 and 2?..\n",
    "\n",
    "Since it has two roots, it must be a second order polynomial (_quadratic_):"
   ]
  },
  {
   "cell_type": "code",
   "execution_count": 3,
   "id": "53749ff1",
   "metadata": {},
   "outputs": [
    {
     "name": "stdout",
     "output_type": "stream",
     "text": [
      "[ 1. -1. -2.]\n"
     ]
    }
   ],
   "source": [
    "q = np.poly([-1,2])\n",
    "print(q)"
   ]
  },
  {
   "cell_type": "markdown",
   "id": "21c4a7bd",
   "metadata": {},
   "source": [
    "To write it more neatly, we can construct a poly object using the coefficients:"
   ]
  },
  {
   "cell_type": "code",
   "execution_count": 4,
   "id": "a6a9fa15",
   "metadata": {},
   "outputs": [
    {
     "name": "stdout",
     "output_type": "stream",
     "text": [
      "   2\n",
      "1 x - 1 x - 2\n"
     ]
    }
   ],
   "source": [
    "qq = np.poly1d(q)\n",
    "print(qq)"
   ]
  },
  {
   "cell_type": "markdown",
   "id": "603c0c96",
   "metadata": {},
   "source": [
    "$$x^2-x-2$$ \n",
    "\n",
    "ladies and gents!\n",
    "\n",
    "Let's go from reverse and find the roots of a given polynomial via `roots`:"
   ]
  },
  {
   "cell_type": "code",
   "execution_count": 5,
   "id": "d959350c",
   "metadata": {},
   "outputs": [
    {
     "name": "stdout",
     "output_type": "stream",
     "text": [
      "[ 2. -1.]\n"
     ]
    }
   ],
   "source": [
    "x12 = np.roots(qq)\n",
    "print(x12)"
   ]
  },
  {
   "cell_type": "code",
   "execution_count": 6,
   "id": "1ebf5182",
   "metadata": {},
   "outputs": [
    {
     "name": "stdout",
     "output_type": "stream",
     "text": [
      "[ 2. -1.]\n"
     ]
    }
   ],
   "source": [
    "# feeding the coefficients would also work:\n",
    "x12 = np.roots(q)\n",
    "print(x12)"
   ]
  },
  {
   "cell_type": "code",
   "execution_count": 7,
   "id": "c025648d",
   "metadata": {},
   "outputs": [
    {
     "data": {
      "image/png": "[encoded data removed]",
      "text/plain": [
       "<Figure size 432x288 with 1 Axes>"
      ]
     },
     "metadata": {
      "filenames": {
       "image/png": "/stmp/code/books/FIZ228/_build/jupyter_execute/FIZ228_05_Interpolation_14_0.png"
      },
      "needs_background": "light"
     },
     "output_type": "display_data"
    }
   ],
   "source": [
    "xx = np.linspace(-5,5,100)\n",
    "yy = np.polyval(qq,xx)\n",
    "plt.plot(xx,yy,\"-r\")\n",
    "plt.xticks(np.arange(-5,6,1))\n",
    "plt.yticks(np.arange(0,26,5))\n",
    "plt.grid(True)\n",
    "plt.show()"
   ]
  },
  {
   "cell_type": "markdown",
   "id": "de272104",
   "metadata": {},
   "source": [
    "## Dearest dear linear algebra! <3\n",
    "Now, let's take 3 points from our designated polynomial, and afterwards forget about the actual polynomial:"
   ]
  },
  {
   "cell_type": "code",
   "execution_count": 8,
   "id": "ae36f269",
   "metadata": {},
   "outputs": [
    {
     "name": "stdout",
     "output_type": "stream",
     "text": [
      "[[-3.1  14.71]\n",
      " [ 0.7   1.79]\n",
      " [ 4.3  16.19]]\n"
     ]
    },
    {
     "data": {
      "image/png": "[encoded data removed]",
      "text/plain": [
       "<Figure size 432x288 with 1 Axes>"
      ]
     },
     "metadata": {
      "filenames": {
       "image/png": "/stmp/code/books/FIZ228/_build/jupyter_execute/FIZ228_05_Interpolation_16_1.png"
      },
      "needs_background": "light"
     },
     "output_type": "display_data"
    }
   ],
   "source": [
    "qc = [1, -1, 2]\n",
    "qq = np.poly1d(qc)\n",
    "x = [-3.1,0.7,4.3]\n",
    "y = qq(x)\n",
    "print(np.array([x,y]).T)\n",
    "\n",
    "xx = np.linspace(-5,5,100)\n",
    "yy = np.polyval(qq,xx)\n",
    "plt.plot(xx,yy,color=\"gray\")\n",
    "plt.plot(x,y,\"ko\")\n",
    "plt.xticks(np.arange(-5,6,1))\n",
    "plt.yticks(np.arange(0,26,5))\n",
    "plt.grid(True)\n",
    "plt.show()"
   ]
  },
  {
   "cell_type": "markdown",
   "id": "f964f059",
   "metadata": {},
   "source": [
    "This is the part where we forget our polynomial information:\n",
    "\n",
    "$$Q(x) = 1x^2-1x+2$$\n",
    "\n",
    "and thus, we are left with the data points to ponder on:\n",
    "\n",
    "x|-3.1|0.7|4.3\n",
    "---|---|---|---\n",
    "y|14.71|1.79|16.19\n",
    "\n",
    "We have 3 data-points, so we'll assume a 2nd order polynomial in the form:\n",
    "\n",
    "$$Q(x) = q_1 x^2 + q_2 x^1 + q_3 x^0$$\n",
    "\n",
    "and we have:\n",
    "\n",
    "$$Q(-3.1) = q_1 (-3.1)^2+q_2 (-3.1)+q_3 = 14.71\\\\\n",
    "Q(0.7) = q_1 (0.7)^2+q_2 (0.7)+q_3 = 1.79\\\\\n",
    "Q(4.3) = q_1 (4.3)^2+q_2 (4.3)+q_3 = 16.19\n",
    "$$"
   ]
  },
  {
   "cell_type": "code",
   "execution_count": 9,
   "id": "6a41a8e3",
   "metadata": {},
   "outputs": [
    {
     "name": "stdout",
     "output_type": "stream",
     "text": [
      "[ 9.61  0.49 18.49]\n"
     ]
    }
   ],
   "source": [
    "x = np.array([-3.1, 0.7, 4.3])\n",
    "print(x**2)"
   ]
  },
  {
   "cell_type": "markdown",
   "id": "70a0ba30",
   "metadata": {},
   "source": [
    "$$Q(-3.1) = 9.61q_1-3.1 q_2+q_3 = 14.71\\\\\n",
    "Q(0.7) = 0.49 q1+0.7q_2+q_3 = 1.79\\\\\n",
    "Q(4.3) = 18.49 q_1+4.3 q_2+q_3 = 16.19\n",
    "$$\n",
    "\n",
    "so, it is actually nothing but 3 equations with 3 unknowns! We know how to solve it! 8)\n",
    "\n",
    "$$\\begin{pmatrix}\n",
    "9.61 & -3.1 & 1\\\\\n",
    "0.49&0.7&1\\\\\n",
    "18.49&4.3&1\n",
    "\\end{pmatrix}\n",
    "\\begin{pmatrix}q_1\\\\q_2\\\\q_3\\end{pmatrix}\n",
    "=\n",
    "\\begin{pmatrix}14.71\\\\1.79\\\\16.19\\end{pmatrix}\n",
    "$$"
   ]
  },
  {
   "cell_type": "code",
   "execution_count": 10,
   "id": "85dd606c",
   "metadata": {},
   "outputs": [
    {
     "name": "stdout",
     "output_type": "stream",
     "text": [
      "[ 1. -1.  2.]\n"
     ]
    }
   ],
   "source": [
    "A = np.array([[9.61,-3.1,1],[0.49,0.7,1],[18.49,4.3,1]])\n",
    "b = np.array([14.71,1.79,16.19])\n",
    "q123 = np.linalg.solve(A,b)\n",
    "print(q123)"
   ]
  },
  {
   "cell_type": "markdown",
   "id": "41dc1f85",
   "metadata": {},
   "source": [
    "... ta-taaaa!"
   ]
  },
  {
   "cell_type": "markdown",
   "id": "8860ca05",
   "metadata": {},
   "source": [
    "# Newton Interpolating Polynomials\n",
    "\n",
    "Newton polynomials incorporate known (given) points to go for the next one. For example, if two points are known, we pass a line through them and using similarity, we evaluate the value at the specified point.\n",
    "\n",
    "Suppose we have $x_1,f(x_1)$, $x_2,f(x_2)$ and we want to evaluate it at $x$. We haven't been given the actual function so the situation is something like this:\n",
    "\n",
    "![05_NewtonInterpolation_Chapra](imgs/05_NewtonInterpolation_Chapra.png)\n",
    "\n",
    "(don't forget that we don't know / can't see the real function but only know about the two data points $(x_1,x_2)$)\n",
    "\n",
    "So, we'll reach $f(x)$ via similarity -- going through the definition of the slope, we have:\n",
    "\n",
    "$$\\frac{f_1(x)-f(x_1)}{x-x_1} = \\frac{f(x_2)-f(x_1)}{x_2-x_1}$$\n",
    "\n",
    "singling out $f_1(x)$, we get:\n",
    "\n",
    "$$\\boxed{f_1(x)=f(x_1)+\\frac{f(x_2)-f(x_1)}{x_2-x_1} (x-x_1)}$$\n",
    "\n",
    "_The indice \"1\" in $f_1$ denotes that this is a first-order (linear) interpolation._"
   ]
  },
  {
   "cell_type": "markdown",
   "id": "6a537e11",
   "metadata": {},
   "source": [
    "## Example: \n",
    "Estimate $\\ln2$ using:\n",
    "1. $\\ln1 = 0$ and $\\ln6=1.791759$\n",
    "2. $\\ln1 = 0$ and $\\ln4=1.386294$\n",
    "\n",
    "(calculate the true percentage relative error ($\\varepsilon_t$) using the true value of $\\ln2 = 0.693147$)"
   ]
  },
  {
   "cell_type": "code",
   "execution_count": 11,
   "id": "9620ffff",
   "metadata": {},
   "outputs": [
    {
     "name": "stdout",
     "output_type": "stream",
     "text": [
      "      ln2 ~ 0.358352\n",
      "True value: 0.693147\n",
      "       E_t: 48.30%\n"
     ]
    }
   ],
   "source": [
    "# 1\n",
    "ln1 = 0\n",
    "ln6 = 1.791759\n",
    "\n",
    "ln2_1 = ln1 + (ln6-ln1)/(6-1)*(2-1)\n",
    "print(\"      ln2 ~ {:.6f}\".format(ln2_1))\n",
    "print(\"True value: {:.6f}\".format(np.log(2)))\n",
    "print(\"       E_t: {:.2f}%\".format((np.log(2)-ln2_1)/np.log(2)*100))"
   ]
  },
  {
   "cell_type": "code",
   "execution_count": 12,
   "id": "fbe4172c",
   "metadata": {},
   "outputs": [
    {
     "name": "stdout",
     "output_type": "stream",
     "text": [
      "      ln2 ~ 0.462098\n",
      "True value: 0.693147\n",
      "       E_t: 33.33%\n"
     ]
    }
   ],
   "source": [
    "# 2\n",
    "ln1 = 0\n",
    "ln4 = 1.386294\n",
    "\n",
    "ln2_2 = ln1 + (ln4-ln1)/(4-1)*(2-1)\n",
    "print(\"      ln2 ~ {:.6f}\".format(ln2_2))\n",
    "print(\"True value: {:.6f}\".format(np.log(2)))\n",
    "print(\"       E_t: {:.2f}%\".format((np.log(2)-ln2_2)/np.log(2)*100))"
   ]
  },
  {
   "cell_type": "markdown",
   "id": "545ad9d8",
   "metadata": {},
   "source": [
    "## Increasing the order\n",
    "Newton's polynomials are represented in increasing order as:\n",
    "\n",
    "$$\\begin{align*}\n",
    "f_1(x) &= b_1 + b_2(x-x_1)\\\\\n",
    "f_2(x) &= b_1 + b_2(x-x_1)+b_3(x-x_1)(x-x_2)\\\\\n",
    "f_3(x) &= b_1 + b_2(x-x_1)+b_3(x-x_1)(x-x_2)+b_4(x-x_1)(x-x_2)(x-x_3)\\\\\n",
    "&\\dots\\end{align*}$$\n",
    "\n",
    "here, the $b$ coefficients are derived using the previously calculated coefficients, starting from the 1st one we have calculated using similarity (i.e., $b_2 = \\frac{f(x_2)-f(x_1)}{x_2-x_1}$). So actually, we use the previous one's form to calculate the current:\n",
    "\n",
    "$$b_1 : f(x') \\Rightarrow b_2 = \\frac{f(x_2)-f(x_1)}{x_2-x_1}$$\n",
    "\n",
    "\n",
    "$$b_2 : \\frac{f(x'')-f(x')}{x''-x'} \\Rightarrow b_3 = \\frac{\\frac{f(x_3)-f(x_2)}{x_3-x_2}-\\frac{f(x_2)-f(x_1)}{x_2-x_1}}{x_3 - x_1}$$\n",
    "\n",
    "these coefficients are called as _divided differences_.\n",
    "\n",
    "Here's a scheme of how to proceed forward in calculating these divided differences:\n",
    "\n",
    "$$\\begin{matrix}\n",
    "   x_1 & f(x_1) &                                 & \\\\\n",
    "       &        & {f(x_2)-f(x_1)\\over x_2 - x_1}  & \\\\\n",
    "   x_2 & f(x_2) &                                 & {{f(x_3)-f(x_2)\\over x_3 - x_2}-{f(x_2)-f(x_1)\\over x_2 - x_1} \\over x_3 - x_1} \\\\\n",
    "       &        & {f(x_3)-f(x_2)\\over x_3 - x_2}  & \\\\\n",
    "   x_3 & f(x_3) &                                 & \\vdots \\\\\n",
    "       &        & \\vdots                          & \\\\\n",
    "\\vdots &        &                                 & \\vdots \\\\\n",
    "       &        & \\vdots                          & \\\\\n",
    "   x_n & f(x_n) &                                 & \\\\\n",
    "\\end{matrix}$$\n",
    "\n",
    "Let's put this into action in our next (evolved) example:"
   ]
  },
  {
   "cell_type": "markdown",
   "id": "896903f0",
   "metadata": {},
   "source": [
    "### Example\n",
    "Use the three of the previous given $\\ln(x)$ values to estimate $\\ln2$.\n",
    "\n",
    "* $x_1 = 1,\\;f(x_1) = 0$\n",
    "* $x_2 = 4,\\;f(x_2)=1.386294$\n",
    "* $x_3 = 6,\\;f(x_3)=1.791759$\n",
    "\n",
    "(calculate the true percentage relative error ($\\varepsilon_t$) using the true value of $\\ln2 = 0.693147$)"
   ]
  },
  {
   "cell_type": "markdown",
   "id": "d81fad17",
   "metadata": {},
   "source": [
    "$$\\begin{matrix}\n",
    "   x_1=1 & b_1 = f(x_1)=0 &                                 & \\\\\n",
    "       &        & b_2={f(x_2)-f(x_1)\\over x_2 - x_1} = 0.462098& \\\\\n",
    "   x_2=4 & f(x_2)= 1.386294&                                 & b_3={{f(x_3)-f(x_2)\\over x_3 - x_2}-{f(x_2)-f(x_1)\\over x_2 - x_1} \\over x_3 - x_1}= -0.051873\\\\\n",
    "       &        & {f(x_3)-f(x_2)\\over x_3 - x_2} = 0.202733 & \\\\\n",
    "   x_3=6 & f(x_3)=1.791759 &                                 &  \n",
    "\\end{matrix}$$"
   ]
  },
  {
   "cell_type": "code",
   "execution_count": 13,
   "id": "910dd678",
   "metadata": {},
   "outputs": [
    {
     "name": "stdout",
     "output_type": "stream",
     "text": [
      "      ln2 ~ 0.565844\n",
      "True value: 0.693147\n",
      "       E_t: 18.37%\n"
     ]
    }
   ],
   "source": [
    "x1 = 1\n",
    "f_x1 = 0\n",
    "x2 = 4\n",
    "f_x2 = 1.386294\n",
    "x3 = 6\n",
    "f_x3 = 1.791759\n",
    "\n",
    "b1 = f_x1\n",
    "b2 = (f_x2 - f_x1)/(x2-x1)\n",
    "c2 = (f_x3 - f_x2)/(x3-x2)\n",
    "\n",
    "b3 = (c2 - b2)/(x3-x1)\n",
    "\n",
    "x = 2\n",
    "f_x = f_x1 + b2*(x-x1)+b3*(x-x1)*(x-x2)\n",
    "\n",
    "print(\"      ln2 ~ {:.6f}\".format(f_x))\n",
    "print(\"True value: {:.6f}\".format(np.log(2)))\n",
    "print(\"       E_t: {:.2f}%\".format((np.log(2)-f_x)/np.log(2)*100))"
   ]
  },
  {
   "cell_type": "code",
   "execution_count": 14,
   "id": "b35ffc45",
   "metadata": {},
   "outputs": [
    {
     "data": {
      "image/png": "[encoded data removed]",
      "text/plain": [
       "<Figure size 432x288 with 1 Axes>"
      ]
     },
     "metadata": {
      "filenames": {
       "image/png": "/stmp/code/books/FIZ228/_build/jupyter_execute/FIZ228_05_Interpolation_30_0.png"
      },
      "needs_background": "light"
     },
     "output_type": "display_data"
    }
   ],
   "source": [
    "# Plotting the given data, our estimation for x=2\n",
    "# and the actual function:\n",
    "xx = np.linspace(1,7,300)\n",
    "yy = np.log(xx)\n",
    "yN = f_x1 + b2*(xx-x1)+b3*(xx-x1)*(xx-x2)\n",
    "data_x = np.array([x1,x2,x3,x])\n",
    "data_y = np.array([f_x1,f_x2,f_x3,f_x])\n",
    "plt.plot(xx,yy,\"-\",color=\"lightgray\")\n",
    "plt.plot(xx,yN,\"-\",color=\"mistyrose\")\n",
    "plt.plot(data_x[0:3],data_y[0:3],\"ob\")\n",
    "plt.plot(data_x[3],data_y[3],\"or\")\n",
    "plt.show()"
   ]
  },
  {
   "cell_type": "markdown",
   "id": "dd5a3d71",
   "metadata": {},
   "source": [
    "The advantage of this method is its flexibility in the face of the addition of more data points. So suppose that we made another measurement at the $x_4=5$ point and came up with $f(x_4)=1.609438$ value and we want to incorporate this new data to better our fit:"
   ]
  },
  {
   "cell_type": "code",
   "execution_count": 15,
   "id": "bfd42e9a",
   "metadata": {},
   "outputs": [
    {
     "name": "stdout",
     "output_type": "stream",
     "text": [
      "      ln2 ~ 0.628767"
     ]
    },
    {
     "name": "stdout",
     "output_type": "stream",
     "text": [
      "\n",
      "True value: 0.693147\n",
      "       E_t: 9.29%\n"
     ]
    }
   ],
   "source": [
    "x1 = 1\n",
    "f_x1 = 0\n",
    "x2 = 4\n",
    "f_x2 = 1.386294\n",
    "x3 = 6\n",
    "f_x3 = 1.791759\n",
    "\n",
    "b1 = f_x1\n",
    "b2 = (f_x2 - f_x1)/(x2-x1)\n",
    "c2 = (f_x3 - f_x2)/(x3-x2)\n",
    "\n",
    "b3 = (c2 - b2)/(x3-x1)\n",
    "\n",
    "# --- up to here, we had the same calculations,\n",
    "# no need to recalculate them in actual run ---\n",
    "\n",
    "x4 = 5\n",
    "f_x4 = 1.609438\n",
    "\n",
    "# we'll fill in the new coefficients:\n",
    "d2 = (f_x4 - f_x3)/(x4-x3)\n",
    "c3 = (d2 - c2)/(x4-x2)\n",
    "b4 = (c3 - b3)/(x4-x1)\n",
    "\n",
    "# and we just append the b4 coefficient in our approximation:\n",
    "x = 2\n",
    "f_x = f_x1 + b2*(x-x1)+b3*(x-x1)*(x-x2)\\\n",
    "     +b4*(x-x1)*(x-x2)*(x-x3)\n",
    "\n",
    "print(\"      ln2 ~ {:.6f}\".format(f_x))\n",
    "print(\"True value: {:.6f}\".format(np.log(2)))\n",
    "print(\"       E_t: {:.2f}%\".format((np.log(2)-f_x)/np.log(2)*100))"
   ]
  },
  {
   "cell_type": "code",
   "execution_count": 16,
   "id": "c331d6a6",
   "metadata": {},
   "outputs": [
    {
     "data": {
      "image/png": "[encoded data removed]",
      "text/plain": [
       "<Figure size 432x288 with 1 Axes>"
      ]
     },
     "metadata": {
      "filenames": {
       "image/png": "/stmp/code/books/FIZ228/_build/jupyter_execute/FIZ228_05_Interpolation_33_0.png"
      },
      "needs_background": "light"
     },
     "output_type": "display_data"
    }
   ],
   "source": [
    "# Plotting the given data, our estimation for x=2\n",
    "# and the actual function:\n",
    "xx = np.linspace(1,7,300)\n",
    "yy = np.log(xx)\n",
    "yN = f_x1 + b2*(xx-x1)+b3*(xx-x1)*(xx-x2)+b4*(xx-x1)*(xx-x2)*(xx-x3)\n",
    "data_x = np.array([x1,x2,x3,x4,x])\n",
    "data_y = np.array([f_x1,f_x2,f_x3,f_x4,f_x])\n",
    "plt.plot(xx,yy,\"-\",color=\"black\")\n",
    "plt.plot(xx,yN,\"-\",color=\"red\")\n",
    "plt.plot(data_x[0:4],data_y[0:4],\"ob\")\n",
    "plt.plot(data_x[4],data_y[4],\"or\")\n",
    "plt.show()"
   ]
  },
  {
   "cell_type": "markdown",
   "id": "9d0bc099",
   "metadata": {},
   "source": [
    "# Lagrange Interpolating Polynomials\n",
    "Lagrange polynomials are yet another way to interpolate using the given data points where it uses the addition of the weighted data points.\n",
    "\n",
    "![05_LagrangeInterpolation_Chapra](imgs/05_LagrangeInterpolation_Chapra.png)\n",
    "(Figure: Chapra, 2012)\n",
    "\n",
    "**1st order Lagrange polynomial** is given by:\n",
    "\n",
    "$$f_1(x) = L_1 f(x_1) + L_2 f(x_2)$$\n",
    "\n",
    "where:\n",
    "\n",
    "$$ L_1 = \\frac{x-x_2}{x_1 - x_2},\\;L_2 = \\frac{x-x_1}{x_2-x_1}$$\n",
    "\n",
    "so:\n",
    "\n",
    "$$f_1(x) = \\frac{x-x_2}{x_1 - x_2}f(x_1) + \\frac{x-x_1}{x_2-x_1}f(x_2)$$\n",
    "\n",
    "**2nd order Lagrange polynomial** is given by:\n",
    "\n",
    "$$f_2(x) = L_1 f(x_1) + L_2 f(x_2)+L_3 f_(x_3)$$\n",
    "\n",
    "where:\n",
    "\n",
    "$$ L_1 = \\frac{(x-x_2)(x-x_3)}{(x_1 - x_2)(x_1 - x_3)},\\;L_2 = \\frac{(x-x_1)(x-x_3)}{(x_2 - x_1)(x_2 - x_3)},\\;L_3 = \\frac{(x-x_1)(x-x_2)}{(x_3 - x_1)(x_3 - x_2)}$$\n",
    "\n",
    "so:\n",
    "\n",
    "$$f_2(x) = \\frac{(x-x_2)(x-x_3)}{(x_1 - x_2)(x_1 - x_3)}f(x_1) + \\frac{(x-x_1)(x-x_3)}{(x_2 - x_1)(x_2 - x_3)}f(x_2) + \\frac{(x-x_1)(x-x_2)}{(x_3 - x_1)(x_3 - x_2)}f(x_3)$$\n",
    "\n",
    "and in general:\n",
    "\n",
    "$$f_{n-1}=\\sum_{i=1}^{n}{L_i(x)f(x_i)},\\quad L_i(x)=\\prod_{j=1\\\\j\\ne i}^{n}{\\frac{x-x_j}{x_i-x_j}}$$"
   ]
  },
  {
   "cell_type": "markdown",
   "id": "52ac2f8e",
   "metadata": {},
   "source": [
    "## Example\n",
    "\n",
    "Use a Lagrange interpolating polynomial of the first and second order to evaluate the density of unused motor oil at $T=15^oC$ based on the following data:\n",
    "\n",
    "$$x_1 = 0,\\;f(x_1)=3.85\\\\\n",
    "x_2 = 20,\\;f(x_2) = 0.800\\\\\n",
    "x_3 = 40,\\;f(x_3) = 0.212$$"
   ]
  },
  {
   "cell_type": "code",
   "execution_count": 17,
   "id": "42ca8361",
   "metadata": {},
   "outputs": [
    {
     "name": "stdout",
     "output_type": "stream",
     "text": [
      "1st order approximation: 1.562500\n",
      "2nd order approximation: 1.331687\n"
     ]
    }
   ],
   "source": [
    "x1 = 0\n",
    "f_x1 = 3.85\n",
    "\n",
    "x2 = 20\n",
    "f_x2 = 0.8\n",
    "\n",
    "x = 15\n",
    "\n",
    "f1_x = (x-x2) / (x1-x2) * f_x1\\\n",
    "      +(x-x1) / (x2-x1) * f_x2\n",
    "print(\"1st order approximation: {:.6f}\".format(f1_x))\n",
    "\n",
    "x3 = 40\n",
    "f_x3 = 0.212\n",
    "\n",
    "f2_x = ((x-x2) * (x-x3)) / ((x1-x2) * (x1-x3)) * f_x1\\\n",
    "      +((x-x1) * (x-x3)) / ((x2-x1) * (x2-x3)) * f_x2\\\n",
    "      +((x-x1) * (x-x2)) / ((x3-x1) * (x3-x2)) * f_x3\n",
    "print(\"2nd order approximation: {:.6f}\".format(f2_x))"
   ]
  },
  {
   "cell_type": "markdown",
   "id": "f673eeb2",
   "metadata": {},
   "source": [
    "## Example\n",
    "Use the given $\\ln(x)$ values to estimate $\\ln2$ via Lagrange polynomial.\n",
    "\n",
    "* $x_1 = 1,\\;f(x_1) = 0$\n",
    "* $x_2 = 4,\\;f(x_2)=1.386294$\n",
    "* $x_3 = 6,\\;f(x_3)=1.791759$\n",
    "\n",
    "(calculate the true percentage relative error ($\\varepsilon_t$) using the true value of $\\ln2 = 0.693147$)"
   ]
  },
  {
   "cell_type": "code",
   "execution_count": 18,
   "id": "6863c0d2",
   "metadata": {},
   "outputs": [
    {
     "name": "stdout",
     "output_type": "stream",
     "text": [
      "      ln2 ~ 0.565844\n",
      "True value: 0.693147\n",
      "       E_t: 18.37%\n"
     ]
    }
   ],
   "source": [
    "x1 = 1\n",
    "f_x1 = 0\n",
    "\n",
    "x2 = 4\n",
    "f_x2 = 1.386294\n",
    "\n",
    "x3 = 6\n",
    "f_x3 = 1.791759\n",
    "\n",
    "x = 2\n",
    "\n",
    "f2_x = ((x-x2) * (x-x3)) / ((x1-x2) * (x1-x3)) * f_x1\\\n",
    "      +((x-x1) * (x-x3)) / ((x2-x1) * (x2-x3)) * f_x2\\\n",
    "      +((x-x1) * (x-x2)) / ((x3-x1) * (x3-x2)) * f_x3\n",
    "\n",
    "print(\"      ln2 ~ {:.6f}\".format(f2_x))\n",
    "print(\"True value: {:.6f}\".format(np.log(2)))\n",
    "print(\"       E_t: {:.2f}%\".format((np.log(2)-f2_x)/np.log(2)*100))"
   ]
  },
  {
   "cell_type": "markdown",
   "id": "b433eb81",
   "metadata": {},
   "source": [
    "### via the builtin scipy.interpolate.lagrange() function\n",
    "[scipy.interpolate.lagrange()](https://docs.scipy.org/doc/scipy/reference/generated/scipy.interpolate.lagrange.html)"
   ]
  },
  {
   "cell_type": "code",
   "execution_count": 19,
   "id": "89c8f32c",
   "metadata": {},
   "outputs": [
    {
     "name": "stdout",
     "output_type": "stream",
     "text": [
      "          2\n",
      "-0.05187 x + 0.7215 x - 0.6696\n"
     ]
    },
    {
     "data": {
      "text/plain": [
       "0.5658442"
      ]
     },
     "execution_count": 19,
     "metadata": {},
     "output_type": "execute_result"
    }
   ],
   "source": [
    "## Using the built in implementation:\n",
    "from scipy.interpolate import lagrange\n",
    "x = [1,4,6]\n",
    "y = [0,1.386294, 1.791759]\n",
    "\n",
    "p = lagrange(x,y)\n",
    "print(p)\n",
    "np.polyval(p,2)"
   ]
  },
  {
   "cell_type": "markdown",
   "id": "1939b32b",
   "metadata": {},
   "source": [
    "# Inverse Interpolation\n",
    "Normally, we do interpolation to calculate $f(x)$ for some $x$ value that lies between given data points. However, sometimes, it might be necessary to find the $x$ corresponding to a given $f(x)$ value - this operation is called the _inverse interpolation_.\n",
    "\n",
    "The first thing that comes to mind is to reinterpret $x$ as $f(x)$ and $f(x)$ as $x$, then to proceed as a normal interpolation. This can have its own penalties. Consider $f(x) = 1/x$ function. So for a number of observations from $x=1,\\dots, 7$, we will have:"
   ]
  },
  {
   "cell_type": "code",
   "execution_count": 20,
   "id": "efb0412f",
   "metadata": {},
   "outputs": [
    {
     "name": "stdout",
     "output_type": "stream",
     "text": [
      "[[1.    2.    3.    4.    5.    6.    7.   ]\n",
      " [1.    0.5   0.333 0.25  0.2   0.167 0.143]]\n"
     ]
    }
   ],
   "source": [
    "np.set_printoptions(precision=3)\n",
    "x = np.arange(1,8)\n",
    "y = 1/x\n",
    "print(np.array([x,y]))"
   ]
  },
  {
   "cell_type": "markdown",
   "id": "616fbc81",
   "metadata": {},
   "source": [
    "now suppose that we want to find the value of $x$ such that $f(x)=0.3$. Inverting $x\\leftrightarrow f(x)$ yields:"
   ]
  },
  {
   "cell_type": "code",
   "execution_count": 21,
   "id": "d2b375a6",
   "metadata": {},
   "outputs": [
    {
     "name": "stdout",
     "output_type": "stream",
     "text": [
      "[[1.    0.5   0.333 0.25  0.2   0.167 0.143]\n",
      " [1.    2.    3.    4.    5.    6.    7.   ]]\n"
     ]
    }
   ],
   "source": [
    "print(np.array([y,x]))\n",
    "p = np.polyfit(y,x,6)\n",
    "pol = np.poly1d(p)"
   ]
  },
  {
   "cell_type": "code",
   "execution_count": 22,
   "id": "441a3c5b",
   "metadata": {},
   "outputs": [
    {
     "name": "stdout",
     "output_type": "stream",
     "text": [
      "[  5040. -13068.  13132.  -6769.   1960.   -322.     28.]\n",
      "      6             5             4        3        2\n",
      "5040 x - 1.307e+04 x + 1.313e+04 x - 6769 x + 1960 x - 322 x + 28\n"
     ]
    }
   ],
   "source": [
    "print(p)\n",
    "print(pol)"
   ]
  },
  {
   "cell_type": "code",
   "execution_count": 23,
   "id": "dcbd28eb",
   "metadata": {},
   "outputs": [
    {
     "data": {
      "text/plain": [
       "3.3251199999985914"
      ]
     },
     "execution_count": 23,
     "metadata": {},
     "output_type": "execute_result"
    }
   ],
   "source": [
    "np.polyval(p,0.3)"
   ]
  },
  {
   "cell_type": "markdown",
   "id": "9f85ea23",
   "metadata": {},
   "source": [
    "... or, we can use our heads, as usual! ;)\n",
    "\n",
    "What we lacked in the above approximation is we failed to _read_ the data. The data, with the given (x,y) order was evenly spaced. Therefore we could have gone for a 2nd order fit around $x=\\{2,3,4\\}$. Focusing there:"
   ]
  },
  {
   "cell_type": "code",
   "execution_count": 24,
   "id": "3d6670f9",
   "metadata": {},
   "outputs": [
    {
     "name": "stdout",
     "output_type": "stream",
     "text": [
      "         2\n",
      "0.04167 x - 0.375 x + 1.083\n"
     ]
    }
   ],
   "source": [
    "q = np.polyfit(x[1:4],y[1:4],2)\n",
    "pol2 = np.poly1d(q)\n",
    "print(pol2)"
   ]
  },
  {
   "cell_type": "markdown",
   "id": "a43e21b8",
   "metadata": {},
   "source": [
    "We are looking at a value of $x$ where the above equation becomes 0.3, in other words:\n",
    "\n",
    "$$0.3 = 0.04167 x^2 - 0.375 x + 1.083$$\n",
    "\n",
    "and this is just a problem of finding the root!"
   ]
  },
  {
   "cell_type": "code",
   "execution_count": 25,
   "id": "6a01afc4",
   "metadata": {},
   "outputs": [
    {
     "name": "stdout",
     "output_type": "stream",
     "text": [
      "[5.706 3.293]\n"
     ]
    }
   ],
   "source": [
    "x = np.roots([0.04167,-0.375,1.083-0.3])\n",
    "print(x)"
   ]
  },
  {
   "cell_type": "markdown",
   "id": "1511ce6d",
   "metadata": {},
   "source": [
    "Continuing to using our heads, we remember that, we were looking for the solutions between 2 and 4, hence we take 3.293 -- considering that the true value being 3.333, we did a great job, by keeping to our human sides, not by being a number cruncher! 8)"
   ]
  },
  {
   "cell_type": "markdown",
   "id": "181b569a",
   "metadata": {},
   "source": [
    "# Bonus: Finite Difference Method\n",
    "_(not quite interpolation but still... ;)_\n",
    "\n",
    "When we have a differential equation and the values at boundaries are known, we can interpolate via the finite differences method to approximate the derivatives as the slopes of the lines connecting the data points.\n",
    "\n",
    "Suppose that we want to calculate the derivative of a function at the $x_i$ point. We can take one of the two approaches to approximate the derivative:\n",
    "\n",
    "![05_FiniteDiff_1_Chapra.png](imgs/05_FiniteDiff_1_Chapra.png) (Chapra, 2012)\n",
    "\n",
    "**a) Forward Finite Difference Approximation**\n",
    "\n",
    "Here, we have the slope as:\n",
    "\n",
    "$$\\frac{\\text{d}f(x)}{\\text{d}x}\\biggr\\vert_{x_i} \\approx \\frac{f(x_{i+1})-f(x_{i})}{h}$$\n",
    "\n",
    "**b) Backward Finite Difference Approximation**\n",
    "\n",
    "Considering the backward we can also write the slope as:\n",
    "\n",
    "$$\\frac{\\text{d}f(x)}{\\text{d}x}\\biggr\\vert_{x_i} \\approx \\frac{f(x_{i})-f(x_{i-1})}{h}$$\n",
    "\n",
    "but the best of the both worlds would be to take both into account:\n",
    "\n",
    "**Centered Finite Difference Approximation**\n",
    "![05_FiniteDiff_2_Chapra.png](imgs/05_FiniteDiff_2_Chapra.png) (Chapra, 2012)\n",
    "\n",
    "$$\\frac{\\text{d}f(x)}{\\text{d}x}\\biggr\\vert_{x_i} \\approx \\frac{f(x_{i+1})-f(x_{i-1})}{2h}$$"
   ]
  },
  {
   "cell_type": "markdown",
   "id": "3dfb2cdd",
   "metadata": {},
   "source": [
    "## Example (Chapra, 2012)\n",
    "![05_TemperatureDiffusion_Chapra.png](imgs/05_TemperatureDiffusion_Chapra.png)\n",
    "\n",
    "The figure shows a long, thin rod positioned between two walls that are held at constant temperatures. Heat flows through the rod as well as between the rod and the surrounding air. For the steady-state case, a differential equation based on heat conservation can be written for such a system as:\n",
    "\n",
    "$$\\frac{\\text{d}^2T}{\\text{d}x^2}-h'(T_a - T) = 0$$\n",
    "\n",
    "where $T$ is the temperature ($^oC$), $x$ is the distance along the rod (m), $h'$ is the heat transfer coefficient between the rod and the surrounding air ($m^{-2}$) and $T_a$ is the air temperature ($^oC$).\n",
    "\n",
    "Given $h'=0.01m^{-2}$, $T_a = 20^oC$, $T(x=0) = 40^oC$ and $T(x=10\\,m) = 200^oC$, calculate the temperature at the marked points in between."
   ]
  },
  {
   "cell_type": "markdown",
   "id": "a023eb3e",
   "metadata": {},
   "source": [
    "**Solution**\n",
    "\n",
    "If we approximate the 2nd order derivative with the finite difference method, we will have for each of the marked points ($T_i,\\;i={1,2,3,4}$ -- $T_0$ and $T_5$ are given and $\\Delta x = 2\\,m$):\n",
    "\n",
    "$$\\frac{\\text{d}^2T}{\\text{d}x^2}\\biggr\\vert_{i}\\approx \\frac{T_{i+1}-2T_{i}+T_{i-1}}{\\Delta x^2}$$\n",
    "\n",
    "and the main differential equation takes the form of:\n",
    "\n",
    "$$\\frac{T_{i+1}-2T_{i}+T_{i-1}}{\\Delta x^2}+h'(T_a - T_i)=0$$\n",
    "\n",
    "Expanding and re-arranging yields:\n",
    "\n",
    "$$-T_{i-1}+(2+\\Delta x^2 h')T_i-T_{i+1} = \\Delta x^2 h' T_a$$\n",
    "\n",
    "substituting the values of $\\Delta x = 2\\,m$, $T_a = 20^oC$ and $h'  =0.01 m^{-2}$:\n",
    "\n",
    "$$-T_{i-1}+2.04 T_i-T_{i+1} = 0.8$$\n",
    "\n",
    "Writing explicitly for each of the points, we have:\n",
    "\n",
    "$$\\begin{align*}\n",
    "-T_0 + 2.04T_1-T_2&=0.8\\\\\n",
    "-T_1 + 2.04T_2-T_3&=0.8\\\\\n",
    "-T_2 + 2.04T_3-T_4&=0.8\\\\\n",
    "-T_3 + 2.04T_4-T_5&=0.8\n",
    "\\end{align*}$$\n",
    "\n",
    "We already have $T_0$ and $T_5$ values:\n",
    "\n",
    "$$\\begin{align*}\n",
    "2.04T_1-T_2&=40.8\\\\\n",
    "-T_1 + 2.04T_2-T_3&=0.8\\\\\n",
    "-T_2 + 2.04T_3-T_4&=0.8\\\\\n",
    "-T_3 + 2.04T_4&=200.8\n",
    "\\end{align*}$$\n",
    "\n",
    "This is nothing but a linear equation set! So all of a sudden our 2nd order ODE has transformed into a set of 4 linear equations with 4 unknowns!\n",
    "\n",
    "$$\\begin{bmatrix}2.04 & -1 & 0 & 0\\\\\n",
    "-1 & 2.04 & -1 & 0 \\\\\n",
    "0 &-1 & 2.04 & -1 \\\\\n",
    "0 & 0 & -1 & 2.04 \n",
    "\\end{bmatrix}\n",
    "\\begin{bmatrix} T_1\\\\T_2\\\\T_3\\\\T_4\\end{bmatrix}=\\begin{bmatrix} 40.8\\\\0.8\\\\0.8\\\\200.8\\end{bmatrix}$$"
   ]
  },
  {
   "cell_type": "code",
   "execution_count": 26,
   "id": "4dde5ddc",
   "metadata": {},
   "outputs": [
    {
     "name": "stdout",
     "output_type": "stream",
     "text": [
      "[[ 2.04 -1.    0.    0.  ]\n",
      " [-1.    2.04 -1.    0.  ]\n",
      " [ 0.   -1.    2.04 -1.  ]\n",
      " [ 0.    0.   -1.    2.04]]\n"
     ]
    }
   ],
   "source": [
    "A1 = np.diag([2.04,2.04,2.04,2.04])\n",
    "A2 = np.diag([-1,-1,-1],1)\n",
    "A3 = np.diag([-1,-1,-1],-1)\n",
    "A = A1+A2+A3\n",
    "print(A)"
   ]
  },
  {
   "cell_type": "code",
   "execution_count": 27,
   "id": "a42670fa",
   "metadata": {},
   "outputs": [
    {
     "name": "stdout",
     "output_type": "stream",
     "text": [
      "[ 40.8   0.8   0.8 200.8]\n"
     ]
    }
   ],
   "source": [
    "b = np.array([40.8,0.8,0.8,200.8])\n",
    "print(b)"
   ]
  },
  {
   "cell_type": "code",
   "execution_count": 28,
   "id": "a6b51517",
   "metadata": {},
   "outputs": [
    {
     "name": "stdout",
     "output_type": "stream",
     "text": [
      "[ 65.97   93.778 124.538 159.48 ]\n"
     ]
    }
   ],
   "source": [
    "T = np.linalg.solve(A,b)\n",
    "print(T)"
   ]
  },
  {
   "cell_type": "markdown",
   "id": "742d21fc",
   "metadata": {},
   "source": [
    "Btw, the analytical solution of the given ODE is:\n",
    "\n",
    "$$T(X) = 73.4523e^{0.1x}-53.4523e^{-0.1x}+20$$\n",
    "\n",
    "Let's check how good did we do:"
   ]
  },
  {
   "cell_type": "code",
   "execution_count": 29,
   "id": "a39b929f",
   "metadata": {},
   "outputs": [
    {
     "data": {
      "image/png": "[encoded data removed]",
      "text/plain": [
       "<Figure size 432x288 with 1 Axes>"
      ]
     },
     "metadata": {
      "filenames": {
       "image/png": "/stmp/code/books/FIZ228/_build/jupyter_execute/FIZ228_05_Interpolation_59_0.png"
      },
      "needs_background": "light"
     },
     "output_type": "display_data"
    }
   ],
   "source": [
    "def fT(x):\n",
    "    return 73.4523*np.exp(0.1*x)-53.4523*np.exp(-0.1*x)+20\n",
    "\n",
    "xx = np.linspace(0,12,100)\n",
    "TT = fT(xx)\n",
    "plt.plot(xx,TT,\"-\",color=\"black\")\n",
    "plt.plot(np.arange(2,9,2),T,\"ro\")\n",
    "plt.plot([0,10],[40,200],\"ko\")\n",
    "plt.show()"
   ]
  },
  {
   "cell_type": "markdown",
   "id": "b66f40c7",
   "metadata": {},
   "source": [
    "# References\n",
    "* Heavily benefitted from Chapra's \"Applied Numerical Methods with MATLAB for Engineers and Scientists\" (2012) along with dear Dr. Eda Çelik Akdur's \"KMU 231 - Numerical Analysis\" lecture notes.\n",
    "* The divided differences scheme's $\\LaTeX$ code was adapted from the corresponding [Wikipedia entry](https://en.wikipedia.org/w/index.php?title=Newton_polynomial&oldid=994324116#Examples)."
   ]
  }
 ],
 "metadata": {
  "jupytext": {
   "formats": "ipynb,md:myst",
   "text_representation": {
    "extension": ".md",
    "format_name": "myst",
    "format_version": 0.13,
    "jupytext_version": "1.11.5"
   }
  },
  "kernelspec": {
   "display_name": "Python 3 (ipykernel)",
   "language": "python",
   "name": "python3"
  },
  "language_info": {
   "codemirror_mode": {
    "name": "ipython",
    "version": 3
   },
   "file_extension": ".py",
   "mimetype": "text/x-python",
   "name": "python",
   "nbconvert_exporter": "python",
   "pygments_lexer": "ipython3",
   "version": "3.8.5"
  },
  "source_map": [
   13,
   19,
   25,
   33,
   36,
   52,
   57,
   83,
   89,
   92,
   96,
   99,
   107,
   112,
   118,
   126,
   131,
   146,
   169,
   172,
   191,
   196,
   200,
   222,
   231,
   242,
   251,
   287,
   298,
   308,
   330,
   343,
   347,
   382,
   395,
   431,
   441,
   461,
   472,
   491,
   496,
   505,
   512,
   517,
   521,
   527,
   532,
   534,
   540,
   544,
   552,
   555,
   559,
   589,
   602,
   649,
   657,
   662,
   665,
   673,
   683
  ]
 },
 "nbformat": 4,
 "nbformat_minor": 5
}