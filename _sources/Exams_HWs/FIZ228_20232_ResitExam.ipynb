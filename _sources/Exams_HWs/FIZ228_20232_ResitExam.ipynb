{
 "cells": [
  {
   "cell_type": "markdown",
   "id": "c16f448c",
   "metadata": {},
   "source": [
    "# Resit Exam (20232)\n",
    "**FIZ228 - Numerical Analysis**  \n",
    "Dr. Emre S. Tasci, Hacettepe University\n",
    "\n",
    "28/06/2024"
   ]
  },
  {
   "cell_type": "code",
   "execution_count": 1,
   "id": "57edd3a9",
   "metadata": {},
   "outputs": [],
   "source": [
    "import numpy as np\n",
    "import scipy.optimize as opt\n",
    "import pandas as pd\n",
    "import matplotlib.pyplot as plt"
   ]
  },
  {
   "cell_type": "markdown",
   "id": "546c7135",
   "metadata": {},
   "source": [
    "**Pick and solve any 3 of the following questions**\n",
    "\n",
    "_(No bonus will be given for a 4th one!)_"
   ]
  },
  {
   "cell_type": "markdown",
   "id": "10065bed",
   "metadata": {},
   "source": [
    "# 1\n",
    "\n",
    "a. Construct a pandas dataframe with 5 (imaginary) students’ information containing their:    \n",
    "   <pre>\n",
    "        1. Name,  \n",
    "        2. Surname,  \n",
    "        3. ID #,  \n",
    "        4. FIZ227 - Programming Letter Grade  \n",
    "        5. FIZ228 - (Prospective) Final Exam Grade  \n",
    "        6. Overall Grade Average  </pre>\n",
    "b. Add your information as the 6th entry  \n",
    "c. Calculate the average of the \"FIZ228 - (Prospective) Final Exam Grade\" column and round it  \n",
    "d. Have the pandas return the information of the student with the highest \"Overall Grade Average\""
   ]
  },
  {
   "cell_type": "markdown",
   "id": "2971b8f0",
   "metadata": {},
   "source": [
    "# 2 \n",
    "\n",
    "On a 1D wire, some measurements have been made and the following data have been obtained:\n",
    "\n",
    "|x|y|\n",
    "|---|---|\n",
    "|-1|0|\n",
    "|2|-24|\n",
    "|4|0|\n",
    "|6|0|\n",
    "\n",
    "In the table above, $x$ denotes the distance from a point marked on the wire while $y$ corresponds to the magnitude of the property measured.\n",
    "\n",
    "Given that the measured property is a continous quantity, estimate:\n",
    "\n",
    "a) The value at the x = 5 position.  \n",
    "b) The position where the measured property's value is equal to -75 (within a precision of the order 10<sup>-4</sup>).\n",
    "\n",
    "_(For the sake of simplicity, units have been ignored.)_"
   ]
  },
  {
   "cell_type": "markdown",
   "id": "9cf994e6",
   "metadata": {},
   "source": [
    "# 3\n",
    "\n",
    "Suppose that we have two kinds of particles: A and B (you can think of them as golf balls and tennis balls). When they are put in a system, the system's energy is given by the following formula:\n",
    "\n",
    "$$U(n_A,n_B) = -2n_A^2-n_B^2+5n_An_B+10n_A+70n_B$$\n",
    "\n",
    "where $n_{\\{A,B\\}}$ indicates the number of A and B particles in the system.\n",
    "\n",
    "Due to the system's capacity, and the fact that B particles being bigger than A particles, we have the following restriction:\n",
    "\n",
    "$$n_A + 2.7n_B \\le 101$$\n",
    "\n",
    "Find the optimal number of A and B particles to be put into the system such that they satisfy the above restriction while yielding the maximum energy."
   ]
  },
  {
   "cell_type": "markdown",
   "id": "c90b9bf8",
   "metadata": {},
   "source": [
    "# 4\n",
    "\n",
    "Solve the following ODE for the given conditions:\n",
    "\n",
    "$$y'' + y - e^{-x/10} y' = 0\\\\y(0)=1,\\,y'(0)=0\\quad x\\in [0,12];\\quad h\\le0.01$$\n",
    "\n",
    "Plot your result."
   ]
  }
 ],
 "metadata": {
  "jupytext": {
   "formats": "ipynb,md:myst",
   "text_representation": {
    "extension": ".md",
    "format_name": "myst",
    "format_version": 0.13,
    "jupytext_version": "1.11.5"
   }
  },
  "kernelspec": {
   "display_name": "Python 3 (ipykernel)",
   "language": "python",
   "name": "python3"
  },
  "language_info": {
   "codemirror_mode": {
    "name": "ipython",
    "version": 3
   },
   "file_extension": ".py",
   "mimetype": "text/x-python",
   "name": "python",
   "nbconvert_exporter": "python",
   "pygments_lexer": "ipython3",
   "version": "3.8.5"
  },
  "source_map": [
   13,
   21,
   26,
   32,
   48,
   70,
   86
  ]
 },
 "nbformat": 4,
 "nbformat_minor": 5
}