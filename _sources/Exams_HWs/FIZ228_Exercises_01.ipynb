{
 "cells": [
  {
   "cell_type": "markdown",
   "id": "152d1517",
   "metadata": {},
   "source": [
    "# Exercise Set #1\n",
    "**FIZ228 - Numerical Analysis**  \n",
    "Dr. Emre S. Tasci, Hacettepe University"
   ]
  },
  {
   "cell_type": "markdown",
   "id": "c25c25da",
   "metadata": {},
   "source": [
    "# 1\n",
    "Import the meteorological data ({download}`01_meteoblue_Basel_20230303T060433.csv<../data/01_meteoblue_Basel_20230303T060433.csv>`) as a pandas dataframe (if you can't readily access the course webpage, you can also download it from the [meteoblue site](https://www.meteoblue.com/en/weather/archive/export) with the date range being 1/1/2022 - 3/3/2023 and the parameters set to those you'll need for this example ;).\n",
    "\n",
    "Then:\n",
    "\n",
    "* Calculate the average daily temperature on February, 5th, 2022\n",
    "* Find the most cloudy day in January 2022\n",
    "* Find the most cloudy hour in January 2022\n",
    "* Find the most sunny day, calculate the total radiation energy received in 2002"
   ]
  },
  {
   "cell_type": "markdown",
   "id": "878a157f",
   "metadata": {},
   "source": [
    "# 2\n",
    "\n",
    "Draw 1000 samples from a Gaussian (normal) distribution with $\\mu =  10$, $\\sigma = 1.2$\n",
    "\n",
    "* Calculate the mean and standard deviation of the samples.  \n",
    "* Plot its histogram for 10 bins (you can use either matplotlib.pyplot or seaborn).  \n",
    "    _Hint: You can have the bin positions defined as the average of the left and right boundary of each bin_\n",
    "    ![Exercises_01_histgraph.png](../imgs/Exercises_01_histgraph.png)\n",
    "* Define a pandas dataframe such that it has three columns:  \n",
    "    * `bin_pos` : bin position\n",
    "    * `bin_count` : count of the samples per each bin\n",
    "    * `bin_dist` : its distance to the mean\n",
    "* Using seaborn, plot the dataframe data such that the horizontal axis is the bin_pos, the vertical axis is the bin_count and the points' sizes change with respect to bin_dist.\n",
    "    ![Exercises_01_histgraph_with_size.png](../imgs/Exercises_01_histgraph_with_size.png)\n",
    "    * _Challenge: try to modify the graph such that the points closer to the mean are displayed bigger in size, while the dots are connected by a line_\n",
    "    ![Exercises_01_histgraph_with_invsize.png](../imgs/Exercises_01_histgraph_with_invsize.png)"
   ]
  },
  {
   "cell_type": "code",
   "execution_count": null,
   "id": "4e15605b",
   "metadata": {},
   "outputs": [],
   "source": []
  }
 ],
 "metadata": {
  "jupytext": {
   "formats": "ipynb,md:myst",
   "text_representation": {
    "extension": ".md",
    "format_name": "myst",
    "format_version": 0.13,
    "jupytext_version": "1.11.5"
   }
  },
  "kernelspec": {
   "display_name": "Python 3 (ipykernel)",
   "language": "python",
   "name": "python3"
  },
  "language_info": {
   "codemirror_mode": {
    "name": "ipython",
    "version": 3
   },
   "file_extension": ".py",
   "mimetype": "text/x-python",
   "name": "python",
   "nbconvert_exporter": "python",
   "pygments_lexer": "ipython3",
   "version": "3.8.5"
  },
  "source_map": [
   13,
   19,
   31,
   50
  ]
 },
 "nbformat": 4,
 "nbformat_minor": 5
}