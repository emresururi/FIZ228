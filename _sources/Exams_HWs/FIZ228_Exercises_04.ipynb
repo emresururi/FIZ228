{
 "cells": [
  {
   "cell_type": "markdown",
   "id": "0c8a07f5",
   "metadata": {},
   "source": [
    "# Exercise Set #4\n",
    "**FIZ228 - Numerical Analysis**  \n",
    "Dr. Emre S. Tasci, Hacettepe University"
   ]
  },
  {
   "cell_type": "markdown",
   "id": "dac213b0",
   "metadata": {},
   "source": [
    "## k-means Clustering\n",
    "\n",
    "1. Import the data given in the {download}`Exercise_04_a.csv<../data/Exercise_04_a.csv>` file\n",
    "2. Plot them.\n",
    "3. Looking at your data, decide the optimal number of means ($k\\in[2,6]$) and indicate them by drawing over by hand.\n",
    "4. Device an algorithm to automatically come up with the optimal number of k-means and implement it."
   ]
  },
  {
   "cell_type": "markdown",
   "id": "4c2d8dc3",
   "metadata": {},
   "source": [
    "## Soft k-means Clustering\n",
    "\n",
    "Implement soft k-means clustering by changing the definition of the responsibility vector such that:\n",
    "\n",
    "1. Each point belongs to a mean as a function of the distance between them (closer the mean, higher responsibility)\n",
    "2. The sum of each mean's ownership per each data point is equal to 1.\n",
    "\n",
    "In the lecture notes, the responsibility vector for soft k-means clustering is defined as:\n",
    "\n",
    "$$r_k^{(n)}=\\frac{\\exp\\left(-\\beta\\,d\\left(\\vec{m}^{(k)},x^{(n)}\\right)\\right)}{\\sum_{k'}{\\exp\\left(-\\beta\\,d\\left(\\vec{m}^{(k')},x^{(n)}\\right)\\right)} }$$ \n",
    "\n",
    "where $\\beta$ is the *softness parameter* $(\\beta\\rightarrow\\infty\\Rightarrow\\text{Hard k-means algorithm.})$ and $d\\left(\\vec{m}^{(k)},x^{(n)}\\right)$ is the distance function between the k<sup>th</sup> mean and the n<sup>th</sup> data point.\n",
    "\n",
    "Define your responsibility vector using a different function than the one given and use it to cluster the data given in {download}`Exercise_04_b.csv<../data/Exercise_04_b.csv>`"
   ]
  },
  {
   "cell_type": "code",
   "execution_count": null,
   "id": "143138ed",
   "metadata": {},
   "outputs": [],
   "source": []
  }
 ],
 "metadata": {
  "jupytext": {
   "formats": "ipynb,md:myst",
   "text_representation": {
    "extension": ".md",
    "format_name": "myst",
    "format_version": 0.13,
    "jupytext_version": "1.11.5"
   }
  },
  "kernelspec": {
   "display_name": "Python 3 (ipykernel)",
   "language": "python",
   "name": "python3"
  },
  "language_info": {
   "codemirror_mode": {
    "name": "ipython",
    "version": 3
   },
   "file_extension": ".py",
   "mimetype": "text/x-python",
   "name": "python",
   "nbconvert_exporter": "python",
   "pygments_lexer": "ipython3",
   "version": "3.8.5"
  },
  "source_map": [
   13,
   19,
   28,
   45
  ]
 },
 "nbformat": 4,
 "nbformat_minor": 5
}