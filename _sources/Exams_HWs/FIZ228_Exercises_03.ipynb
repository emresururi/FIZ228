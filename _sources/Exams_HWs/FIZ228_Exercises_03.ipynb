{
 "cells": [
  {
   "cell_type": "markdown",
   "id": "49474070",
   "metadata": {},
   "source": [
    "# Exercise Set #3\n",
    "**FIZ228 - Numerical Analysis**  \n",
    "Dr. Emre S. Tasci, Hacettepe University"
   ]
  },
  {
   "cell_type": "markdown",
   "id": "9dc0667c",
   "metadata": {},
   "source": [
    "Fit the {download}`Silica FTIR data<../data/05_Silica_FTIR.csv>` [Silica FTIR data] for the wavenumber range [900,1500] cm<sup>-1</sup>:\n",
    "\n",
    "1. Using 3 Gaussians\n",
    "2. Using 4 Gaussians\n",
    "3. Using 5 Gaussians\n",
    "4. Using 3 Lorentzians\n",
    "5. Using 2 Gaussians & 2 Lorentzians\n",
    "\n",
    "Calculate the coefficient of determination ($r^2$) for each fit."
   ]
  },
  {
   "cell_type": "markdown",
   "id": "e534c355",
   "metadata": {},
   "source": [
    "<hr>\n",
    "\n",
    "**Information:**\n",
    "\n",
    "A Gaussian characterized by ($A,\\mu,\\sigma$) is formulized as:\n",
    "\n",
    "$$G(x;A,\\mu,\\sigma) = A\\exp{\\left[-\\frac{(x-\\mu)^2}{2\\sigma^2}\\right]}$$\n",
    "\n",
    "whereas, a Lorentzian characterized by ($A,x_0,\\gamma$) is formulized as:\n",
    "\n",
    "$$ L(x;A,x_0,\\gamma)=A\\left[ { \\gamma \\over (x - x_0)^2 + \\gamma^2  } \\right]$$"
   ]
  },
  {
   "cell_type": "markdown",
   "id": "23df9263",
   "metadata": {},
   "source": [
    "**Hints:**\n",
    "\n",
    "* Once you solve one of the items, it will be pretty straightforward to apply the same routing to the rest.\n",
    "* If at first you don't get any result or error from the `curve_fit()` or any other fit function you are using, it is most likely due to a bad starting point. Trial & error is a good approach but taking a hint from [Cappeletti et al.'s graph](https://doi.org/10.1366/12-06748) is the best one! ;) [See below]\n",
    "* It's always a good idea to separately plot all the components to see if the components make sense (e.g., absorbance can never take negative values!)"
   ]
  },
  {
   "cell_type": "markdown",
   "id": "09ceb33d",
   "metadata": {},
   "source": [
    "As an example for the last one, check the following fit of 5 Gaussians, with _r<sup>2</sup>_ = 0.998:\n",
    "\n",
    "![HW3_bad5G_sum.png](../imgs/HW3_bad5G_sum.png)\n",
    "\n",
    "Even though it seems very good, here are its components, separately drawn:\n",
    "\n",
    "![HW3_bad5G.png](../imgs/HW3_bad5G.png)\n",
    "\n",
    "which doesn't make any sense as G3 & G5 Gaussians indicate a negative absorption!"
   ]
  },
  {
   "cell_type": "markdown",
   "id": "8a2846a6",
   "metadata": {},
   "source": [
    "## Cappeletti et al.'s graph\n",
    "\n",
    "![imgs/04_Cappeletti.png](../imgs/04_Cappeletti.png)"
   ]
  },
  {
   "cell_type": "markdown",
   "id": "3e5dd9db",
   "metadata": {},
   "source": [
    "# Reference & Acknowledgement\n",
    "* I'm indebted to Prof. Sevgi Bayarı for generously supplying the FTIR data.\n",
    "* L.B. Cappeletti et al., [\"Determination of the Network Structure of Sensor Materials Prepared by Three Different Sol-Gel Routes Using Fourier Transform Infrared Spectroscopy (FT-IR)\", Applied Spectroscopy 67(4) 441-447 (2012) (DOI: 10.1366/12-06748)](https://doi.org/10.1366/12-06748)"
   ]
  },
  {
   "cell_type": "code",
   "execution_count": null,
   "id": "d99089ec",
   "metadata": {},
   "outputs": [],
   "source": []
  }
 ],
 "metadata": {
  "jupytext": {
   "formats": "ipynb,md:myst",
   "text_representation": {
    "extension": ".md",
    "format_name": "myst",
    "format_version": 0.13,
    "jupytext_version": "1.11.5"
   }
  },
  "kernelspec": {
   "display_name": "Python 3 (ipykernel)",
   "language": "python",
   "name": "python3"
  },
  "language_info": {
   "codemirror_mode": {
    "name": "ipython",
    "version": 3
   },
   "file_extension": ".py",
   "mimetype": "text/x-python",
   "name": "python",
   "nbconvert_exporter": "python",
   "pygments_lexer": "ipython3",
   "version": "3.8.5"
  },
  "source_map": [
   13,
   19,
   31,
   45,
   53,
   65,
   71,
   77
  ]
 },
 "nbformat": 4,
 "nbformat_minor": 5
}