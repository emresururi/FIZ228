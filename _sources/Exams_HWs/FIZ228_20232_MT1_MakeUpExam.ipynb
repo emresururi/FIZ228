{
 "cells": [
  {
   "cell_type": "markdown",
   "id": "44429902",
   "metadata": {},
   "source": [
    "# Midterm Exam #1 Make-Up (20232)\n",
    "**FIZ228 - Numerical Analysis**  \n",
    "Dr. Emre S. Tasci, Hacettepe University\n",
    "\n",
    "23/05/2024"
   ]
  },
  {
   "cell_type": "markdown",
   "id": "1cb9d2b8",
   "metadata": {},
   "source": [
    "1. Import the data from the {download}`FIZ228_20232_MT1_MakeUp_data.csv<../data/FIZ228_20232_MT1_MakeUp_data.csv>` file.\n",
    "2. Fit each one of the following function forms to the data:\n",
    "\n",
    "$$f_1(x;A,\\mu,\\sigma,b) = A\\exp[-\\frac{(x-\\mu)^2}{2\\sigma^2}] + b$$\n",
    "\n",
    "$$f_2(x;A,\\omega,\\phi,b) = A\\sin(\\omega x+\\phi) + b$$\n",
    "\n",
    "3. Calculate the error estimations between the given data and your model using the following error function:$\\DeclareMathOperator\\erf{erf}$\n",
    "\n",
    " * $\\erf = \\sqrt{\\sum_{i}{(y_i - e_i)^2}}$\n",
    " \n",
    " where $y$ indicates the given data and $e$ the model estimation.\n",
    " \n",
    "4. Calculate the coefficient of determination ($r^2$) for each model.\n",
    "\n",
    "5. Which one of the functions would you pick for the most representative of the data? Briefly explain."
   ]
  },
  {
   "cell_type": "markdown",
   "id": "6417b6da",
   "metadata": {},
   "source": [
    "_Submit your answer as a zip file containing both the html and the ipynb formats of your jupyter notebook, all the filenames formatted as \"FIZ228_20232_MT1MU_NameSurname\" (.html, .ipynb, .zip)_"
   ]
  },
  {
   "cell_type": "code",
   "execution_count": null,
   "id": "9b6f8dc0",
   "metadata": {},
   "outputs": [],
   "source": []
  }
 ],
 "metadata": {
  "jupytext": {
   "formats": "ipynb,md:myst",
   "text_representation": {
    "extension": ".md",
    "format_name": "myst",
    "format_version": 0.13,
    "jupytext_version": "1.11.5"
   }
  },
  "kernelspec": {
   "display_name": "Python 3 (ipykernel)",
   "language": "python",
   "name": "python3"
  },
  "language_info": {
   "codemirror_mode": {
    "name": "ipython",
    "version": 3
   },
   "file_extension": ".py",
   "mimetype": "text/x-python",
   "name": "python",
   "nbconvert_exporter": "python",
   "pygments_lexer": "ipython3",
   "version": "3.8.5"
  },
  "source_map": [
   13,
   21,
   40,
   44
  ]
 },
 "nbformat": 4,
 "nbformat_minor": 5
}