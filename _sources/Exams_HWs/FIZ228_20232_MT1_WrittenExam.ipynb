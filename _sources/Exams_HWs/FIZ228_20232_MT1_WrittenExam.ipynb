{
 "cells": [
  {
   "cell_type": "markdown",
   "id": "b39845a9",
   "metadata": {},
   "source": [
    "# Midterm Exam #1 (20232) Written Session\n",
    "**FIZ228 - Numerical Analysis**  \n",
    "Dr. Emre S. Tasci, Hacettepe University\n",
    "\n",
    "19/04/2024"
   ]
  },
  {
   "cell_type": "markdown",
   "id": "79282530",
   "metadata": {},
   "source": [
    "Assume that you have been given a dataset with x and corresponding y values. \n",
    "\n",
    "You have two theoretical models for the related phenomenon, let’s say $f_1(x)$  and $f_2(x)$. These functions can be of very different varieties and can require completely different parameters (e.g., $f_1(x)$ can be a Gaussian like: $f_1(x;\\mu,\\sigma) = e^{-\\frac{\\left(x-\\mu\\right)^2}{2\\sigma^2}}$, while $f_2(x)$ can be a sinusoidal function like: $f_2(x;A,\\omega,\\varphi) = A\\sin(\\omega x + \\varphi)$).\n",
    "\n",
    "Describe in detail, starting from the very beginning, how you would determine of the two proposed models, the one that fits the given data best. Please present your process, clearly and in steps, like phrasing a recipe:\n",
    "\n",
    "1. _Do this by using ..._\n",
    "2. _Calculate the … _\n",
    "3. _…_\n",
    "\n",
    "_You are not being asked to write a code (actually, please do not include any code!) – imagine transcribing this recipe to a fellow programmer working alongside: they know how to code but not what to do, so you need to tell them what is to be done, step by step. If you want them to calculate the error, you need to specify what you mean by “the error” (the formula); if you want them to fit the data, you need to specify what you mean by “fitting the data”, how it is done, on what criteria. (Any parts not covered by your instructions will be used against you!” ;)_"
   ]
  },
  {
   "cell_type": "code",
   "execution_count": null,
   "id": "3c4bff11",
   "metadata": {},
   "outputs": [],
   "source": []
  }
 ],
 "metadata": {
  "jupytext": {
   "formats": "ipynb,md:myst",
   "text_representation": {
    "extension": ".md",
    "format_name": "myst",
    "format_version": 0.13,
    "jupytext_version": "1.11.5"
   }
  },
  "kernelspec": {
   "display_name": "Python 3 (ipykernel)",
   "language": "python",
   "name": "python3"
  },
  "language_info": {
   "codemirror_mode": {
    "name": "ipython",
    "version": 3
   },
   "file_extension": ".py",
   "mimetype": "text/x-python",
   "name": "python",
   "nbconvert_exporter": "python",
   "pygments_lexer": "ipython3",
   "version": "3.8.5"
  },
  "source_map": [
   13,
   21,
   35
  ]
 },
 "nbformat": 4,
 "nbformat_minor": 5
}