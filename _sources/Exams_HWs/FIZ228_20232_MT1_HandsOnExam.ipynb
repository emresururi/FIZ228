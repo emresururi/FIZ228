{
 "cells": [
  {
   "cell_type": "markdown",
   "id": "61c3249a",
   "metadata": {},
   "source": [
    "# Midterm Exam #1 (20232) Hands On Session\n",
    "**FIZ228 - Numerical Analysis**  \n",
    "Dr. Emre S. Tasci, Hacettepe University\n",
    "\n",
    "19/04/2024"
   ]
  },
  {
   "cell_type": "code",
   "execution_count": 1,
   "id": "5297c2bc",
   "metadata": {},
   "outputs": [],
   "source": [
    "import numpy as np\n",
    "import scipy.optimize as opt\n",
    "import pandas as pd\n",
    "import matplotlib.pyplot as plt"
   ]
  },
  {
   "cell_type": "markdown",
   "id": "6cf90938",
   "metadata": {},
   "source": [
    "# 1 \n",
    "Import the given {download}`FIZ228_20232_MT1_data.csv<../data/FIZ228_20232_MT1_data.csv>` file as a pandas dataframe.\n",
    "\n",
    "This data is known to contain signals taken from two joint sinusoidal signal generators (where superposition applies, i.e., $y = y_1 + y_2$). \n",
    "\n",
    "Rename the first column as \"t\" and the second as \"y\""
   ]
  },
  {
   "cell_type": "markdown",
   "id": "3defe7f6",
   "metadata": {},
   "source": [
    "# 2"
   ]
  },
  {
   "cell_type": "markdown",
   "id": "4bf9e3ba",
   "metadata": {},
   "source": [
    "Plot its graph as using red dots (no lines)."
   ]
  },
  {
   "cell_type": "markdown",
   "id": "ad6da127",
   "metadata": {},
   "source": [
    "# 3\n",
    "\n",
    "As mentioned above, this data consists of the superposition of two sinusoidal signals, such that:\n",
    "\n",
    "$$y = A_1\\sin(\\omega_1 t + \\varphi_1)+A_2\\sin(\\omega_2 t + \\varphi_2)$$\n",
    "\n",
    "Determine the parameters (amplitude, angular frequency and phase) of these two sinusoidal signals that best match to the data given.\n",
    "\n",
    "(Hint: Depending on your method, you can relax the default tolerance, in other words, don't get upset if a very high precision match can't be obtained)"
   ]
  },
  {
   "cell_type": "markdown",
   "id": "46cf50c4",
   "metadata": {},
   "source": [
    "# 4\n",
    "\n",
    "Using these parameters, construct your estimation function and introduce a third column labeled \"e\" on your dataframe that holds the function values with respect to your t values."
   ]
  },
  {
   "cell_type": "markdown",
   "id": "6e199514",
   "metadata": {},
   "source": [
    "# 5\n",
    "\n",
    "Plot the given data against the model estimation (data points: red dots as above; model estimation: dashed line)"
   ]
  },
  {
   "cell_type": "markdown",
   "id": "8dc2d537",
   "metadata": {},
   "source": [
    "# 6\n",
    "\n",
    "Calculate the following error estimations between the given data and your model:$\\DeclareMathOperator\\erf{erf}$\n",
    "\n",
    " * $\\erf_1 = \\sqrt{\\sum_{i}{(y_i - e_i)^2}}$\n",
    " * $\\erf_2 = \\sum_{i}{|y_i - e_i|}$\n",
    " \n",
    " where $y$ indicates the given data and $e$ the model estimation.\n",
    " \n",
    " Also calculate the coefficient of determination ($r^2$)."
   ]
  },
  {
   "cell_type": "markdown",
   "id": "9cb3826f",
   "metadata": {},
   "source": [
    "# 7\n",
    "\n",
    "The data presented was obtained by adding noise to the data calculated with the following parameters:\n",
    "\n",
    "$$\\begin{align*}A_1 &= 2.0&\n",
    "\\omega_1 &= 1.0&\n",
    "\\varphi_1 &=0.0\\\\\n",
    "A_2 &= 1.5&\n",
    "\\omega_2 &= 2.3&\n",
    "\\varphi_2 &=-35.0^o\n",
    "\\end{align*}$$\n",
    "\n",
    "_(You can't use these values to spot a good starting position for the above operations!)_\n",
    "\n",
    "\n",
    "Plot the data along with your fit and the model constructed with these parameters like you did in part 5.\n",
    "\n",
    "Calculate the error estimations between the data and a model constructed with these parameters like you did in part 6."
   ]
  }
 ],
 "metadata": {
  "jupytext": {
   "formats": "ipynb,md:myst",
   "text_representation": {
    "extension": ".md",
    "format_name": "myst",
    "format_version": 0.13,
    "jupytext_version": "1.11.5"
   }
  },
  "kernelspec": {
   "display_name": "Python 3 (ipykernel)",
   "language": "python",
   "name": "python3"
  },
  "language_info": {
   "codemirror_mode": {
    "name": "ipython",
    "version": 3
   },
   "file_extension": ".py",
   "mimetype": "text/x-python",
   "name": "python",
   "nbconvert_exporter": "python",
   "pygments_lexer": "ipython3",
   "version": "3.8.5"
  },
  "source_map": [
   13,
   21,
   26,
   35,
   39,
   43,
   55,
   61,
   67,
   80
  ]
 },
 "nbformat": 4,
 "nbformat_minor": 5
}