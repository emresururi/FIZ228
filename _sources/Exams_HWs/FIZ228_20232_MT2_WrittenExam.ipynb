{
 "cells": [
  {
   "cell_type": "markdown",
   "id": "19b7efb1",
   "metadata": {},
   "source": [
    "# Midterm Exam #2 (20232) Written Session\n",
    "**FIZ228 - Numerical Analysis**  \n",
    "Dr. Emre S. Tasci, Hacettepe University\n",
    "\n",
    "17/05/2024"
   ]
  },
  {
   "cell_type": "markdown",
   "id": "7fee3545",
   "metadata": {},
   "source": [
    "Consider the data plotted in the figure below. We want to classify these data points into three classes using k‑means clustering method. \n",
    "\n",
    "a) Mark the approximate expected positions of the means on the figure. Use the symbols \"■\", \"▲\" and \"✖\" to indicate the locations of the means, respectively.\n",
    "\n",
    "b) Indicate the domains of each domain on the figure. (Imagine being given a random point, after the means are fixed with respect to the previously existing data (which you did in the previous part) – to which mean would you assign this given point? Once you do the assignment, it means that, that position is <u>within the domain of that mean</u>. Now consider all the positions in the graph to define the domain of each mean and indicate these domains on the figure – that is what is being asked of you ;).\n",
    "\n",
    "c) Derive a systematical algorithm to define the domains of each mean (writing a code is not necessary, also not desired, just define the procedures in steps so that a coder without any prior knowledge of the topic can implement it as a code)."
   ]
  },
  {
   "cell_type": "markdown",
   "id": "790c1199",
   "metadata": {},
   "source": [
    "![../imgs/FIZ228_20232_MT2_WrittenExam.png](../imgs/FIZ228_20232_MT2_WrittenExam.png)"
   ]
  },
  {
   "cell_type": "markdown",
   "id": "cc8fe193",
   "metadata": {},
   "source": [
    "d) One downside of this method is the fact that the resulting classification depends on the initial positions of the means. Suppose that for a different set (in which the classification might not be so obvious compared to the one above), you have run your code 20 times, coming up with 20 different associations, with the means’ final positions for each run also stored somewhere. How would you decide on the best classification?"
   ]
  },
  {
   "cell_type": "markdown",
   "id": "3201c35f",
   "metadata": {},
   "source": [
    "Bonus: The data plotted have been generated using three 2D Gaussians. A Gaussian is defined through this equation:\n",
    "\n",
    "$$G(x;\\mu,\\sigma) = \\frac{1}{\\sqrt{2\\pi\\sigma^2}}\\exp\\left[-\\frac{\\left(x-\\mu\\right)^2}{\\sqrt{2\\sigma^2}}\\right]$$\n",
    "\n",
    "Describe how you’d generate such data using the Gaussian function. _(Try to justify parameters using numerical values with regard to the plotted data in the figure above.)_"
   ]
  },
  {
   "cell_type": "code",
   "execution_count": null,
   "id": "96dc365d",
   "metadata": {},
   "outputs": [],
   "source": []
  }
 ],
 "metadata": {
  "jupytext": {
   "formats": "ipynb,md:myst",
   "text_representation": {
    "extension": ".md",
    "format_name": "myst",
    "format_version": 0.13,
    "jupytext_version": "1.11.5"
   }
  },
  "kernelspec": {
   "display_name": "Python 3 (ipykernel)",
   "language": "python",
   "name": "python3"
  },
  "language_info": {
   "codemirror_mode": {
    "name": "ipython",
    "version": 3
   },
   "file_extension": ".py",
   "mimetype": "text/x-python",
   "name": "python",
   "nbconvert_exporter": "python",
   "pygments_lexer": "ipython3",
   "version": "3.8.5"
  },
  "source_map": [
   13,
   21,
   31,
   35,
   39,
   47
  ]
 },
 "nbformat": 4,
 "nbformat_minor": 5
}