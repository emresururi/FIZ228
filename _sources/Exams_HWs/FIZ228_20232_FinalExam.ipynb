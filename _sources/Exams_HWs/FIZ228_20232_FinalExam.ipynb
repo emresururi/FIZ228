{
 "cells": [
  {
   "cell_type": "markdown",
   "id": "4a9d3d18",
   "metadata": {},
   "source": [
    "# Final Exam (20232)\n",
    "**FIZ228 - Numerical Analysis**  \n",
    "Dr. Emre S. Tasci, Hacettepe University\n",
    "\n",
    "05/06/2024"
   ]
  },
  {
   "cell_type": "code",
   "execution_count": 1,
   "id": "44241ad7",
   "metadata": {},
   "outputs": [],
   "source": [
    "import numpy as np\n",
    "import scipy.optimize as opt\n",
    "import pandas as pd\n",
    "import matplotlib.pyplot as plt"
   ]
  },
  {
   "cell_type": "markdown",
   "id": "5d745e21",
   "metadata": {},
   "source": [
    "# 1 \n",
    "\n",
    "Consider the data given in the {download}`FIZ228_20232_Final_data.csv<../data/FIZ228_20232_Final_data.csv>` file. It contains 100 measurements taken for various $x$ values.\n",
    "\n",
    "Two models have been suggested for the mechanism behind the event: Gaussian and Lorentzian, defined respectively as:\n",
    "\n",
    "$$\\mathcal{G}(x;\\mu,\\sigma) = \\frac{1}{\\sqrt{2\\pi\\sigma^2}}\\exp\\left[-\\frac{(x-\\mu)^2}{2\\sigma^2}\\right]$$\n",
    "\n",
    "$$\\mathcal{L}(x;x_0,\\gamma)=\\frac{1}{\\pi}\\left[\\frac{\\gamma}{(x-x_0)^2+\\gamma^2}\\right]$$\n",
    "\n",
    "Fit the data into these two models, calculate the errors and decide the best model for the data by stating your justification.\n",
    "\n",
    "**Bonus:** Can you come up with a better model? _(Not talking about a polynomial fit of 100. order!)_ If you can, propose your model, fit it and calculate the error. (Hint, plotting the optimized Gaussian, Lorentzian and the data might give you an idea ;)"
   ]
  },
  {
   "cell_type": "markdown",
   "id": "f10d39a7",
   "metadata": {},
   "source": [
    "# 2"
   ]
  },
  {
   "cell_type": "markdown",
   "id": "b8e9047d",
   "metadata": {},
   "source": [
    "Solve the following ODE for the given conditions:\n",
    "\n",
    "$$y''-y'-2y=e^{3x}\\\\\n",
    "y(0) = 1.8500,\\quad y(1) = 25.9714,\\quad x\\in[0,1];\\quad h\\le0.01$$\n",
    "\n",
    "**Bonus:**\n",
    "\n",
    "Its analytical solution is: $y(x) = -1.3e^{-x}+2.9e^{2x}+\\frac{1}{4}e^{3x}$\n",
    "\n",
    "\n",
    "Calculate the total RMS error defined as:\n",
    "\n",
    "$$\\sqrt{\\frac{1}{N}\\sum_i{(y_i-t_i)^2}}$$\n",
    "\n",
    "where $y$ is the model estimate and $t$ is the analytical solution's value (_i.e._, true value)."
   ]
  },
  {
   "cell_type": "markdown",
   "id": "742e7227",
   "metadata": {},
   "source": [
    "# 3\n",
    "\n",
    "Solve the following ODE for the given conditions:\n",
    "\n",
    "$$y' = y -x\\\\y(1)=4.71828,\\quad x\\in [1,2];\\quad h\\le0.01$$\n",
    "\n",
    "\n",
    "**Bonus:**\n",
    "\n",
    "Its analytical solution is: $y(x)=e^x+x+1$\n",
    "\n",
    "\n",
    "Calculate the total RMS error defined as:\n",
    "\n",
    "$$\\sqrt{\\frac{1}{N}\\sum_i{(y_i-t_i)^2}}$$\n",
    "\n",
    "where $y$ is the model estimate and $t$ is the analytical solution's value (_i.e._, true value)."
   ]
  }
 ],
 "metadata": {
  "jupytext": {
   "formats": "ipynb,md:myst",
   "text_representation": {
    "extension": ".md",
    "format_name": "myst",
    "format_version": 0.13,
    "jupytext_version": "1.11.5"
   }
  },
  "kernelspec": {
   "display_name": "Python 3 (ipykernel)",
   "language": "python",
   "name": "python3"
  },
  "language_info": {
   "codemirror_mode": {
    "name": "ipython",
    "version": 3
   },
   "file_extension": ".py",
   "mimetype": "text/x-python",
   "name": "python",
   "nbconvert_exporter": "python",
   "pygments_lexer": "ipython3",
   "version": "3.8.5"
  },
  "source_map": [
   13,
   21,
   26,
   42,
   46,
   64
  ]
 },
 "nbformat": 4,
 "nbformat_minor": 5
}