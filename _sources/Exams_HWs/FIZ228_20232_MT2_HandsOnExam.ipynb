{
 "cells": [
  {
   "cell_type": "markdown",
   "id": "b715c96f",
   "metadata": {},
   "source": [
    "# Midterm Exam #2 - Hands On Session\n",
    "**FIZ228 - Numerical Analysis**  \n",
    "Dr. Emre S. Tasci, Hacettepe University\n",
    "\n",
    "17/05/2024"
   ]
  },
  {
   "cell_type": "markdown",
   "id": "7bb4da43",
   "metadata": {},
   "source": [
    "Classify the 4-dimensional data of 120 points listed in the \"FIZ228_20232_MT2_HandsOnExam_data.csv\" file via k-means clustering method into 5 classes.\n",
    "\n",
    "Output should contain:\n",
    "\n",
    "* The association of each point into their corresponding mean\n",
    "* Position of the means\n",
    "\n",
    "Zip your .ipynb file as \"FIZ228_20232_MT2_YourName.zip\"(*) (don't use Turkish characters as it may result in error!) and upload it to hadi.\n",
    "\n",
    "\n",
    "(*) this time you don't need to produce an html version (it's a little bit complicated via colab), only the ipynb file is sufficient -- we are actually archiving it because hadi doesn't accept ipynb files."
   ]
  },
  {
   "cell_type": "code",
   "execution_count": null,
   "id": "64181a86",
   "metadata": {},
   "outputs": [],
   "source": []
  }
 ],
 "metadata": {
  "jupytext": {
   "formats": "ipynb,md:myst",
   "text_representation": {
    "extension": ".md",
    "format_name": "myst",
    "format_version": 0.13,
    "jupytext_version": "1.11.5"
   }
  },
  "kernelspec": {
   "display_name": "Python 3 (ipykernel)",
   "language": "python",
   "name": "python3"
  },
  "language_info": {
   "codemirror_mode": {
    "name": "ipython",
    "version": 3
   },
   "file_extension": ".py",
   "mimetype": "text/x-python",
   "name": "python",
   "nbconvert_exporter": "python",
   "pygments_lexer": "ipython3",
   "version": "3.8.5"
  },
  "source_map": [
   13,
   21,
   35
  ]
 },
 "nbformat": 4,
 "nbformat_minor": 5
}