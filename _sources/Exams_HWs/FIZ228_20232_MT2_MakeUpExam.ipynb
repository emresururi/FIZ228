{
 "cells": [
  {
   "cell_type": "markdown",
   "id": "935ea352",
   "metadata": {},
   "source": [
    "# Midterm Exam #2 Make-Up (20232)\n",
    "**FIZ228 - Numerical Analysis**  \n",
    "Dr. Emre S. Tasci, Hacettepe University\n",
    "\n",
    "23/05/2024"
   ]
  },
  {
   "cell_type": "markdown",
   "id": "ef38c4df",
   "metadata": {},
   "source": [
    "A given number of 4-dimensional data has been clustered into 5 class via k-means clustering 20 times and, along with the data points, the association of the points per each run has been collected in the {download}`FIZ228_20232_MT2_MakeUp_data_df_assignments.csv<../data/FIZ228_20232_MT2_MakeUp_data_df_assignments.csv>` file.\n",
    "\n",
    "The final positions of the means in each run have also been stored in the {download}`FIZ228_20232_MT2_MakeUp_data_means_all.csv<../data/FIZ228_20232_MT2_MakeUp_data_means_all.csv>` file.\n",
    "\n",
    "Derive the most optimal, overall mean positions using these data and explaining your approach and procedures.\n",
    "\n",
    "**Bonus:** Calculate the sum of the square of the distances between the means and their associated points."
   ]
  },
  {
   "cell_type": "markdown",
   "id": "081d65ea",
   "metadata": {},
   "source": [
    "_Submit your answer as a zip file containing both the html and the ipynb formats of your jupyter notebook, all the filenames formatted as \"FIZ228_20232_MT2MU_NameSurname\" (.html, .ipynb, .zip)_"
   ]
  },
  {
   "cell_type": "code",
   "execution_count": null,
   "id": "7ab6466c",
   "metadata": {},
   "outputs": [],
   "source": []
  }
 ],
 "metadata": {
  "jupytext": {
   "formats": "ipynb,md:myst",
   "text_representation": {
    "extension": ".md",
    "format_name": "myst",
    "format_version": 0.13,
    "jupytext_version": "1.11.5"
   }
  },
  "kernelspec": {
   "display_name": "Python 3 (ipykernel)",
   "language": "python",
   "name": "python3"
  },
  "language_info": {
   "codemirror_mode": {
    "name": "ipython",
    "version": 3
   },
   "file_extension": ".py",
   "mimetype": "text/x-python",
   "name": "python",
   "nbconvert_exporter": "python",
   "pygments_lexer": "ipython3",
   "version": "3.8.5"
  },
  "source_map": [
   13,
   21,
   31,
   35
  ]
 },
 "nbformat": 4,
 "nbformat_minor": 5
}